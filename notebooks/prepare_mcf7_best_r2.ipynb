{
 "cells": [
  {
   "cell_type": "markdown",
   "metadata": {},
   "source": [
    "This file has been cleaned up following finetuning and pretraining and is specific for a dataset combination that worked to give a positive R^2 value.\n",
    "\n",
    "| Run Name                                           | R²    | Pearson | Description                                      | ATAC Data Source                                                                                  | RNA Data Source                                                                                   |\n",
    "|----------------------------------------------------|-------|---------|--------------------------------------------------|--------------------------------------------------------------------------------------------------|--------------------------------------------------------------------------------------------------|\n",
    "| training_from_finetune_lora_chr10_chr11_split_QATAC_multiome_diff_RNA_no_treatment | 0.567 | 0.011   | Single-cell ATAC sequencing of MCF-7 treated with estrogen and progesterone | [GSE154873](https://www.ncbi.nlm.nih.gov/geo/query/acc.cgi?acc=GSE154873) | [GSM6722730](https://www.ncbi.nlm.nih.gov/geo/query/acc.cgi?acc=GSM6722730) |\n",
    "\n",
    "| TSS Extension | TSS Used | RNA Normalisation      | ATAC Normalisation      | Leave-Out Chromosomes | Justification         | Notes                                      |\n",
    "|---------------|----------|-----------------------|------------------------|----------------------|----------------------|--------------------------------------------|\n",
    "| 300 bp        | Yes      | log10(TPM * 1e6 + 1) | log10(CPM * 1e5 + 1)  | chr10, chr11         | Recommendation by FuXi | First positive R² and a very high Spearman |\n"
   ]
  },
  {
   "cell_type": "code",
   "execution_count": null,
   "metadata": {},
   "outputs": [],
   "source": [
    "#%%\n",
    "from pathlib import Path\n",
    "\n",
    "import numpy as np\n",
    "import snapatac2 as snap\n",
    "from gcell._settings import get_setting\n",
    "\n",
    "annotation_dir = get_setting('annotation_dir')\n",
    "print(\"gcell currently using annotation directory:\", annotation_dir)"
   ]
  },
  {
   "cell_type": "markdown",
   "metadata": {},
   "source": [
    "wget \"http://catlas.org/catlas_downloads/humantissues/cCRE_hg38.tsv.gz\" for tutorial cCRE file.\n",
    "\n",
    "Followed by `gunzip` and renaming if desired."
   ]
  },
  {
   "cell_type": "code",
   "execution_count": null,
   "metadata": {},
   "outputs": [],
   "source": [
    "# Import necessary libraries\n",
    "import pandas as pd\n",
    "from pyranges import PyRanges as pr\n",
    "\n",
    "# Define column names for the cCRE dataset\n",
    "cols = [\"Chromosome\", \"Start\", \"End\", \"Name\", \"Score\", \"Strand\", \"SignalValue\", \"PValue\", \"QValue\", \"SummitOffset\", \"Color\", \"DNase\", \"Classification\"]\n",
    "\n",
    "# Load cCRE data into a pandas DataFrame\n",
    "cre = pd.read_csv('cCRE_hg38_tutorial.bed', sep='\\t', header=None, names=cols)\n",
    "\n",
    "# Keep only relevant columns for further processing\n",
    "cre = cre[[\"Chromosome\", \"Start\", \"End\"]]\n",
    "\n",
    "# Convert the DataFrame to a PyRanges object with 64-bit integer precision and sort genomic intervals\n",
    "cre = pr(cre, int64=True).sort()\n",
    "\n",
    "# Display the first few rows of the sorted PyRanges object\n",
    "cre.head()"
   ]
  },
  {
   "cell_type": "markdown",
   "metadata": {},
   "source": [
    "### Candidate Cis-Regulatory Elements\n",
    "Candidate cis-regulatory elements are genomic regions identified as having potential regulatory functions, such as enhancers or promoters, that control gene expression. The file being referenced (cCRE_hg38_tutorial.bed) contains information about these elements for the human genome (hg38 build).\n",
    "\n",
    "__What Has Been Done so Far?__\n",
    "1. Read in a cCRE file. (It's in a compressed from and separated by tabs) \n",
    "2. Renamed the columns and selected only the first three.\n",
    "3. Converted the Pandas Dataframe to a Pranges object that is commonly used for genomic data and workflows (e.g., finding overlaps, merging regions). \n",
    "4. Then sorted the Pyranges object by Chromosome and then Start position.\n",
    "5. Viewed first few lines to ensure all looks good."
   ]
  },
  {
   "cell_type": "markdown",
   "metadata": {},
   "source": [
    "ATAC_Counts file: https://www.ncbi.nlm.nih.gov/geo/download/?acc=GSE154873&format=file&file=GSE154873%5FMCF7%5Fmultiome%5FATAC%5Fcounts%2Etsv%2Egz\n",
    "\n",
    "> Will not be using RNA counts from same source as following finetuning yields negative R^2 values."
   ]
  },
  {
   "cell_type": "markdown",
   "metadata": {},
   "source": [
    "### ATAC-Seq File\n",
    "\n",
    "Peak accessibility file (.atac.bed) containing:  \n",
    "Peak coordinates (chr, start, end)  \n",
    "Normalized accessibility scores (aCPM, 10^5 scale factor) "
   ]
  },
  {
   "cell_type": "code",
   "execution_count": null,
   "metadata": {},
   "outputs": [],
   "source": [
    "import pandas as pd\n",
    "import numpy as np\n",
    "\n",
    "# Load ATAC counts\n",
    "atac_counts = pd.read_csv(\"GSE154873_MCF7_multiome_ATAC_counts.tsv\", sep=\"\\t\", index_col=0)\n",
    "\n",
    "# Step 1: Extract Chromosome, Start, and End from the index\n",
    "atac_counts.index = atac_counts.index.str.split(\"-\", expand=True)\n",
    "atac_counts.index.names = [\"Chromosome\", \"Start\", \"End\"]\n",
    "\n",
    "# Convert Start and End to integers for proper numerical operations\n",
    "atac_counts.index = atac_counts.index.set_levels([\n",
    "    atac_counts.index.levels[0],  # Chromosome remains as string\n",
    "    atac_counts.index.levels[1].astype(int),\n",
    "    atac_counts.index.levels[2].astype(int)\n",
    "])\n",
    "\n",
    "# Step 2: Filter for chromosomes chr1–chr22 and chrX\n",
    "valid_chromosomes = [\"chr\" + str(i) for i in range(1, 23)] + [\"chrX\"]\n",
    "filtered_atac_counts = atac_counts[atac_counts.index.get_level_values(\"Chromosome\").isin(valid_chromosomes)]\n",
    "\n",
    "# Step 3: Calculate total counts for each peak across all cells\n",
    "total_counts_per_peak = filtered_atac_counts.sum(axis=1)\n",
    "\n",
    "# Step 4: Convert to aCPM using log10 transformation\n",
    "acpm_values = np.log10(total_counts_per_peak / total_counts_per_peak.sum() * 1e5 + 1)\n",
    "\n",
    "# Step 5: Create a DataFrame with Chromosome, Start, End, and aCPM\n",
    "acpm_df = pd.DataFrame({\n",
    "    \"Chromosome\": filtered_atac_counts.index.get_level_values(\"Chromosome\"),\n",
    "    \"Start\": filtered_atac_counts.index.get_level_values(\"Start\"),\n",
    "    \"End\": filtered_atac_counts.index.get_level_values(\"End\"),\n",
    "    \"aCPM\": acpm_values.values\n",
    "})\n",
    "\n",
    "# Step 6: Save the resulting aCPM DataFrame to a file\n",
    "acpm_df.to_csv(\"atac_acpm_values.bed\", sep=\"\\t\", index=False, header=None)\n",
    "\n",
    "peaks = pr(acpm_df, int64=True)\n",
    "\n",
    "print(\"Filtered ATAC aCPM values saved as 'atac_acpm_values.bed'.\")"
   ]
  },
  {
   "cell_type": "markdown",
   "metadata": {},
   "source": [
    "### FuXi Note:\n",
    "For optimal zero-shot analysis, it is recommended to use a union set of peaks from both the new dataset and the original training peak sets *(i.e. the cre peaks defined above)* to minimize domain shift. However, in this tutorial we will simply perform finetuning using the new peak set from the 10x PBMC multiome data. The union peak set can be constructed as below. \n",
    "\n",
    "After that you should re-count the peak count matrix using fragment file, and when write out cell-type specific peaks, ideally remove all non-accessible peaks in each cell types."
   ]
  },
  {
   "cell_type": "code",
   "execution_count": null,
   "metadata": {},
   "outputs": [],
   "source": [
    "# Step 1: Find peaks that don't overlap with cCRE\n",
    "non_overlap_peaks = peaks.overlap(cre, invert=True)\n",
    "\n",
    "# Step 2: Concatenate non-overlapping peaks with cCRE to form a union set\n",
    "total_peaks = pd.concat([non_overlap_peaks.df, cre.df], ignore_index=True)\n",
    "\n",
    "# Convert the concatenated DataFrame back to PyRanges and sort it\n",
    "total_peaks = pr(total_peaks, int64=True).sort()\n",
    "\n",
    "# Step 3: Remove unwanted chromosomes (chrM, chrY, chrUn)\n",
    "total_peaks = total_peaks.df.query('Chromosome.str.startswith(\"chr\") & ~Chromosome.str.endswith(\"M\") & ~Chromosome.str.endswith(\"Y\") & ~Chromosome.str.startswith(\"chrUn\")')\n",
    "\n",
    "# Output the shape of the final peak set\n",
    "print(f\"Final peak set contains {total_peaks.shape[0]} peaks.\")\n",
    "\n",
    "# Step 4: Save the resulting union peak set to a file\n",
    "total_peaks.to_csv(\"union_peaks_MCF7_with_cre.bed\", sep=\"\\t\", index=False, header=False)\n",
    "print(\"Union peak set saved as 'union_peaks_MCF7_with_cre.bed'.\")"
   ]
  },
  {
   "cell_type": "markdown",
   "metadata": {},
   "source": [
    "### What is the Purpose of This?\n",
    "\n",
    "In this code, cre represents candidate cis-regulatory elements (genomic regions with potential regulatory roles), while peaks represents regions of open chromatin from the experimental data, inferred from ATAC-seq or other assays.\n",
    "\n",
    "The overlapping is done to identify non-overlapping peaks using:\n",
    "\n",
    "This step filters peaks that do not overlap with the cCRE regions. The purpose is to isolate peaks not previously annotated as regulatory elements, which may contain novel or unique regions worth further analysis.\n",
    "\n",
    "So now this total_peaks (or union set) variable contains the peaks in MCF7 dataset that don't overlap with cre, and cre."
   ]
  },
  {
   "cell_type": "markdown",
   "metadata": {},
   "source": [
    "### Peak Length Visualisation"
   ]
  },
  {
   "cell_type": "code",
   "execution_count": null,
   "metadata": {},
   "outputs": [],
   "source": [
    "import matplotlib.pyplot as plt\n",
    "import seaborn as sns\n",
    "\n",
    "# Create a figure with two subplots side by side (1 row, 2 columns)\n",
    "fig, (ax1, ax2) = plt.subplots(1, 2, figsize=(12, 4))\n",
    "\n",
    "# Plot the length distribution of MCF7 peaks (peak length = End - Start) on the first subplot\n",
    "sns.histplot(peaks.End - peaks.Start, ax=ax1)\n",
    "\n",
    "#or if using union set\n",
    "#sns.histplot(total_peaks.End - total_peaks.Start, ax=ax1)\n",
    "\n",
    "ax1.set_title('MCF7 Peaks Length Distribution')\n",
    "\n",
    "# Plot the length distribution of candidate cis-regulatory elements (CREs) on the second subplot\n",
    "sns.histplot(cre.End - cre.Start, ax=ax2)\n",
    "ax2.set_title('Training CRE Length Distribution')\n",
    "\n",
    "# Adjust the layout to prevent overlapping elements\n",
    "plt.tight_layout()"
   ]
  },
  {
   "cell_type": "markdown",
   "metadata": {},
   "source": [
    "### Library Visualisation"
   ]
  },
  {
   "cell_type": "code",
   "execution_count": null,
   "metadata": {},
   "outputs": [],
   "source": [
    "# Convert PyRanges object to a Pandas DataFrame\n",
    "peaks_df = peaks.df  \n",
    "\n",
    "# Count the number of peaks per chromosome\n",
    "chromosome_peak_counts = peaks_df.groupby('Chromosome', observed=False).size().to_dict()\n",
    "\n",
    "# Identify chromosomes with >100 peaks and total read count > 1M\n",
    "chromosomes_for_modeling = []\n",
    "print(\"Chromosomes with more than 100 peaks and total read count > 1M:\")\n",
    "\n",
    "# Iterate over each chromosome and check criteria\n",
    "for chrom, peak_count in chromosome_peak_counts.items():\n",
    "    if peak_count > 100:\n",
    "        # Calculate the total read count (library size) for the chromosome\n",
    "        libsize = peaks_df[peaks_df.Chromosome == chrom][\"Counts\"].sum()\n",
    "        \n",
    "        if libsize > 1_000_000:  # Library size threshold set to 1M for this dataset\n",
    "            chromosomes_for_modeling.append(chrom)\n",
    "            print(f\"{chrom}: peaks = {peak_count}, library size = {libsize}\")"
   ]
  },
  {
   "cell_type": "markdown",
   "metadata": {},
   "source": [
    "## 2. Export Training Data\n",
    "\n",
    "ATAC-Seq bed file previously prepared.\n",
    "\n",
    "### FuXi Note:\n",
    "Gene expression file (.rna.csv) containing:  \n",
    "Gene names  \n",
    "Normalized expression values (TPM, 10^6 scale factor)"
   ]
  },
  {
   "cell_type": "code",
   "execution_count": null,
   "metadata": {},
   "outputs": [],
   "source": [
    "import pandas as pd\n",
    "import numpy as np\n",
    "from pyranges import PyRanges as pr\n",
    "\n",
    "def process_atac_counts(input_file, output_file=\"atac_acpm_values.bed\"):\n",
    "    \"\"\"\n",
    "    Processes ATAC-seq count data to calculate average counts per million (aCPM)\n",
    "    and saves the results as a BED file.\n",
    "    \n",
    "    Parameters:\n",
    "        input_file (str): Path to the input ATAC count data file.\n",
    "        output_file (str): Path to the output BED file (default: 'atac_acpm_values.bed').\n",
    "        \n",
    "    Returns:\n",
    "        PyRanges: PyRanges object containing the processed aCPM values.\n",
    "    \"\"\"\n",
    "    # Load ATAC counts\n",
    "    atac_counts = pd.read_csv(input_file, sep=\"\\t\", index_col=0)\n",
    "\n",
    "    # Extract Chromosome, Start, and End from the index\n",
    "    atac_counts.index = atac_counts.index.str.split(\"-\", expand=True)\n",
    "    atac_counts.index.names = [\"Chromosome\", \"Start\", \"End\"]\n",
    "\n",
    "    # Convert Start and End to integers for proper numerical operations\n",
    "    atac_counts.index = atac_counts.index.set_levels([\n",
    "        atac_counts.index.levels[0],  # Chromosome remains as string\n",
    "        atac_counts.index.levels[1].astype(int),\n",
    "        atac_counts.index.levels[2].astype(int)\n",
    "    ])\n",
    "\n",
    "    # Filter for chromosomes chr1–chr22 and chrX\n",
    "    valid_chromosomes = [\"chr\" + str(i) for i in range(1, 23)] + [\"chrX\"]\n",
    "    filtered_atac_counts = atac_counts[atac_counts.index.get_level_values(\"Chromosome\").isin(valid_chromosomes)]\n",
    "\n",
    "    # Calculate total counts for each peak across all cells\n",
    "    total_counts_per_peak = filtered_atac_counts.sum(axis=1)\n",
    "\n",
    "    # Convert to aCPM using log10 transformation\n",
    "    acpm_values = np.log10(total_counts_per_peak / total_counts_per_peak.sum() * 1e5 + 1)\n",
    "\n",
    "    # Create a DataFrame with Chromosome, Start, End, and aCPM\n",
    "    acpm_df = pd.DataFrame({\n",
    "        \"Chromosome\": filtered_atac_counts.index.get_level_values(\"Chromosome\"),\n",
    "        \"Start\": filtered_atac_counts.index.get_level_values(\"Start\"),\n",
    "        \"End\": filtered_atac_counts.index.get_level_values(\"End\"),\n",
    "        \"aCPM\": acpm_values.values\n",
    "    })\n",
    "\n",
    "    # Save the resulting aCPM DataFrame to a file\n",
    "    acpm_df.to_csv(output_file, sep=\"\\t\", index=False, header=None)\n",
    "\n",
    "    print(f\"Filtered ATAC aCPM values saved as '{output_file}'.\")\n",
    "\n",
    "    # Return as PyRanges object for further use\n",
    "    return pr(acpm_df, int64=True)\n",
    "\n",
    "# Example usage\n",
    "peaks = process_atac_counts(\"GSE154873_MCF7_multiome_ATAC_counts.tsv\")"
   ]
  },
  {
   "cell_type": "code",
   "execution_count": null,
   "metadata": {},
   "outputs": [],
   "source": [
    "import matplotlib.pyplot as plt\n",
    "\n",
    "# Compute peak length by subtracting Start from End\n",
    "peaks[\"length\"] = peaks[\"End\"] - peaks[\"Start\"]\n",
    "\n",
    "# Create a scatter plot for aCPM vs peak length\n",
    "peaks.plot(\n",
    "    x='aCPM', \n",
    "    y='length', \n",
    "    kind='scatter', \n",
    "    s=2,  # Marker size\n",
    "    alpha=0.7,  # Transparency for better visualization\n",
    "    title=\"Scatter Plot of aCPM vs Peak Length\"\n",
    ")\n",
    "\n",
    "# Display the plot\n",
    "plt.xlabel(\"aCPM\")\n",
    "plt.ylabel(\"Peak Length\")\n",
    "plt.show()"
   ]
  },
  {
   "cell_type": "markdown",
   "metadata": {},
   "source": [
    "### Load RNA Data and Get Normalized TPM"
   ]
  },
  {
   "cell_type": "code",
   "execution_count": null,
   "metadata": {},
   "outputs": [],
   "source": [
    "import pandas as pd\n",
    "import numpy as np\n",
    "\n",
    "# Load the data\n",
    "df = pd.read_csv(\"GSE154873_MCF7_multiome_RNA_counts.tsv\", sep=\"\\t\", index_col=0)\n",
    "\n",
    "# Reset the index to move gene names into a column\n",
    "df.reset_index(inplace=True)\n",
    "df.rename(columns={\"index\": \"gene_name\"}, inplace=True)\n",
    "\n",
    "# Remove periods from gene names and remove duplicates\n",
    "df[\"gene_name\"] = df[\"gene_name\"].str.replace(\".\", \"\", regex=False)\n",
    "df = df.drop_duplicates(subset=\"gene_name\")\n",
    "\n",
    "# Sum the total counts for each gene across all samples\n",
    "total_counts_per_gene = df.iloc[:, 1:].sum(axis=1)\n",
    "\n",
    "# Apply the provided TPM formula\n",
    "df[\"TPM\"] = np.log10((total_counts_per_gene / total_counts_per_gene.sum()) * 1e6 + 1)\n",
    "\n",
    "# Keep only 'gene_name' and 'TPM' columns\n",
    "final_df = df[[\"gene_name\", \"TPM\"]]\n",
    "\n",
    "# Save to 'rna_tpm_values.csv'\n",
    "final_df.to_csv(\"rna_tpm_values.csv\", index=False)\n",
    "\n",
    "print(\"TPM calculation completed and saved as 'rna_tpm_values.csv'.\")"
   ]
  },
  {
   "cell_type": "markdown",
   "metadata": {},
   "source": [
    "## 3. Query motifs and save data as zarr files."
   ]
  },
  {
   "cell_type": "code",
   "execution_count": null,
   "metadata": {},
   "outputs": [],
   "source": [
    "# NOTE: tabix has to be >= 1.17\n",
    "! tabix --version"
   ]
  },
  {
   "cell_type": "code",
   "execution_count": null,
   "metadata": {},
   "outputs": [],
   "source": [
    "# Import the necessary libraries and modules\n",
    "import os\n",
    "from pathlib import Path\n",
    "\n",
    "# Import specific functions from the 'gcell._settings' module and 'preprocess_utils' module\n",
    "from gcell._settings import get_setting\n",
    "from preprocess_utils import (\n",
    "    add_atpm,        # Function to add ATPM (likely a type of data or calculation)\n",
    "    add_exp,         # Function to add expression data\n",
    "    create_peak_motif,  # Function to create peak motif data\n",
    "    download_motif,     # Function to download motif data\n",
    "    get_motif,          # Function to retrieve motif data\n",
    "    query_motif,        # Function to query motif data\n",
    ")\n",
    "\n",
    "# Get the annotation directory setting using the 'get_setting' function and convert it to a Path object\n",
    "annotation_dir = Path(get_setting('annotation_dir'))\n",
    "\n",
    "# Print the directory being used for annotations (retrieved from the configuration)\n",
    "print(\"gcell currently using annotation directory:\", annotation_dir)"
   ]
  },
  {
   "cell_type": "markdown",
   "metadata": {},
   "source": [
    "### Download motif bed file"
   ]
  },
  {
   "cell_type": "code",
   "execution_count": null,
   "metadata": {},
   "outputs": [],
   "source": [
    "motif_bed_url = \"https://resources.altius.org/~jvierstra/projects/motif-clustering/releases/v1.0/hg38.archetype_motifs.v1.0.bed.gz\"\n",
    "motif_bed_index_url = \"https://resources.altius.org/~jvierstra/projects/motif-clustering/releases/v1.0/hg38.archetype_motifs.v1.0.bed.gz.tbi\"\n",
    "\n",
    "\n",
    "if (\n",
    "    motif_bed_url\n",
    "    and motif_bed_index_url\n",
    "    and not (\n",
    "        (annotation_dir / \"hg38.archetype_motifs.v1.0.bed.gz\").exists()\n",
    "        or (annotation_dir / \"hg38.archetype_motifs.v1.0.bed.gz.tbi\").exists()\n",
    "    )\n",
    "):\n",
    "    download_motif(motif_bed_url, motif_bed_index_url, motif_dir=annotation_dir)\n",
    "    motif_bed = str(annotation_dir / \"hg38.archetype_motifs.v1.0.bed.gz\")\n",
    "else:\n",
    "    motif_bed = str(annotation_dir / \"hg38.archetype_motifs.v1.0.bed.gz\")"
   ]
  },
  {
   "cell_type": "markdown",
   "metadata": {},
   "source": [
    "### Query Motif"
   ]
  },
  {
   "cell_type": "code",
   "execution_count": null,
   "metadata": {},
   "outputs": [],
   "source": [
    "peak_bed = \"atac_acpm_values.bed\"  # Assuming peak files are named per chromosome\n",
    "\n",
    "if os.path.exists(peak_bed):  # Ensure the peak file exists\n",
    "        # Query motif file for the current chromosome's peak file\n",
    "        peaks_motif = query_motif(peak_bed, motif_bed)\n",
    "\n",
    "        # Process the queried motif data\n",
    "        motif_output = get_motif(peak_bed, peaks_motif)"
   ]
  },
  {
   "cell_type": "markdown",
   "metadata": {},
   "source": [
    "## 4. Create Peak Motif .Zarr File\n",
    "\n",
    "Create a peak x motif matrix stored in a zarr file."
   ]
  },
  {
   "cell_type": "code",
   "execution_count": null,
   "metadata": {},
   "outputs": [],
   "source": [
    "create_peak_motif(\"get_motif.bed\", \"get_preprocess_output.zarr\", peak_bed)"
   ]
  },
  {
   "cell_type": "markdown",
   "metadata": {},
   "source": [
    "### Add aCPM data to region x motif matrix"
   ]
  },
  {
   "cell_type": "code",
   "execution_count": null,
   "metadata": {},
   "outputs": [],
   "source": [
    "add_atpm(\n",
    "        \"get_preprocess_output.zarr\",\n",
    "        \"atac_acpm_values.bed\",\n",
    "        \"all_chrs\",\n",
    "    )"
   ]
  },
  {
   "cell_type": "markdown",
   "metadata": {},
   "source": [
    "### Add Expression and TSS Data to Region x Motif Matrix"
   ]
  },
  {
   "cell_type": "code",
   "execution_count": null,
   "metadata": {},
   "outputs": [],
   "source": [
    "add_exp(\n",
    "        \"get_preprocess_output.zarr\", \n",
    "        \"rna_tpm_values.csv\", \n",
    "        \"atac_acpm_values.bed\", \n",
    "        \"all_chrs\", \n",
    "        assembly=\"hg38\",\n",
    "        version=44,\n",
    "        extend_bp=300,  # Extend TSS region to 300bp upstream and downstream when overlapping with peaks\n",
    "        id_or_name=\"gene_name\",  # Use 'gene_name' from RNA data\n",
    "    )"
   ]
  },
  {
   "cell_type": "markdown",
   "metadata": {},
   "source": [
    "This has conclude the data processing steps."
   ]
  }
 ],
 "metadata": {
  "kernelspec": {
   "display_name": "Python 3 (ipykernel)",
   "language": "python",
   "name": "python3"
  },
  "language_info": {
   "codemirror_mode": {
    "name": "ipython",
    "version": 3
   },
   "file_extension": ".py",
   "mimetype": "text/x-python",
   "name": "python",
   "nbconvert_exporter": "python",
   "pygments_lexer": "ipython3",
   "version": "3.10.6"
  },
  "orig_nbformat": 4
 },
 "nbformat": 4,
 "nbformat_minor": 2
}
