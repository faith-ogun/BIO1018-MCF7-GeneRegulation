{
 "cells": [
  {
   "cell_type": "markdown",
   "metadata": {},
   "source": [
    " # Finetune a GET Model on MCF-7 Bulk Data (Leaving out chr1, on a uniform cell line)\n",
    "\n",
    "\n",
    " This tutorial demonstrates how to train a GET model to predict expression in ATAC-seq peaks using motif information. We'll cover:\n",
    "\n",
    " 1. Loading and configuring the model\n",
    "\n",
    " 2. Finetune from a pretrained expression prediction GET model\n",
    "\n",
    " 3. Perform various analysis using `gcell` package\n",
    "\n",
    "\n",
    "\n",
    " ## Setup\n",
    "\n",
    " First, let's import the necessary modules and set up our configuration.\n",
    " \n",
    " Note:\n",
    " If you run from a Mac, make sure you use the jupyter notebook rather than the VSCode interactive python editor as the later seems to have issue with multiple workers.\n",
    " If you run from Linux, both should work fine."
   ]
  },
  {
   "cell_type": "code",
   "execution_count": 1,
   "metadata": {},
   "outputs": [
    {
     "name": "stderr",
     "output_type": "stream",
     "text": [
      "Downloading file 'nr_motif_v1.pkl' from 'https://zenodo.org/record/14614892/files/nr_motif_v1.pkl?download=1' to '/home/users/u102501/.gcell_data/annotations'.\n"
     ]
    },
    {
     "name": "stdout",
     "output_type": "stream",
     "text": [
      "Downloading motif data...\n",
      "Extracting motif data...\n"
     ]
    },
    {
     "name": "stderr",
     "output_type": "stream",
     "text": [
      "Importing from timm.models.layers is deprecated, please import via timm.layers\n"
     ]
    }
   ],
   "source": [
    "from pathlib import Path\n",
    "\n",
    "import matplotlib.pyplot as plt\n",
    "import seaborn as sns\n",
    "from gcell.cell.celltype import GETHydraCellType\n",
    "\n",
    "from get_model.config.config import load_config\n",
    "from get_model.run_region import run_zarr as run\n"
   ]
  },
  {
   "cell_type": "markdown",
   "metadata": {},
   "source": [
    " ## Finetune Run 1\n",
    "\n",
    "\n",
    "\n",
    " We'll start by loading a predefined configuration and customizing it for our needs.\n",
    "\n",
    " The base configuration is in `get_model/config/finetune_tutorial_pbmc.yaml`"
   ]
  },
  {
   "cell_type": "markdown",
   "metadata": {},
   "source": [
    "> Note: In the paper, we mainly used binary ATAC signal trained model for motif interpretation analysis. As it's hard to say whether there are mutual causal relationship between transcription and accessibility. If accessibility is added to the model, potentially it will absorb some TF's effect to itself, thereby making the interpretation more difficult. However, if the goal is to represent the cell states as precisely as possible and use the model for other downstream tasks (e.g. enhancer target prediction), adding the accessibility signal is probably better."
   ]
  },
  {
   "cell_type": "code",
   "execution_count": 2,
   "metadata": {},
   "outputs": [
    {
     "name": "stdout",
     "output_type": "stream",
     "text": [
      "output path: /project/home/p200469/get_BIO1018/get_ML_output/finetune_all_chrs/training_from_finetune_lora_chr1_split_QATAC\n",
      "training for 50 epochs\n"
     ]
    }
   ],
   "source": [
    "cfg = load_config('finetune_tutorial_pbmc') # load the predefined finetune tutorial config\n",
    "cfg.stage = 'fit'\n",
    "cfg.run.run_name = 'training_from_finetune_lora_chr1_split_QATAC'\n",
    "cfg.dataset.quantitative_atac = True # We use binary ATAC signal for motif interpretation analysis\n",
    "\n",
    "cfg.dataset.zarr_path = \"/project/home/p200469/get_BIO1018/get_preprocess_output.zarr/\"\n",
    "cfg.dataset.celltypes = \"all_chrs\"\n",
    "\n",
    "# Set a unique project name for training on all chromosomes\n",
    "cfg.run.project_name = 'finetune_all_chrs'\n",
    "cfg.dataset.celltypes = \"all_chrs\"\n",
    "cfg.finetune.checkpoint = \"./checkpoint-best.pth\" # set the path to the pretrained checkpoint we want to finetune from\n",
    "cfg.dataset.leave_out_celltypes = '' # set the celltypes you want to leave out, '' here means no celltype leave out\n",
    "cfg.dataset.leave_out_chromosomes = 'chr1' # set the chromosomes you want to leave out, '' here means no chromosome leave out\n",
    "cfg.machine.num_devices=0 # use 0 for cpu training; >=1 for gpu training\n",
    "cfg.machine.batch_size=8 # batch size for training; check `nvidia-smi` to see the available GPU memory\n",
    "\n",
    "cfg.machine.output_dir = \"/project/home/p200469/get_BIO1018/get_ML_output\"\n",
    "cfg.training.epochs = 50\n",
    "\n",
    "cfg.training.val_check_interval = 5.0 \n",
    "\n",
    "print(f\"output path: {cfg.machine.output_dir}/{cfg.run.project_name}/{cfg.run.run_name}\")\n",
    "print(f\"training for {cfg.training.epochs} epochs\")"
   ]
  },
  {
   "cell_type": "markdown",
   "metadata": {},
   "source": [
    "Now we can start the finetuning"
   ]
  },
  {
   "cell_type": "code",
   "execution_count": 6,
   "metadata": {
    "vscode": {
     "languageId": "shellscript"
    }
   },
   "outputs": [
    {
     "name": "stdout",
     "output_type": "stream",
     "text": [
      "  % Total    % Received % Xferd  Average Speed   Time    Time     Time  Current\n",
      "                                 Dload  Upload   Total   Spent    Left  Speed\n",
      "100  975M  100  975M    0     0  27.0M      0  0:00:36  0:00:36 --:--:-- 27.2M   0  26.7M      0  0:00:36  0:00:18  0:00:18 26.7M\n"
     ]
    }
   ],
   "source": [
    "!curl -O https://2023-get-xf2217.s3.amazonaws.com/get_demo/checkpoints/regulatory_inference_checkpoint_fetal_adult/finetune_fetal_adult_leaveout_astrocyte/checkpoint-best.pth"
   ]
  },
  {
   "cell_type": "code",
   "execution_count": 7,
   "metadata": {},
   "outputs": [
    {
     "name": "stderr",
     "output_type": "stream",
     "text": [
      "Metric `SpearmanCorrcoef` will save all targets and predictions in the buffer. For large datasets, this may lead to large memory footprint.\n",
      "You are using `torch.load` with `weights_only=False` (the current default value), which uses the default pickle module implicitly. It is possible to construct malicious pickle data which will execute arbitrary code during unpickling (See https://github.com/pytorch/pytorch/blob/main/SECURITY.md#untrusted-models for more details). In a future release, the default value for `weights_only` will be flipped to `True`. This limits the functions that could be executed during unpickling. Arbitrary objects will no longer be allowed to be loaded via this mode unless they are explicitly allowlisted by the user via `torch.serialization.add_safe_globals`. We recommend you start setting `weights_only=True` for any use case where you don't have full control of the loaded file. Please open an issue on GitHub for any issues related to this experimental feature.\n"
     ]
    },
    {
     "name": "stdout",
     "output_type": "stream",
     "text": [
      "Load ckpt from ./checkpoint-best.pth\n",
      "Load state_dict by model_key = model\n"
     ]
    },
    {
     "name": "stderr",
     "output_type": "stream",
     "text": [
      "\u001b[34m\u001b[1mwandb\u001b[0m: Currently logged in as: \u001b[33mfaithogun\u001b[0m (\u001b[33mfaithogun-royal-college-of-surgeons-ireland-rcsi-\u001b[0m). Use \u001b[1m`wandb login --relogin`\u001b[0m to force relogin\n",
      "\u001b[34m\u001b[1mwandb\u001b[0m: Using wandb-core as the SDK backend.  Please refer to https://wandb.me/wandb-core for more information.\n"
     ]
    },
    {
     "data": {
      "text/html": [
       "Tracking run with wandb version 0.19.4"
      ],
      "text/plain": [
       "<IPython.core.display.HTML object>"
      ]
     },
     "metadata": {},
     "output_type": "display_data"
    },
    {
     "data": {
      "text/html": [
       "Run data is saved locally in <code>/project/home/p200469/get_BIO1018/get_ML_output/finetune_all_chrs/training_from_finetune_lora_chr1_split_QATAC/wandb/run-20250208_132840-ntkk86yc</code>"
      ],
      "text/plain": [
       "<IPython.core.display.HTML object>"
      ]
     },
     "metadata": {},
     "output_type": "display_data"
    },
    {
     "data": {
      "text/html": [
       "Syncing run <strong><a href='https://wandb.ai/faithogun-royal-college-of-surgeons-ireland-rcsi-/finetune_all_chrs/runs/ntkk86yc' target=\"_blank\">training_from_finetune_lora_chr1_split_QATAC</a></strong> to <a href='https://wandb.ai/faithogun-royal-college-of-surgeons-ireland-rcsi-/finetune_all_chrs' target=\"_blank\">Weights & Biases</a> (<a href='https://wandb.me/developer-guide' target=\"_blank\">docs</a>)<br>"
      ],
      "text/plain": [
       "<IPython.core.display.HTML object>"
      ]
     },
     "metadata": {},
     "output_type": "display_data"
    },
    {
     "data": {
      "text/html": [
       " View project at <a href='https://wandb.ai/faithogun-royal-college-of-surgeons-ireland-rcsi-/finetune_all_chrs' target=\"_blank\">https://wandb.ai/faithogun-royal-college-of-surgeons-ireland-rcsi-/finetune_all_chrs</a>"
      ],
      "text/plain": [
       "<IPython.core.display.HTML object>"
      ]
     },
     "metadata": {},
     "output_type": "display_data"
    },
    {
     "data": {
      "text/html": [
       " View run at <a href='https://wandb.ai/faithogun-royal-college-of-surgeons-ireland-rcsi-/finetune_all_chrs/runs/ntkk86yc' target=\"_blank\">https://wandb.ai/faithogun-royal-college-of-surgeons-ireland-rcsi-/finetune_all_chrs/runs/ntkk86yc</a>"
      ],
      "text/plain": [
       "<IPython.core.display.HTML object>"
      ]
     },
     "metadata": {},
     "output_type": "display_data"
    },
    {
     "name": "stderr",
     "output_type": "stream",
     "text": [
      "100%|██████████████████████████████████████████████████████████████████████████| 1/1 [00:00<00:00,  7.44it/s]\n"
     ]
    },
    {
     "name": "stdout",
     "output_type": "stream",
     "text": [
      "Leave out chromosomes: ['chr1']\n",
      "Input chromosomes: ['chr10', 'chr11', 'chr12', 'chr13', 'chr14', 'chr15', 'chr16', 'chr17', 'chr18', 'chr19', 'chr2', 'chr20', 'chr21', 'chr22', 'chr3', 'chr4', 'chr5', 'chr6', 'chr7', 'chr8', 'chr9', 'chrX']\n"
     ]
    },
    {
     "name": "stderr",
     "output_type": "stream",
     "text": [
      "100%|██████████████████████████████████████████████████████████████████████████| 1/1 [00:00<00:00, 72.86it/s]"
     ]
    },
    {
     "name": "stdout",
     "output_type": "stream",
     "text": [
      "Leave out chromosomes: ['chr1']\n",
      "Input chromosomes: ['chr1']\n"
     ]
    },
    {
     "name": "stderr",
     "output_type": "stream",
     "text": [
      "\n"
     ]
    },
    {
     "data": {
      "application/vnd.jupyter.widget-view+json": {
       "model_id": "48468684c1104026bbebb9364c030150",
       "version_major": 2,
       "version_minor": 0
      },
      "text/plain": [
       "Sanity Checking: |                                                                     | 0/? [00:00<?, ?it/s]"
      ]
     },
     "metadata": {},
     "output_type": "display_data"
    },
    {
     "name": "stderr",
     "output_type": "stream",
     "text": [
      "/opt/conda/lib/python3.12/site-packages/lightning/pytorch/loops/fit_loop.py:310: The number of training batches (19) is smaller than the logging interval Trainer(log_every_n_steps=25). Set a lower value for log_every_n_steps if you want to see logs for the training epoch.\n"
     ]
    },
    {
     "data": {
      "application/vnd.jupyter.widget-view+json": {
       "model_id": "9aee8ffaa0f34312a6e2dd50476fdb33",
       "version_major": 2,
       "version_minor": 0
      },
      "text/plain": [
       "Training: |                                                                            | 0/? [00:00<?, ?it/s]"
      ]
     },
     "metadata": {},
     "output_type": "display_data"
    },
    {
     "data": {
      "application/vnd.jupyter.widget-view+json": {
       "model_id": "934b9c5a7579482eb4c47603fd722efd",
       "version_major": 2,
       "version_minor": 0
      },
      "text/plain": [
       "Validation: |                                                                          | 0/? [00:00<?, ?it/s]"
      ]
     },
     "metadata": {},
     "output_type": "display_data"
    },
    {
     "data": {
      "application/vnd.jupyter.widget-view+json": {
       "model_id": "ab958bfbe45d4b05a8908aac9c8aa91b",
       "version_major": 2,
       "version_minor": 0
      },
      "text/plain": [
       "Validation: |                                                                          | 0/? [00:00<?, ?it/s]"
      ]
     },
     "metadata": {},
     "output_type": "display_data"
    },
    {
     "data": {
      "application/vnd.jupyter.widget-view+json": {
       "model_id": "69a6d62729cd492baac87c9f3932a681",
       "version_major": 2,
       "version_minor": 0
      },
      "text/plain": [
       "Validation: |                                                                          | 0/? [00:00<?, ?it/s]"
      ]
     },
     "metadata": {},
     "output_type": "display_data"
    },
    {
     "data": {
      "application/vnd.jupyter.widget-view+json": {
       "model_id": "528b570fecd44c80af63ab7c2c4e34fb",
       "version_major": 2,
       "version_minor": 0
      },
      "text/plain": [
       "Validation: |                                                                          | 0/? [00:00<?, ?it/s]"
      ]
     },
     "metadata": {},
     "output_type": "display_data"
    },
    {
     "data": {
      "application/vnd.jupyter.widget-view+json": {
       "model_id": "252317e5058940fa9ef5891b5236c00a",
       "version_major": 2,
       "version_minor": 0
      },
      "text/plain": [
       "Validation: |                                                                          | 0/? [00:00<?, ?it/s]"
      ]
     },
     "metadata": {},
     "output_type": "display_data"
    },
    {
     "data": {
      "application/vnd.jupyter.widget-view+json": {
       "model_id": "5b3909ef281d4f2ba8238bbbd9778639",
       "version_major": 2,
       "version_minor": 0
      },
      "text/plain": [
       "Validation: |                                                                          | 0/? [00:00<?, ?it/s]"
      ]
     },
     "metadata": {},
     "output_type": "display_data"
    },
    {
     "data": {
      "application/vnd.jupyter.widget-view+json": {
       "model_id": "5ecd7f12a09b4f698d455412cd295089",
       "version_major": 2,
       "version_minor": 0
      },
      "text/plain": [
       "Validation: |                                                                          | 0/? [00:00<?, ?it/s]"
      ]
     },
     "metadata": {},
     "output_type": "display_data"
    },
    {
     "data": {
      "application/vnd.jupyter.widget-view+json": {
       "model_id": "2fd2aa6831b244cba31a4364b0d29520",
       "version_major": 2,
       "version_minor": 0
      },
      "text/plain": [
       "Validation: |                                                                          | 0/? [00:00<?, ?it/s]"
      ]
     },
     "metadata": {},
     "output_type": "display_data"
    },
    {
     "data": {
      "application/vnd.jupyter.widget-view+json": {
       "model_id": "ae74e85a680645d2bd8da331b64db295",
       "version_major": 2,
       "version_minor": 0
      },
      "text/plain": [
       "Validation: |                                                                          | 0/? [00:00<?, ?it/s]"
      ]
     },
     "metadata": {},
     "output_type": "display_data"
    },
    {
     "data": {
      "application/vnd.jupyter.widget-view+json": {
       "model_id": "0b4c2496390d440e9aa4dedb103bbbe7",
       "version_major": 2,
       "version_minor": 0
      },
      "text/plain": [
       "Validation: |                                                                          | 0/? [00:00<?, ?it/s]"
      ]
     },
     "metadata": {},
     "output_type": "display_data"
    },
    {
     "data": {
      "application/vnd.jupyter.widget-view+json": {
       "model_id": "64529394418f4a5f87d9031b551ee6a6",
       "version_major": 2,
       "version_minor": 0
      },
      "text/plain": [
       "Validation: |                                                                          | 0/? [00:00<?, ?it/s]"
      ]
     },
     "metadata": {},
     "output_type": "display_data"
    },
    {
     "data": {
      "application/vnd.jupyter.widget-view+json": {
       "model_id": "8a628eee0bf243dfb04e6ce2e4b877f6",
       "version_major": 2,
       "version_minor": 0
      },
      "text/plain": [
       "Validation: |                                                                          | 0/? [00:00<?, ?it/s]"
      ]
     },
     "metadata": {},
     "output_type": "display_data"
    },
    {
     "data": {
      "application/vnd.jupyter.widget-view+json": {
       "model_id": "e43963ec982043ada7c8b267df883474",
       "version_major": 2,
       "version_minor": 0
      },
      "text/plain": [
       "Validation: |                                                                          | 0/? [00:00<?, ?it/s]"
      ]
     },
     "metadata": {},
     "output_type": "display_data"
    },
    {
     "data": {
      "application/vnd.jupyter.widget-view+json": {
       "model_id": "78e8fb01b82c4381bd20fe4c66070b5d",
       "version_major": 2,
       "version_minor": 0
      },
      "text/plain": [
       "Validation: |                                                                          | 0/? [00:00<?, ?it/s]"
      ]
     },
     "metadata": {},
     "output_type": "display_data"
    },
    {
     "data": {
      "application/vnd.jupyter.widget-view+json": {
       "model_id": "6f2aa20a4adb46c985222856cb4db38d",
       "version_major": 2,
       "version_minor": 0
      },
      "text/plain": [
       "Validation: |                                                                          | 0/? [00:00<?, ?it/s]"
      ]
     },
     "metadata": {},
     "output_type": "display_data"
    },
    {
     "data": {
      "application/vnd.jupyter.widget-view+json": {
       "model_id": "af98803e1a7f46e1a2c5b3818e9f650d",
       "version_major": 2,
       "version_minor": 0
      },
      "text/plain": [
       "Validation: |                                                                          | 0/? [00:00<?, ?it/s]"
      ]
     },
     "metadata": {},
     "output_type": "display_data"
    },
    {
     "data": {
      "application/vnd.jupyter.widget-view+json": {
       "model_id": "cc51e79edf48427b9ab0f71b1ab7e0c4",
       "version_major": 2,
       "version_minor": 0
      },
      "text/plain": [
       "Validation: |                                                                          | 0/? [00:00<?, ?it/s]"
      ]
     },
     "metadata": {},
     "output_type": "display_data"
    },
    {
     "data": {
      "application/vnd.jupyter.widget-view+json": {
       "model_id": "381a050bb39d497c832ef6c2fbb3d76e",
       "version_major": 2,
       "version_minor": 0
      },
      "text/plain": [
       "Validation: |                                                                          | 0/? [00:00<?, ?it/s]"
      ]
     },
     "metadata": {},
     "output_type": "display_data"
    },
    {
     "data": {
      "application/vnd.jupyter.widget-view+json": {
       "model_id": "b4a6277a43ea4fbcb8dee445ae20b226",
       "version_major": 2,
       "version_minor": 0
      },
      "text/plain": [
       "Validation: |                                                                          | 0/? [00:00<?, ?it/s]"
      ]
     },
     "metadata": {},
     "output_type": "display_data"
    },
    {
     "data": {
      "application/vnd.jupyter.widget-view+json": {
       "model_id": "1f3dab81c78c46a0ad7749ec958c300f",
       "version_major": 2,
       "version_minor": 0
      },
      "text/plain": [
       "Validation: |                                                                          | 0/? [00:00<?, ?it/s]"
      ]
     },
     "metadata": {},
     "output_type": "display_data"
    },
    {
     "data": {
      "application/vnd.jupyter.widget-view+json": {
       "model_id": "f85a6f82e46e4f8e820d973c69bec6f3",
       "version_major": 2,
       "version_minor": 0
      },
      "text/plain": [
       "Validation: |                                                                          | 0/? [00:00<?, ?it/s]"
      ]
     },
     "metadata": {},
     "output_type": "display_data"
    },
    {
     "data": {
      "application/vnd.jupyter.widget-view+json": {
       "model_id": "2e8a3594fa7c4616b614d0fd944fa4ca",
       "version_major": 2,
       "version_minor": 0
      },
      "text/plain": [
       "Validation: |                                                                          | 0/? [00:00<?, ?it/s]"
      ]
     },
     "metadata": {},
     "output_type": "display_data"
    },
    {
     "data": {
      "application/vnd.jupyter.widget-view+json": {
       "model_id": "1a5b381ea89f4ddca11ab08a328b30a5",
       "version_major": 2,
       "version_minor": 0
      },
      "text/plain": [
       "Validation: |                                                                          | 0/? [00:00<?, ?it/s]"
      ]
     },
     "metadata": {},
     "output_type": "display_data"
    },
    {
     "data": {
      "application/vnd.jupyter.widget-view+json": {
       "model_id": "17d92f516dca4ab097222765a0a48eb1",
       "version_major": 2,
       "version_minor": 0
      },
      "text/plain": [
       "Validation: |                                                                          | 0/? [00:00<?, ?it/s]"
      ]
     },
     "metadata": {},
     "output_type": "display_data"
    },
    {
     "data": {
      "application/vnd.jupyter.widget-view+json": {
       "model_id": "b838e6194f514dc5b95892647f7e61d7",
       "version_major": 2,
       "version_minor": 0
      },
      "text/plain": [
       "Validation: |                                                                          | 0/? [00:00<?, ?it/s]"
      ]
     },
     "metadata": {},
     "output_type": "display_data"
    },
    {
     "data": {
      "application/vnd.jupyter.widget-view+json": {
       "model_id": "7c4b8357231c4929966d77466d1dc2e9",
       "version_major": 2,
       "version_minor": 0
      },
      "text/plain": [
       "Validation: |                                                                          | 0/? [00:00<?, ?it/s]"
      ]
     },
     "metadata": {},
     "output_type": "display_data"
    },
    {
     "data": {
      "application/vnd.jupyter.widget-view+json": {
       "model_id": "dc5fa62c63814ab68507b974a72386cf",
       "version_major": 2,
       "version_minor": 0
      },
      "text/plain": [
       "Validation: |                                                                          | 0/? [00:00<?, ?it/s]"
      ]
     },
     "metadata": {},
     "output_type": "display_data"
    },
    {
     "data": {
      "application/vnd.jupyter.widget-view+json": {
       "model_id": "d93eed0f470141deaeb05b7c265b0a84",
       "version_major": 2,
       "version_minor": 0
      },
      "text/plain": [
       "Validation: |                                                                          | 0/? [00:00<?, ?it/s]"
      ]
     },
     "metadata": {},
     "output_type": "display_data"
    },
    {
     "data": {
      "application/vnd.jupyter.widget-view+json": {
       "model_id": "5edf046bba0c44a9be53ec4f0b3fa996",
       "version_major": 2,
       "version_minor": 0
      },
      "text/plain": [
       "Validation: |                                                                          | 0/? [00:00<?, ?it/s]"
      ]
     },
     "metadata": {},
     "output_type": "display_data"
    },
    {
     "data": {
      "application/vnd.jupyter.widget-view+json": {
       "model_id": "005b64525c234d5591973b6626128f60",
       "version_major": 2,
       "version_minor": 0
      },
      "text/plain": [
       "Validation: |                                                                          | 0/? [00:00<?, ?it/s]"
      ]
     },
     "metadata": {},
     "output_type": "display_data"
    },
    {
     "data": {
      "application/vnd.jupyter.widget-view+json": {
       "model_id": "d87f706d2db84556afb5d88334fbdb6b",
       "version_major": 2,
       "version_minor": 0
      },
      "text/plain": [
       "Validation: |                                                                          | 0/? [00:00<?, ?it/s]"
      ]
     },
     "metadata": {},
     "output_type": "display_data"
    },
    {
     "data": {
      "application/vnd.jupyter.widget-view+json": {
       "model_id": "e15afbc7992b401baba7de7abddf8e85",
       "version_major": 2,
       "version_minor": 0
      },
      "text/plain": [
       "Validation: |                                                                          | 0/? [00:00<?, ?it/s]"
      ]
     },
     "metadata": {},
     "output_type": "display_data"
    },
    {
     "data": {
      "application/vnd.jupyter.widget-view+json": {
       "model_id": "737351b759f545689adbf9ae5a2b1796",
       "version_major": 2,
       "version_minor": 0
      },
      "text/plain": [
       "Validation: |                                                                          | 0/? [00:00<?, ?it/s]"
      ]
     },
     "metadata": {},
     "output_type": "display_data"
    },
    {
     "data": {
      "application/vnd.jupyter.widget-view+json": {
       "model_id": "f3eaeda633774275bdb6bcb72a1b6039",
       "version_major": 2,
       "version_minor": 0
      },
      "text/plain": [
       "Validation: |                                                                          | 0/? [00:00<?, ?it/s]"
      ]
     },
     "metadata": {},
     "output_type": "display_data"
    },
    {
     "data": {
      "application/vnd.jupyter.widget-view+json": {
       "model_id": "260917dab81341b791cd210026442eec",
       "version_major": 2,
       "version_minor": 0
      },
      "text/plain": [
       "Validation: |                                                                          | 0/? [00:00<?, ?it/s]"
      ]
     },
     "metadata": {},
     "output_type": "display_data"
    },
    {
     "data": {
      "application/vnd.jupyter.widget-view+json": {
       "model_id": "01fab4ba4a4944859f1533ddbb1e8e94",
       "version_major": 2,
       "version_minor": 0
      },
      "text/plain": [
       "Validation: |                                                                          | 0/? [00:00<?, ?it/s]"
      ]
     },
     "metadata": {},
     "output_type": "display_data"
    },
    {
     "data": {
      "application/vnd.jupyter.widget-view+json": {
       "model_id": "f7a9773534ea4d15a58e59f490d69928",
       "version_major": 2,
       "version_minor": 0
      },
      "text/plain": [
       "Validation: |                                                                          | 0/? [00:00<?, ?it/s]"
      ]
     },
     "metadata": {},
     "output_type": "display_data"
    },
    {
     "data": {
      "application/vnd.jupyter.widget-view+json": {
       "model_id": "faa69a38920c49df9fbfc2ed68b17d39",
       "version_major": 2,
       "version_minor": 0
      },
      "text/plain": [
       "Validation: |                                                                          | 0/? [00:00<?, ?it/s]"
      ]
     },
     "metadata": {},
     "output_type": "display_data"
    },
    {
     "data": {
      "application/vnd.jupyter.widget-view+json": {
       "model_id": "8014fbf2f50f4695904131d1aafb00a8",
       "version_major": 2,
       "version_minor": 0
      },
      "text/plain": [
       "Validation: |                                                                          | 0/? [00:00<?, ?it/s]"
      ]
     },
     "metadata": {},
     "output_type": "display_data"
    },
    {
     "data": {
      "application/vnd.jupyter.widget-view+json": {
       "model_id": "33169e176330457180daac9a42819f0f",
       "version_major": 2,
       "version_minor": 0
      },
      "text/plain": [
       "Validation: |                                                                          | 0/? [00:00<?, ?it/s]"
      ]
     },
     "metadata": {},
     "output_type": "display_data"
    },
    {
     "data": {
      "application/vnd.jupyter.widget-view+json": {
       "model_id": "da018cb5a354440dbb2297b516de8f11",
       "version_major": 2,
       "version_minor": 0
      },
      "text/plain": [
       "Validation: |                                                                          | 0/? [00:00<?, ?it/s]"
      ]
     },
     "metadata": {},
     "output_type": "display_data"
    },
    {
     "data": {
      "application/vnd.jupyter.widget-view+json": {
       "model_id": "fe2a4d077827404c809f21635740492d",
       "version_major": 2,
       "version_minor": 0
      },
      "text/plain": [
       "Validation: |                                                                          | 0/? [00:00<?, ?it/s]"
      ]
     },
     "metadata": {},
     "output_type": "display_data"
    },
    {
     "data": {
      "application/vnd.jupyter.widget-view+json": {
       "model_id": "5d19ef10bec8475caa5728d1e2f8a7bc",
       "version_major": 2,
       "version_minor": 0
      },
      "text/plain": [
       "Validation: |                                                                          | 0/? [00:00<?, ?it/s]"
      ]
     },
     "metadata": {},
     "output_type": "display_data"
    },
    {
     "data": {
      "application/vnd.jupyter.widget-view+json": {
       "model_id": "1bf82d5546c143de80b89a3d7b3af09e",
       "version_major": 2,
       "version_minor": 0
      },
      "text/plain": [
       "Validation: |                                                                          | 0/? [00:00<?, ?it/s]"
      ]
     },
     "metadata": {},
     "output_type": "display_data"
    },
    {
     "data": {
      "application/vnd.jupyter.widget-view+json": {
       "model_id": "ff62b724312b4a9893ad9e2487ea5e3e",
       "version_major": 2,
       "version_minor": 0
      },
      "text/plain": [
       "Validation: |                                                                          | 0/? [00:00<?, ?it/s]"
      ]
     },
     "metadata": {},
     "output_type": "display_data"
    },
    {
     "data": {
      "application/vnd.jupyter.widget-view+json": {
       "model_id": "a3da28d2dd104aa6abe25f4bd43854cc",
       "version_major": 2,
       "version_minor": 0
      },
      "text/plain": [
       "Validation: |                                                                          | 0/? [00:00<?, ?it/s]"
      ]
     },
     "metadata": {},
     "output_type": "display_data"
    },
    {
     "data": {
      "application/vnd.jupyter.widget-view+json": {
       "model_id": "51e4912b5fa34a3199fed42ec4f04c83",
       "version_major": 2,
       "version_minor": 0
      },
      "text/plain": [
       "Validation: |                                                                          | 0/? [00:00<?, ?it/s]"
      ]
     },
     "metadata": {},
     "output_type": "display_data"
    },
    {
     "data": {
      "application/vnd.jupyter.widget-view+json": {
       "model_id": "936e7344430840f389bd69c589a43689",
       "version_major": 2,
       "version_minor": 0
      },
      "text/plain": [
       "Validation: |                                                                          | 0/? [00:00<?, ?it/s]"
      ]
     },
     "metadata": {},
     "output_type": "display_data"
    },
    {
     "data": {
      "application/vnd.jupyter.widget-view+json": {
       "model_id": "e84acef6be2a4849a3674302e354dfb2",
       "version_major": 2,
       "version_minor": 0
      },
      "text/plain": [
       "Validation: |                                                                          | 0/? [00:00<?, ?it/s]"
      ]
     },
     "metadata": {},
     "output_type": "display_data"
    },
    {
     "data": {
      "application/vnd.jupyter.widget-view+json": {
       "model_id": "99b5db13aba84deca1f09f6b1cc475ca",
       "version_major": 2,
       "version_minor": 0
      },
      "text/plain": [
       "Validation: |                                                                          | 0/? [00:00<?, ?it/s]"
      ]
     },
     "metadata": {},
     "output_type": "display_data"
    },
    {
     "data": {
      "application/vnd.jupyter.widget-view+json": {
       "model_id": "1727310d56104e7a9f81e6986651cdef",
       "version_major": 2,
       "version_minor": 0
      },
      "text/plain": [
       "Validation: |                                                                          | 0/? [00:00<?, ?it/s]"
      ]
     },
     "metadata": {},
     "output_type": "display_data"
    },
    {
     "data": {
      "application/vnd.jupyter.widget-view+json": {
       "model_id": "4d13146972e24762a16455227fd7877d",
       "version_major": 2,
       "version_minor": 0
      },
      "text/plain": [
       "Validation: |                                                                          | 0/? [00:00<?, ?it/s]"
      ]
     },
     "metadata": {},
     "output_type": "display_data"
    },
    {
     "data": {
      "application/vnd.jupyter.widget-view+json": {
       "model_id": "9542831f9a1c4583bf51f7aa8c79b0bb",
       "version_major": 2,
       "version_minor": 0
      },
      "text/plain": [
       "Validation: |                                                                          | 0/? [00:00<?, ?it/s]"
      ]
     },
     "metadata": {},
     "output_type": "display_data"
    },
    {
     "data": {
      "application/vnd.jupyter.widget-view+json": {
       "model_id": "bd9aef28fd0b45139f9b3f82ebe26424",
       "version_major": 2,
       "version_minor": 0
      },
      "text/plain": [
       "Validation: |                                                                          | 0/? [00:00<?, ?it/s]"
      ]
     },
     "metadata": {},
     "output_type": "display_data"
    },
    {
     "data": {
      "application/vnd.jupyter.widget-view+json": {
       "model_id": "0b28e415aa234ab78ef3687f2e552747",
       "version_major": 2,
       "version_minor": 0
      },
      "text/plain": [
       "Validation: |                                                                          | 0/? [00:00<?, ?it/s]"
      ]
     },
     "metadata": {},
     "output_type": "display_data"
    },
    {
     "data": {
      "application/vnd.jupyter.widget-view+json": {
       "model_id": "08c89511636a4ba8a0c7aca5a877d230",
       "version_major": 2,
       "version_minor": 0
      },
      "text/plain": [
       "Validation: |                                                                          | 0/? [00:00<?, ?it/s]"
      ]
     },
     "metadata": {},
     "output_type": "display_data"
    },
    {
     "data": {
      "application/vnd.jupyter.widget-view+json": {
       "model_id": "e837981554bc4d83910664d93d0c72a5",
       "version_major": 2,
       "version_minor": 0
      },
      "text/plain": [
       "Validation: |                                                                          | 0/? [00:00<?, ?it/s]"
      ]
     },
     "metadata": {},
     "output_type": "display_data"
    },
    {
     "data": {
      "application/vnd.jupyter.widget-view+json": {
       "model_id": "6afc378bdeac48afb5781bb3e26676f1",
       "version_major": 2,
       "version_minor": 0
      },
      "text/plain": [
       "Validation: |                                                                          | 0/? [00:00<?, ?it/s]"
      ]
     },
     "metadata": {},
     "output_type": "display_data"
    },
    {
     "data": {
      "application/vnd.jupyter.widget-view+json": {
       "model_id": "bb02b90199654e2eb66bd968f960b046",
       "version_major": 2,
       "version_minor": 0
      },
      "text/plain": [
       "Validation: |                                                                          | 0/? [00:00<?, ?it/s]"
      ]
     },
     "metadata": {},
     "output_type": "display_data"
    },
    {
     "data": {
      "application/vnd.jupyter.widget-view+json": {
       "model_id": "227b1d72d36f4f82beafa002e552bc0f",
       "version_major": 2,
       "version_minor": 0
      },
      "text/plain": [
       "Validation: |                                                                          | 0/? [00:00<?, ?it/s]"
      ]
     },
     "metadata": {},
     "output_type": "display_data"
    },
    {
     "data": {
      "application/vnd.jupyter.widget-view+json": {
       "model_id": "6e5c733e024f4b8cbb65624af8af15f6",
       "version_major": 2,
       "version_minor": 0
      },
      "text/plain": [
       "Validation: |                                                                          | 0/? [00:00<?, ?it/s]"
      ]
     },
     "metadata": {},
     "output_type": "display_data"
    },
    {
     "data": {
      "application/vnd.jupyter.widget-view+json": {
       "model_id": "618b0cca839b48be96ec97ddf92128f5",
       "version_major": 2,
       "version_minor": 0
      },
      "text/plain": [
       "Validation: |                                                                          | 0/? [00:00<?, ?it/s]"
      ]
     },
     "metadata": {},
     "output_type": "display_data"
    },
    {
     "data": {
      "application/vnd.jupyter.widget-view+json": {
       "model_id": "23c611656b364f4394c8ac2c5216e129",
       "version_major": 2,
       "version_minor": 0
      },
      "text/plain": [
       "Validation: |                                                                          | 0/? [00:00<?, ?it/s]"
      ]
     },
     "metadata": {},
     "output_type": "display_data"
    },
    {
     "data": {
      "application/vnd.jupyter.widget-view+json": {
       "model_id": "3f7f58708fe346fc933c34d4d25724e6",
       "version_major": 2,
       "version_minor": 0
      },
      "text/plain": [
       "Validation: |                                                                          | 0/? [00:00<?, ?it/s]"
      ]
     },
     "metadata": {},
     "output_type": "display_data"
    },
    {
     "data": {
      "application/vnd.jupyter.widget-view+json": {
       "model_id": "c0067873c57740978c754a3eba8cf657",
       "version_major": 2,
       "version_minor": 0
      },
      "text/plain": [
       "Validation: |                                                                          | 0/? [00:00<?, ?it/s]"
      ]
     },
     "metadata": {},
     "output_type": "display_data"
    },
    {
     "data": {
      "application/vnd.jupyter.widget-view+json": {
       "model_id": "8a1673b7f8a84c55bfb1630d82923929",
       "version_major": 2,
       "version_minor": 0
      },
      "text/plain": [
       "Validation: |                                                                          | 0/? [00:00<?, ?it/s]"
      ]
     },
     "metadata": {},
     "output_type": "display_data"
    },
    {
     "data": {
      "application/vnd.jupyter.widget-view+json": {
       "model_id": "7b16cc4fdcf54fd181443abeef98e904",
       "version_major": 2,
       "version_minor": 0
      },
      "text/plain": [
       "Validation: |                                                                          | 0/? [00:00<?, ?it/s]"
      ]
     },
     "metadata": {},
     "output_type": "display_data"
    },
    {
     "data": {
      "application/vnd.jupyter.widget-view+json": {
       "model_id": "9cbda00e9e964ed8b0bfa22777700522",
       "version_major": 2,
       "version_minor": 0
      },
      "text/plain": [
       "Validation: |                                                                          | 0/? [00:00<?, ?it/s]"
      ]
     },
     "metadata": {},
     "output_type": "display_data"
    },
    {
     "data": {
      "application/vnd.jupyter.widget-view+json": {
       "model_id": "b6360a2ff7f445ea815d172ac41f110e",
       "version_major": 2,
       "version_minor": 0
      },
      "text/plain": [
       "Validation: |                                                                          | 0/? [00:00<?, ?it/s]"
      ]
     },
     "metadata": {},
     "output_type": "display_data"
    },
    {
     "data": {
      "application/vnd.jupyter.widget-view+json": {
       "model_id": "d74315e1b13f48f1801c22cf59861539",
       "version_major": 2,
       "version_minor": 0
      },
      "text/plain": [
       "Validation: |                                                                          | 0/? [00:00<?, ?it/s]"
      ]
     },
     "metadata": {},
     "output_type": "display_data"
    },
    {
     "data": {
      "application/vnd.jupyter.widget-view+json": {
       "model_id": "8dc7f740449f4689aa49b213e4ec0a3d",
       "version_major": 2,
       "version_minor": 0
      },
      "text/plain": [
       "Validation: |                                                                          | 0/? [00:00<?, ?it/s]"
      ]
     },
     "metadata": {},
     "output_type": "display_data"
    },
    {
     "data": {
      "application/vnd.jupyter.widget-view+json": {
       "model_id": "270ecbe0b3ab408da2568c596ff28d94",
       "version_major": 2,
       "version_minor": 0
      },
      "text/plain": [
       "Validation: |                                                                          | 0/? [00:00<?, ?it/s]"
      ]
     },
     "metadata": {},
     "output_type": "display_data"
    },
    {
     "data": {
      "application/vnd.jupyter.widget-view+json": {
       "model_id": "d435ca0d34514326be5442d6697a0789",
       "version_major": 2,
       "version_minor": 0
      },
      "text/plain": [
       "Validation: |                                                                          | 0/? [00:00<?, ?it/s]"
      ]
     },
     "metadata": {},
     "output_type": "display_data"
    },
    {
     "data": {
      "application/vnd.jupyter.widget-view+json": {
       "model_id": "75a06861ec864b8290e1ca83c1e41517",
       "version_major": 2,
       "version_minor": 0
      },
      "text/plain": [
       "Validation: |                                                                          | 0/? [00:00<?, ?it/s]"
      ]
     },
     "metadata": {},
     "output_type": "display_data"
    },
    {
     "data": {
      "application/vnd.jupyter.widget-view+json": {
       "model_id": "e81f919851b944a8ab4a90c1876a2122",
       "version_major": 2,
       "version_minor": 0
      },
      "text/plain": [
       "Validation: |                                                                          | 0/? [00:00<?, ?it/s]"
      ]
     },
     "metadata": {},
     "output_type": "display_data"
    },
    {
     "data": {
      "application/vnd.jupyter.widget-view+json": {
       "model_id": "a36527bbaa71428a9afa56c4730f45d7",
       "version_major": 2,
       "version_minor": 0
      },
      "text/plain": [
       "Validation: |                                                                          | 0/? [00:00<?, ?it/s]"
      ]
     },
     "metadata": {},
     "output_type": "display_data"
    },
    {
     "data": {
      "application/vnd.jupyter.widget-view+json": {
       "model_id": "3287b1eead0b4aacaa674aef24106aeb",
       "version_major": 2,
       "version_minor": 0
      },
      "text/plain": [
       "Validation: |                                                          | 0/? [00:00<?, ?it/s]"
      ]
     },
     "metadata": {},
     "output_type": "display_data"
    },
    {
     "data": {
      "application/vnd.jupyter.widget-view+json": {
       "model_id": "7deefe5c54324421af0f754dee8dc05e",
       "version_major": 2,
       "version_minor": 0
      },
      "text/plain": [
       "Validation: |                                                          | 0/? [00:00<?, ?it/s]"
      ]
     },
     "metadata": {},
     "output_type": "display_data"
    },
    {
     "data": {
      "application/vnd.jupyter.widget-view+json": {
       "model_id": "03b09ade572a40a1b0a10af12018e02f",
       "version_major": 2,
       "version_minor": 0
      },
      "text/plain": [
       "Validation: |                                                          | 0/? [00:00<?, ?it/s]"
      ]
     },
     "metadata": {},
     "output_type": "display_data"
    },
    {
     "data": {
      "application/vnd.jupyter.widget-view+json": {
       "model_id": "fc2e80bee50945dfbaee17d95e3f6850",
       "version_major": 2,
       "version_minor": 0
      },
      "text/plain": [
       "Validation: |                                                          | 0/? [00:00<?, ?it/s]"
      ]
     },
     "metadata": {},
     "output_type": "display_data"
    },
    {
     "data": {
      "application/vnd.jupyter.widget-view+json": {
       "model_id": "036e4ff2bb8c43df94c8541e6ef5ad5a",
       "version_major": 2,
       "version_minor": 0
      },
      "text/plain": [
       "Validation: |                                                          | 0/? [00:00<?, ?it/s]"
      ]
     },
     "metadata": {},
     "output_type": "display_data"
    },
    {
     "data": {
      "application/vnd.jupyter.widget-view+json": {
       "model_id": "99693c14cd5d4161bf92cba3a1f4f9f8",
       "version_major": 2,
       "version_minor": 0
      },
      "text/plain": [
       "Validation: |                                                          | 0/? [00:00<?, ?it/s]"
      ]
     },
     "metadata": {},
     "output_type": "display_data"
    },
    {
     "data": {
      "application/vnd.jupyter.widget-view+json": {
       "model_id": "e56f0cba9f4f4862a9cd48214a955d93",
       "version_major": 2,
       "version_minor": 0
      },
      "text/plain": [
       "Validation: |                                                          | 0/? [00:00<?, ?it/s]"
      ]
     },
     "metadata": {},
     "output_type": "display_data"
    },
    {
     "data": {
      "application/vnd.jupyter.widget-view+json": {
       "model_id": "85001af95cbc48308de0559c50639161",
       "version_major": 2,
       "version_minor": 0
      },
      "text/plain": [
       "Validation: |                                                          | 0/? [00:00<?, ?it/s]"
      ]
     },
     "metadata": {},
     "output_type": "display_data"
    },
    {
     "data": {
      "application/vnd.jupyter.widget-view+json": {
       "model_id": "2021f2497b72481e91150e98b8ea19ed",
       "version_major": 2,
       "version_minor": 0
      },
      "text/plain": [
       "Validation: |                                                          | 0/? [00:00<?, ?it/s]"
      ]
     },
     "metadata": {},
     "output_type": "display_data"
    },
    {
     "data": {
      "application/vnd.jupyter.widget-view+json": {
       "model_id": "b69a932cefe746649c83185d1254dd67",
       "version_major": 2,
       "version_minor": 0
      },
      "text/plain": [
       "Validation: |                                                          | 0/? [00:00<?, ?it/s]"
      ]
     },
     "metadata": {},
     "output_type": "display_data"
    },
    {
     "data": {
      "application/vnd.jupyter.widget-view+json": {
       "model_id": "ff33b3dd5c5b4504b57c2004beab66b9",
       "version_major": 2,
       "version_minor": 0
      },
      "text/plain": [
       "Validation: |                                                          | 0/? [00:00<?, ?it/s]"
      ]
     },
     "metadata": {},
     "output_type": "display_data"
    },
    {
     "data": {
      "application/vnd.jupyter.widget-view+json": {
       "model_id": "3c03f789c1d74f9fa254d6978755ffd5",
       "version_major": 2,
       "version_minor": 0
      },
      "text/plain": [
       "Validation: |                                                          | 0/? [00:00<?, ?it/s]"
      ]
     },
     "metadata": {},
     "output_type": "display_data"
    },
    {
     "data": {
      "application/vnd.jupyter.widget-view+json": {
       "model_id": "2ab2ebf1810541658ae31ac78871a118",
       "version_major": 2,
       "version_minor": 0
      },
      "text/plain": [
       "Validation: |                                                          | 0/? [00:00<?, ?it/s]"
      ]
     },
     "metadata": {},
     "output_type": "display_data"
    },
    {
     "data": {
      "application/vnd.jupyter.widget-view+json": {
       "model_id": "a57fa966ae284e5386c0934f566bcf11",
       "version_major": 2,
       "version_minor": 0
      },
      "text/plain": [
       "Validation: |                                                          | 0/? [00:00<?, ?it/s]"
      ]
     },
     "metadata": {},
     "output_type": "display_data"
    },
    {
     "data": {
      "application/vnd.jupyter.widget-view+json": {
       "model_id": "9ce22d5d75634a039efb9e11b925140b",
       "version_major": 2,
       "version_minor": 0
      },
      "text/plain": [
       "Validation: |                                                          | 0/? [00:00<?, ?it/s]"
      ]
     },
     "metadata": {},
     "output_type": "display_data"
    },
    {
     "data": {
      "application/vnd.jupyter.widget-view+json": {
       "model_id": "977f1271409649d49912b9d4861d58d2",
       "version_major": 2,
       "version_minor": 0
      },
      "text/plain": [
       "Validation: |                                                          | 0/? [00:00<?, ?it/s]"
      ]
     },
     "metadata": {},
     "output_type": "display_data"
    },
    {
     "data": {
      "application/vnd.jupyter.widget-view+json": {
       "model_id": "81ee8625fffc4f34808c0d185d518e8b",
       "version_major": 2,
       "version_minor": 0
      },
      "text/plain": [
       "Validation: |                                                          | 0/? [00:00<?, ?it/s]"
      ]
     },
     "metadata": {},
     "output_type": "display_data"
    },
    {
     "data": {
      "application/vnd.jupyter.widget-view+json": {
       "model_id": "627b5a4f6a3d4e178c4a68313ca01cf9",
       "version_major": 2,
       "version_minor": 0
      },
      "text/plain": [
       "Validation: |                                                          | 0/? [00:00<?, ?it/s]"
      ]
     },
     "metadata": {},
     "output_type": "display_data"
    },
    {
     "data": {
      "application/vnd.jupyter.widget-view+json": {
       "model_id": "57b661e6061a483985d08403f52f3664",
       "version_major": 2,
       "version_minor": 0
      },
      "text/plain": [
       "Validation: |                                                          | 0/? [00:00<?, ?it/s]"
      ]
     },
     "metadata": {},
     "output_type": "display_data"
    },
    {
     "data": {
      "application/vnd.jupyter.widget-view+json": {
       "model_id": "d15840dfa684410288ca7cb7a44bb276",
       "version_major": 2,
       "version_minor": 0
      },
      "text/plain": [
       "Validation: |                                                          | 0/? [00:00<?, ?it/s]"
      ]
     },
     "metadata": {},
     "output_type": "display_data"
    },
    {
     "data": {
      "application/vnd.jupyter.widget-view+json": {
       "model_id": "b981a00b8e04404185da1787a2266b29",
       "version_major": 2,
       "version_minor": 0
      },
      "text/plain": [
       "Validation: |                                                          | 0/? [00:00<?, ?it/s]"
      ]
     },
     "metadata": {},
     "output_type": "display_data"
    },
    {
     "data": {
      "application/vnd.jupyter.widget-view+json": {
       "model_id": "c80dc689586a4e329b705cf9a9d5298a",
       "version_major": 2,
       "version_minor": 0
      },
      "text/plain": [
       "Validation: |                                                          | 0/? [00:00<?, ?it/s]"
      ]
     },
     "metadata": {},
     "output_type": "display_data"
    },
    {
     "data": {
      "application/vnd.jupyter.widget-view+json": {
       "model_id": "5beedf268e8a4bd08659a4b7b23e316d",
       "version_major": 2,
       "version_minor": 0
      },
      "text/plain": [
       "Validation: |                                                          | 0/? [00:00<?, ?it/s]"
      ]
     },
     "metadata": {},
     "output_type": "display_data"
    },
    {
     "data": {
      "application/vnd.jupyter.widget-view+json": {
       "model_id": "c1ade4bd41b64b9580d431580da7a933",
       "version_major": 2,
       "version_minor": 0
      },
      "text/plain": [
       "Validation: |                                                          | 0/? [00:00<?, ?it/s]"
      ]
     },
     "metadata": {},
     "output_type": "display_data"
    },
    {
     "data": {
      "application/vnd.jupyter.widget-view+json": {
       "model_id": "a76b23a5bf204774bb31ba244a59ca00",
       "version_major": 2,
       "version_minor": 0
      },
      "text/plain": [
       "Validation: |                                                          | 0/? [00:00<?, ?it/s]"
      ]
     },
     "metadata": {},
     "output_type": "display_data"
    },
    {
     "data": {
      "application/vnd.jupyter.widget-view+json": {
       "model_id": "b7d612106fdc420988918294584488f4",
       "version_major": 2,
       "version_minor": 0
      },
      "text/plain": [
       "Validation: |                                                          | 0/? [00:00<?, ?it/s]"
      ]
     },
     "metadata": {},
     "output_type": "display_data"
    },
    {
     "data": {
      "application/vnd.jupyter.widget-view+json": {
       "model_id": "707b57a40a5d473fa3e02e1d16215734",
       "version_major": 2,
       "version_minor": 0
      },
      "text/plain": [
       "Validation: |                                                          | 0/? [00:00<?, ?it/s]"
      ]
     },
     "metadata": {},
     "output_type": "display_data"
    },
    {
     "data": {
      "application/vnd.jupyter.widget-view+json": {
       "model_id": "b3ef8a0808f94c599040b373005531f6",
       "version_major": 2,
       "version_minor": 0
      },
      "text/plain": [
       "Validation: |                                                          | 0/? [00:00<?, ?it/s]"
      ]
     },
     "metadata": {},
     "output_type": "display_data"
    },
    {
     "data": {
      "application/vnd.jupyter.widget-view+json": {
       "model_id": "140e900a80c348de977cb3db42841a6e",
       "version_major": 2,
       "version_minor": 0
      },
      "text/plain": [
       "Validation: |                                                          | 0/? [00:00<?, ?it/s]"
      ]
     },
     "metadata": {},
     "output_type": "display_data"
    },
    {
     "data": {
      "application/vnd.jupyter.widget-view+json": {
       "model_id": "8dcff96cd8ab4d20b875cf785945abc2",
       "version_major": 2,
       "version_minor": 0
      },
      "text/plain": [
       "Validation: |                                                          | 0/? [00:00<?, ?it/s]"
      ]
     },
     "metadata": {},
     "output_type": "display_data"
    },
    {
     "data": {
      "application/vnd.jupyter.widget-view+json": {
       "model_id": "01b26343dd924b0e8c2b54dbb7ea785e",
       "version_major": 2,
       "version_minor": 0
      },
      "text/plain": [
       "Validation: |                                                          | 0/? [00:00<?, ?it/s]"
      ]
     },
     "metadata": {},
     "output_type": "display_data"
    },
    {
     "data": {
      "application/vnd.jupyter.widget-view+json": {
       "model_id": "5ea233b0f35d4ae69cb8486ac44e4892",
       "version_major": 2,
       "version_minor": 0
      },
      "text/plain": [
       "Validation: |                                                          | 0/? [00:00<?, ?it/s]"
      ]
     },
     "metadata": {},
     "output_type": "display_data"
    },
    {
     "data": {
      "application/vnd.jupyter.widget-view+json": {
       "model_id": "d4a3fd71732e4f75adff99f628db4b09",
       "version_major": 2,
       "version_minor": 0
      },
      "text/plain": [
       "Validation: |                                                          | 0/? [00:00<?, ?it/s]"
      ]
     },
     "metadata": {},
     "output_type": "display_data"
    },
    {
     "data": {
      "application/vnd.jupyter.widget-view+json": {
       "model_id": "b4902297fa3a49b792ed8ccba76f1d24",
       "version_major": 2,
       "version_minor": 0
      },
      "text/plain": [
       "Validation: |                                                          | 0/? [00:00<?, ?it/s]"
      ]
     },
     "metadata": {},
     "output_type": "display_data"
    },
    {
     "data": {
      "application/vnd.jupyter.widget-view+json": {
       "model_id": "b9e96f99ca574a28a96e5b78d4bf649a",
       "version_major": 2,
       "version_minor": 0
      },
      "text/plain": [
       "Validation: |                                                          | 0/? [00:00<?, ?it/s]"
      ]
     },
     "metadata": {},
     "output_type": "display_data"
    },
    {
     "data": {
      "application/vnd.jupyter.widget-view+json": {
       "model_id": "087da449bbce46588441a243ef6c819a",
       "version_major": 2,
       "version_minor": 0
      },
      "text/plain": [
       "Validation: |                                                          | 0/? [00:00<?, ?it/s]"
      ]
     },
     "metadata": {},
     "output_type": "display_data"
    },
    {
     "data": {
      "application/vnd.jupyter.widget-view+json": {
       "model_id": "99822452722b468ca132570e14eae421",
       "version_major": 2,
       "version_minor": 0
      },
      "text/plain": [
       "Validation: |                                                          | 0/? [00:00<?, ?it/s]"
      ]
     },
     "metadata": {},
     "output_type": "display_data"
    },
    {
     "data": {
      "application/vnd.jupyter.widget-view+json": {
       "model_id": "74dd690a09b5406eae85e75d2e6cb9da",
       "version_major": 2,
       "version_minor": 0
      },
      "text/plain": [
       "Validation: |                                                          | 0/? [00:00<?, ?it/s]"
      ]
     },
     "metadata": {},
     "output_type": "display_data"
    },
    {
     "data": {
      "application/vnd.jupyter.widget-view+json": {
       "model_id": "eb1d2a26605e40eca9f8bb95eab4612b",
       "version_major": 2,
       "version_minor": 0
      },
      "text/plain": [
       "Validation: |                                                          | 0/? [00:00<?, ?it/s]"
      ]
     },
     "metadata": {},
     "output_type": "display_data"
    },
    {
     "data": {
      "application/vnd.jupyter.widget-view+json": {
       "model_id": "d68142934a8848819ac84f60dc1952ed",
       "version_major": 2,
       "version_minor": 0
      },
      "text/plain": [
       "Validation: |                                                          | 0/? [00:00<?, ?it/s]"
      ]
     },
     "metadata": {},
     "output_type": "display_data"
    },
    {
     "data": {
      "application/vnd.jupyter.widget-view+json": {
       "model_id": "2523e5e6f2a3443d98a87faea62d8cc8",
       "version_major": 2,
       "version_minor": 0
      },
      "text/plain": [
       "Validation: |                                                          | 0/? [00:00<?, ?it/s]"
      ]
     },
     "metadata": {},
     "output_type": "display_data"
    },
    {
     "data": {
      "application/vnd.jupyter.widget-view+json": {
       "model_id": "36d093ce4b85412ba74e2ace7f45e04e",
       "version_major": 2,
       "version_minor": 0
      },
      "text/plain": [
       "Validation: |                                                          | 0/? [00:00<?, ?it/s]"
      ]
     },
     "metadata": {},
     "output_type": "display_data"
    },
    {
     "data": {
      "application/vnd.jupyter.widget-view+json": {
       "model_id": "d3e58911118c489b810ab7109cd93e69",
       "version_major": 2,
       "version_minor": 0
      },
      "text/plain": [
       "Validation: |                                                          | 0/? [00:00<?, ?it/s]"
      ]
     },
     "metadata": {},
     "output_type": "display_data"
    },
    {
     "data": {
      "application/vnd.jupyter.widget-view+json": {
       "model_id": "c3ede1d080314b9f99f6300d00ef1bc5",
       "version_major": 2,
       "version_minor": 0
      },
      "text/plain": [
       "Validation: |                                                          | 0/? [00:00<?, ?it/s]"
      ]
     },
     "metadata": {},
     "output_type": "display_data"
    },
    {
     "data": {
      "application/vnd.jupyter.widget-view+json": {
       "model_id": "2588c97aaad04d5c96c8523589841622",
       "version_major": 2,
       "version_minor": 0
      },
      "text/plain": [
       "Validation: |                                                          | 0/? [00:00<?, ?it/s]"
      ]
     },
     "metadata": {},
     "output_type": "display_data"
    },
    {
     "data": {
      "application/vnd.jupyter.widget-view+json": {
       "model_id": "35a349e824364076a2ab2bf357b6f551",
       "version_major": 2,
       "version_minor": 0
      },
      "text/plain": [
       "Validation: |                                                          | 0/? [00:00<?, ?it/s]"
      ]
     },
     "metadata": {},
     "output_type": "display_data"
    },
    {
     "data": {
      "application/vnd.jupyter.widget-view+json": {
       "model_id": "560b84319bc245c3aa9005448833660b",
       "version_major": 2,
       "version_minor": 0
      },
      "text/plain": [
       "Validation: |                                                          | 0/? [00:00<?, ?it/s]"
      ]
     },
     "metadata": {},
     "output_type": "display_data"
    },
    {
     "data": {
      "application/vnd.jupyter.widget-view+json": {
       "model_id": "efebc88ca28346bb89c61786a90727b9",
       "version_major": 2,
       "version_minor": 0
      },
      "text/plain": [
       "Validation: |                                                          | 0/? [00:00<?, ?it/s]"
      ]
     },
     "metadata": {},
     "output_type": "display_data"
    },
    {
     "data": {
      "application/vnd.jupyter.widget-view+json": {
       "model_id": "57882578b59f49c2aef321c926786077",
       "version_major": 2,
       "version_minor": 0
      },
      "text/plain": [
       "Validation: |                                                          | 0/? [00:00<?, ?it/s]"
      ]
     },
     "metadata": {},
     "output_type": "display_data"
    },
    {
     "data": {
      "application/vnd.jupyter.widget-view+json": {
       "model_id": "befb0475057c4896a522130e2482d294",
       "version_major": 2,
       "version_minor": 0
      },
      "text/plain": [
       "Validation: |                                                          | 0/? [00:00<?, ?it/s]"
      ]
     },
     "metadata": {},
     "output_type": "display_data"
    },
    {
     "data": {
      "application/vnd.jupyter.widget-view+json": {
       "model_id": "3872114ced8b47eea441bc0831c5bf1b",
       "version_major": 2,
       "version_minor": 0
      },
      "text/plain": [
       "Validation: |                                                          | 0/? [00:00<?, ?it/s]"
      ]
     },
     "metadata": {},
     "output_type": "display_data"
    },
    {
     "data": {
      "application/vnd.jupyter.widget-view+json": {
       "model_id": "fea1a9ca60b8460fa8857c0964ed385b",
       "version_major": 2,
       "version_minor": 0
      },
      "text/plain": [
       "Validation: |                                                          | 0/? [00:00<?, ?it/s]"
      ]
     },
     "metadata": {},
     "output_type": "display_data"
    },
    {
     "data": {
      "application/vnd.jupyter.widget-view+json": {
       "model_id": "907a7ab12ffa45c7938958f0d23399a2",
       "version_major": 2,
       "version_minor": 0
      },
      "text/plain": [
       "Validation: |                                                          | 0/? [00:00<?, ?it/s]"
      ]
     },
     "metadata": {},
     "output_type": "display_data"
    },
    {
     "data": {
      "application/vnd.jupyter.widget-view+json": {
       "model_id": "22194ddf6b1c4d589b64357227146014",
       "version_major": 2,
       "version_minor": 0
      },
      "text/plain": [
       "Validation: |                                                          | 0/? [00:00<?, ?it/s]"
      ]
     },
     "metadata": {},
     "output_type": "display_data"
    },
    {
     "data": {
      "application/vnd.jupyter.widget-view+json": {
       "model_id": "ee16c452ba8744748a355e8de457896f",
       "version_major": 2,
       "version_minor": 0
      },
      "text/plain": [
       "Validation: |                                                          | 0/? [00:00<?, ?it/s]"
      ]
     },
     "metadata": {},
     "output_type": "display_data"
    },
    {
     "data": {
      "application/vnd.jupyter.widget-view+json": {
       "model_id": "866034459cfd4d11a6c1c4e9538d8282",
       "version_major": 2,
       "version_minor": 0
      },
      "text/plain": [
       "Validation: |                                                          | 0/? [00:00<?, ?it/s]"
      ]
     },
     "metadata": {},
     "output_type": "display_data"
    },
    {
     "data": {
      "application/vnd.jupyter.widget-view+json": {
       "model_id": "2409515a847840ebb6409635ff35d5a9",
       "version_major": 2,
       "version_minor": 0
      },
      "text/plain": [
       "Validation: |                                                          | 0/? [00:00<?, ?it/s]"
      ]
     },
     "metadata": {},
     "output_type": "display_data"
    },
    {
     "data": {
      "application/vnd.jupyter.widget-view+json": {
       "model_id": "d4f7f177a0a4484c8d12e3a1f099bb01",
       "version_major": 2,
       "version_minor": 0
      },
      "text/plain": [
       "Validation: |                                                          | 0/? [00:00<?, ?it/s]"
      ]
     },
     "metadata": {},
     "output_type": "display_data"
    },
    {
     "data": {
      "application/vnd.jupyter.widget-view+json": {
       "model_id": "f7030912ff2943bc8927e50181116d4f",
       "version_major": 2,
       "version_minor": 0
      },
      "text/plain": [
       "Validation: |                                                          | 0/? [00:00<?, ?it/s]"
      ]
     },
     "metadata": {},
     "output_type": "display_data"
    },
    {
     "data": {
      "application/vnd.jupyter.widget-view+json": {
       "model_id": "5434d2fb1660467182368dbb24a8eb68",
       "version_major": 2,
       "version_minor": 0
      },
      "text/plain": [
       "Validation: |                                                          | 0/? [00:00<?, ?it/s]"
      ]
     },
     "metadata": {},
     "output_type": "display_data"
    },
    {
     "data": {
      "application/vnd.jupyter.widget-view+json": {
       "model_id": "044c237ce1594e028ec9c020ca97aa3d",
       "version_major": 2,
       "version_minor": 0
      },
      "text/plain": [
       "Validation: |                                                          | 0/? [00:00<?, ?it/s]"
      ]
     },
     "metadata": {},
     "output_type": "display_data"
    },
    {
     "data": {
      "application/vnd.jupyter.widget-view+json": {
       "model_id": "6ae4633a9d0a42239dab3af5b875f153",
       "version_major": 2,
       "version_minor": 0
      },
      "text/plain": [
       "Validation: |                                                          | 0/? [00:00<?, ?it/s]"
      ]
     },
     "metadata": {},
     "output_type": "display_data"
    },
    {
     "data": {
      "application/vnd.jupyter.widget-view+json": {
       "model_id": "f84b68020ead4333896fe96f2d4b7c1a",
       "version_major": 2,
       "version_minor": 0
      },
      "text/plain": [
       "Validation: |                                                          | 0/? [00:00<?, ?it/s]"
      ]
     },
     "metadata": {},
     "output_type": "display_data"
    },
    {
     "data": {
      "application/vnd.jupyter.widget-view+json": {
       "model_id": "387f4c9f2fd349a89712e6f9c773b593",
       "version_major": 2,
       "version_minor": 0
      },
      "text/plain": [
       "Validation: |                                                          | 0/? [00:00<?, ?it/s]"
      ]
     },
     "metadata": {},
     "output_type": "display_data"
    },
    {
     "data": {
      "application/vnd.jupyter.widget-view+json": {
       "model_id": "e277e1019d5148c59e8a45f00ceb1a87",
       "version_major": 2,
       "version_minor": 0
      },
      "text/plain": [
       "Validation: |                                                          | 0/? [00:00<?, ?it/s]"
      ]
     },
     "metadata": {},
     "output_type": "display_data"
    },
    {
     "data": {
      "application/vnd.jupyter.widget-view+json": {
       "model_id": "2caed1562b164cbda54da810fe289fc8",
       "version_major": 2,
       "version_minor": 0
      },
      "text/plain": [
       "Validation: |                                                          | 0/? [00:00<?, ?it/s]"
      ]
     },
     "metadata": {},
     "output_type": "display_data"
    },
    {
     "data": {
      "application/vnd.jupyter.widget-view+json": {
       "model_id": "533df4fd71764e979606ac7255f138b0",
       "version_major": 2,
       "version_minor": 0
      },
      "text/plain": [
       "Validation: |                                                          | 0/? [00:00<?, ?it/s]"
      ]
     },
     "metadata": {},
     "output_type": "display_data"
    },
    {
     "data": {
      "application/vnd.jupyter.widget-view+json": {
       "model_id": "204118b2df9d447aad0e7093d1437f8e",
       "version_major": 2,
       "version_minor": 0
      },
      "text/plain": [
       "Validation: |                                                          | 0/? [00:00<?, ?it/s]"
      ]
     },
     "metadata": {},
     "output_type": "display_data"
    },
    {
     "data": {
      "application/vnd.jupyter.widget-view+json": {
       "model_id": "d3e90b708a9c44949f4800795fc1dfba",
       "version_major": 2,
       "version_minor": 0
      },
      "text/plain": [
       "Validation: |                                                          | 0/? [00:00<?, ?it/s]"
      ]
     },
     "metadata": {},
     "output_type": "display_data"
    },
    {
     "data": {
      "application/vnd.jupyter.widget-view+json": {
       "model_id": "f90ff0f7a71b48e98912c920bf460318",
       "version_major": 2,
       "version_minor": 0
      },
      "text/plain": [
       "Validation: |                                                          | 0/? [00:00<?, ?it/s]"
      ]
     },
     "metadata": {},
     "output_type": "display_data"
    },
    {
     "data": {
      "application/vnd.jupyter.widget-view+json": {
       "model_id": "878a6350f2ab45f6aed5b0b3fe0d4ae4",
       "version_major": 2,
       "version_minor": 0
      },
      "text/plain": [
       "Validation: |                                                          | 0/? [00:00<?, ?it/s]"
      ]
     },
     "metadata": {},
     "output_type": "display_data"
    },
    {
     "data": {
      "application/vnd.jupyter.widget-view+json": {
       "model_id": "c853ad7493b949f689da0c0a39643b69",
       "version_major": 2,
       "version_minor": 0
      },
      "text/plain": [
       "Validation: |                                                          | 0/? [00:00<?, ?it/s]"
      ]
     },
     "metadata": {},
     "output_type": "display_data"
    },
    {
     "data": {
      "application/vnd.jupyter.widget-view+json": {
       "model_id": "8e5101b00ed7424f92916cf45fcd6d28",
       "version_major": 2,
       "version_minor": 0
      },
      "text/plain": [
       "Validation: |                                                          | 0/? [00:00<?, ?it/s]"
      ]
     },
     "metadata": {},
     "output_type": "display_data"
    },
    {
     "data": {
      "application/vnd.jupyter.widget-view+json": {
       "model_id": "435212898bd84c9bbdc578a1e6919be4",
       "version_major": 2,
       "version_minor": 0
      },
      "text/plain": [
       "Validation: |                                                          | 0/? [00:00<?, ?it/s]"
      ]
     },
     "metadata": {},
     "output_type": "display_data"
    },
    {
     "data": {
      "text/html": [],
      "text/plain": [
       "<IPython.core.display.HTML object>"
      ]
     },
     "metadata": {},
     "output_type": "display_data"
    },
    {
     "data": {
      "text/html": [
       "<br>    <style><br>        .wandb-row {<br>            display: flex;<br>            flex-direction: row;<br>            flex-wrap: wrap;<br>            justify-content: flex-start;<br>            width: 100%;<br>        }<br>        .wandb-col {<br>            display: flex;<br>            flex-direction: column;<br>            flex-basis: 100%;<br>            flex: 1;<br>            padding: 10px;<br>        }<br>    </style><br><div class=\"wandb-row\"><div class=\"wandb-col\"><h3>Run history:</h3><br/><table class=\"wandb\"><tr><td>epoch</td><td>▁▁▂▂▂▂▃▃▃▃▃▃▃▄▄▄▄▄▄▅▅▅▅▅▆▆▆▆▆▆▇▇▇▇▇▇▇███</td></tr><tr><td>exp_pearson</td><td>▁▇▅▅▇▆▇▆▅▄█▄▆▆▆█▇▇▆▆▅▅▆▅▆▅▅▆▄▄▅▅▄▄▄▄▄▄▅▄</td></tr><tr><td>exp_r2</td><td>▁▃▇▆▅█▇▇▅▅▅▅▄▄▄▄▃▂▄▄▃▃▄▃▃▅▃▄▂▂▂▂▂▂▁▁▁▂▂▂</td></tr><tr><td>exp_spearman</td><td>▅▃▁▄▅▅▇▇▇▇▇▇▇▇▇▇█▇██▇█▇▇██▇█▇█▇██▇█▇▇▇█▇</td></tr><tr><td>train_exp_loss</td><td>██▃▇▇▆▇█▆▆▇▃▃▇▅▆▆▇▇▁▆▇▆▇▄▅█▇▆▇▇▅▆▆▄▇▇▇</td></tr><tr><td>train_loss</td><td>██▃▇▇▆▇█▆▆▇▃▃▇▅▆▆▇▇▁▆▇▆▇▄▅█▇▆▇▇▅▆▆▄▇▇▇</td></tr><tr><td>trainer/global_step</td><td>▁▁▁▂▂▂▂▃▃▃▃▃▄▄▄▄▄▄▄▄▅▅▅▅▅▅▅▆▆▆▆▆▆▇▇█████</td></tr><tr><td>val_exp_loss</td><td>▇▁▁▁▂▂▃▃▄▅▄▅▇▆▆▆█▅▆▇▅█▆▅▆█▇▇▆█▆▅▇▇▇█▇▅██</td></tr><tr><td>val_loss</td><td>▄▃▁▁▂▁▂▁▃▃▃▄▄▄▄▆▆▅▆▅▅▇▆▅▅▇▇▆▅▇▆▆▆▇▇▇██▇▇</td></tr></table><br/></div><div class=\"wandb-col\"><h3>Run summary:</h3><br/><table class=\"wandb\"><tr><td>epoch</td><td>49</td></tr><tr><td>exp_pearson</td><td>0.00036</td></tr><tr><td>exp_r2</td><td>-0.05824</td></tr><tr><td>exp_spearman</td><td>0.28447</td></tr><tr><td>train_exp_loss</td><td>-11.32218</td></tr><tr><td>train_loss</td><td>-11.32218</td></tr><tr><td>trainer/global_step</td><td>949</td></tr><tr><td>val_exp_loss</td><td>2.71504</td></tr><tr><td>val_loss</td><td>2.71504</td></tr></table><br/></div></div>"
      ],
      "text/plain": [
       "<IPython.core.display.HTML object>"
      ]
     },
     "metadata": {},
     "output_type": "display_data"
    },
    {
     "data": {
      "text/html": [
       " View run <strong style=\"color:#cdcd00\">training_from_finetune_lora_chr1_split_QATAC</strong> at: <a href='https://wandb.ai/faithogun-royal-college-of-surgeons-ireland-rcsi-/finetune_all_chrs/runs/ntkk86yc' target=\"_blank\">https://wandb.ai/faithogun-royal-college-of-surgeons-ireland-rcsi-/finetune_all_chrs/runs/ntkk86yc</a><br> View project at: <a href='https://wandb.ai/faithogun-royal-college-of-surgeons-ireland-rcsi-/finetune_all_chrs' target=\"_blank\">https://wandb.ai/faithogun-royal-college-of-surgeons-ireland-rcsi-/finetune_all_chrs</a><br>Synced 5 W&B file(s), 151 media file(s), 0 artifact file(s) and 0 other file(s)"
      ],
      "text/plain": [
       "<IPython.core.display.HTML object>"
      ]
     },
     "metadata": {},
     "output_type": "display_data"
    },
    {
     "data": {
      "text/html": [
       "Find logs at: <code>./get_ML_output/finetune_all_chrs/training_from_finetune_lora_chr1_split_QATAC/wandb/run-20250208_132840-ntkk86yc/logs</code>"
      ],
      "text/plain": [
       "<IPython.core.display.HTML object>"
      ]
     },
     "metadata": {},
     "output_type": "display_data"
    },
    {
     "name": "stdout",
     "output_type": "stream",
     "text": [
      "checkpoint path: /project/home/p200469/get_BIO1018/get_ML_output/finetune_all_chrs/training_from_finetune_lora_chr1_split_QATAC/checkpoints/best.ckpt\n"
     ]
    },
    {
     "data": {
      "image/png": "[encoded data removed]",
      "text/plain": [
       "<Figure size 640x480 with 1 Axes>"
      ]
     },
     "metadata": {},
     "output_type": "display_data"
    }
   ],
   "source": [
    "trainer = run(cfg) # run the finetuning, takes around 2 hours on one RTX 3090\n",
    "cfg.finetune.checkpoint = \"./checkpoint-best.pth\"\n",
    "print(\"checkpoint path:\", trainer.checkpoint_callback.best_model_path)"
   ]
  },
  {
   "cell_type": "markdown",
   "metadata": {},
   "source": [
    "It's almost converged so I stopped it."
   ]
  },
  {
   "cell_type": "markdown",
   "metadata": {},
   "source": [
    " ## Finetune Run 2\n",
    " Without a checkpoint."
   ]
  },
  {
   "cell_type": "code",
   "execution_count": 8,
   "metadata": {},
   "outputs": [
    {
     "name": "stdout",
     "output_type": "stream",
     "text": [
      "output path: /project/home/p200469/get_BIO1018/get_ML_output/finetune_all_chrs/training_from_finetune_no_lora_chr1_split_QATAC_no_checkpoint\n",
      "training for 50 epochs\n"
     ]
    }
   ],
   "source": [
    "cfg = load_config('finetune_tutorial_pbmc') # load the predefined finetune tutorial config\n",
    "cfg.stage = 'fit'\n",
    "cfg.run.run_name = 'training_from_finetune_no_lora_chr1_split_QATAC_no_checkpoint'\n",
    "cfg.dataset.quantitative_atac = True # We use binary ATAC signal for motif interpretation analysis\n",
    "\n",
    "cfg.dataset.zarr_path = \"/project/home/p200469/get_BIO1018/get_preprocess_output.zarr/\"\n",
    "cfg.dataset.celltypes = \"all_chrs\"\n",
    "\n",
    "# Set a unique project name for training on all chromosomes\n",
    "cfg.run.project_name = 'finetune_all_chrs'\n",
    "cfg.dataset.celltypes = \"all_chrs\"\n",
    "cfg.finetune.checkpoint = None #Maybe not using a checkpoint made for a different type of cell will work better.\n",
    "cfg.dataset.leave_out_celltypes = '' # set the celltypes you want to leave out, '' here means no celltype leave out\n",
    "cfg.dataset.leave_out_chromosomes = 'chr1' # set the chromosomes you want to leave out, '' here means no chromosome leave out\n",
    "cfg.machine.num_devices=0 # use 0 for cpu training; >=1 for gpu training\n",
    "cfg.machine.batch_size=8 # batch size for training; check `nvidia-smi` to see the available GPU memory\n",
    "cfg.finetune.use_lora = False\n",
    "\n",
    "cfg.machine.output_dir = \"/project/home/p200469/get_BIO1018/get_ML_output\"\n",
    "cfg.training.epochs = 50\n",
    "\n",
    "cfg.training.val_check_interval = 5.0 \n",
    "\n",
    "print(f\"output path: {cfg.machine.output_dir}/{cfg.run.project_name}/{cfg.run.run_name}\")\n",
    "print(f\"training for {cfg.training.epochs} epochs\")"
   ]
  },
  {
   "cell_type": "code",
   "execution_count": 9,
   "metadata": {},
   "outputs": [
    {
     "name": "stderr",
     "output_type": "stream",
     "text": [
      "Metric `SpearmanCorrcoef` will save all targets and predictions in the buffer. For large datasets, this may lead to large memory footprint.\n"
     ]
    },
    {
     "data": {
      "text/html": [
       "Tracking run with wandb version 0.19.4"
      ],
      "text/plain": [
       "<IPython.core.display.HTML object>"
      ]
     },
     "metadata": {},
     "output_type": "display_data"
    },
    {
     "data": {
      "text/html": [
       "Run data is saved locally in <code>/project/home/p200469/get_BIO1018/get_ML_output/finetune_all_chrs/training_from_finetune_no_lora_chr1_split_QATAC_no_checkpoint/wandb/run-20250208_140208-1h159qym</code>"
      ],
      "text/plain": [
       "<IPython.core.display.HTML object>"
      ]
     },
     "metadata": {},
     "output_type": "display_data"
    },
    {
     "data": {
      "text/html": [
       "Syncing run <strong><a href='https://wandb.ai/faithogun-royal-college-of-surgeons-ireland-rcsi-/finetune_all_chrs/runs/1h159qym' target=\"_blank\">training_from_finetune_no_lora_chr1_split_QATAC_no_checkpoint</a></strong> to <a href='https://wandb.ai/faithogun-royal-college-of-surgeons-ireland-rcsi-/finetune_all_chrs' target=\"_blank\">Weights & Biases</a> (<a href='https://wandb.me/developer-guide' target=\"_blank\">docs</a>)<br>"
      ],
      "text/plain": [
       "<IPython.core.display.HTML object>"
      ]
     },
     "metadata": {},
     "output_type": "display_data"
    },
    {
     "data": {
      "text/html": [
       " View project at <a href='https://wandb.ai/faithogun-royal-college-of-surgeons-ireland-rcsi-/finetune_all_chrs' target=\"_blank\">https://wandb.ai/faithogun-royal-college-of-surgeons-ireland-rcsi-/finetune_all_chrs</a>"
      ],
      "text/plain": [
       "<IPython.core.display.HTML object>"
      ]
     },
     "metadata": {},
     "output_type": "display_data"
    },
    {
     "data": {
      "text/html": [
       " View run at <a href='https://wandb.ai/faithogun-royal-college-of-surgeons-ireland-rcsi-/finetune_all_chrs/runs/1h159qym' target=\"_blank\">https://wandb.ai/faithogun-royal-college-of-surgeons-ireland-rcsi-/finetune_all_chrs/runs/1h159qym</a>"
      ],
      "text/plain": [
       "<IPython.core.display.HTML object>"
      ]
     },
     "metadata": {},
     "output_type": "display_data"
    },
    {
     "name": "stderr",
     "output_type": "stream",
     "text": [
      "100%|██████████████████████████████████████████████████████████| 1/1 [00:00<00:00,  8.99it/s]\n"
     ]
    },
    {
     "name": "stdout",
     "output_type": "stream",
     "text": [
      "Leave out chromosomes: ['chr1']\n",
      "Input chromosomes: ['chr10', 'chr11', 'chr12', 'chr13', 'chr14', 'chr15', 'chr16', 'chr17', 'chr18', 'chr19', 'chr2', 'chr20', 'chr21', 'chr22', 'chr3', 'chr4', 'chr5', 'chr6', 'chr7', 'chr8', 'chr9', 'chrX']\n"
     ]
    },
    {
     "name": "stderr",
     "output_type": "stream",
     "text": [
      "100%|██████████████████████████████████████████████████████████| 1/1 [00:00<00:00, 73.25it/s]"
     ]
    },
    {
     "name": "stdout",
     "output_type": "stream",
     "text": [
      "Leave out chromosomes: ['chr1']\n",
      "Input chromosomes: ['chr1']\n"
     ]
    },
    {
     "name": "stderr",
     "output_type": "stream",
     "text": [
      "\n"
     ]
    },
    {
     "data": {
      "application/vnd.jupyter.widget-view+json": {
       "model_id": "63a179fbca2b44b687f845d675578498",
       "version_major": 2,
       "version_minor": 0
      },
      "text/plain": [
       "Sanity Checking: |                                                     | 0/? [00:00<?, ?it/s]"
      ]
     },
     "metadata": {},
     "output_type": "display_data"
    },
    {
     "name": "stderr",
     "output_type": "stream",
     "text": [
      "/opt/conda/lib/python3.12/site-packages/lightning/pytorch/loops/fit_loop.py:310: The number of training batches (19) is smaller than the logging interval Trainer(log_every_n_steps=25). Set a lower value for log_every_n_steps if you want to see logs for the training epoch.\n"
     ]
    },
    {
     "data": {
      "application/vnd.jupyter.widget-view+json": {
       "model_id": "7e42b43faab2432d896eebfe77cd4e8e",
       "version_major": 2,
       "version_minor": 0
      },
      "text/plain": [
       "Training: |                                                            | 0/? [00:00<?, ?it/s]"
      ]
     },
     "metadata": {},
     "output_type": "display_data"
    },
    {
     "data": {
      "application/vnd.jupyter.widget-view+json": {
       "model_id": "afec2bf3818c4978b34e0b804248ec32",
       "version_major": 2,
       "version_minor": 0
      },
      "text/plain": [
       "Validation: |                                                          | 0/? [00:00<?, ?it/s]"
      ]
     },
     "metadata": {},
     "output_type": "display_data"
    },
    {
     "data": {
      "application/vnd.jupyter.widget-view+json": {
       "model_id": "dd6d6d2e4fb547cebe2703ac8f4ad2d4",
       "version_major": 2,
       "version_minor": 0
      },
      "text/plain": [
       "Validation: |                                                          | 0/? [00:00<?, ?it/s]"
      ]
     },
     "metadata": {},
     "output_type": "display_data"
    },
    {
     "data": {
      "application/vnd.jupyter.widget-view+json": {
       "model_id": "ef71c89d7343432abec60d8e0f4fc87b",
       "version_major": 2,
       "version_minor": 0
      },
      "text/plain": [
       "Validation: |                                                          | 0/? [00:00<?, ?it/s]"
      ]
     },
     "metadata": {},
     "output_type": "display_data"
    },
    {
     "data": {
      "application/vnd.jupyter.widget-view+json": {
       "model_id": "56a4c9ceb98d438487a9b12a9fdf9287",
       "version_major": 2,
       "version_minor": 0
      },
      "text/plain": [
       "Validation: |                                                          | 0/? [00:00<?, ?it/s]"
      ]
     },
     "metadata": {},
     "output_type": "display_data"
    },
    {
     "data": {
      "application/vnd.jupyter.widget-view+json": {
       "model_id": "f0c441f7325948e5bdefb082545e0095",
       "version_major": 2,
       "version_minor": 0
      },
      "text/plain": [
       "Validation: |                                                          | 0/? [00:00<?, ?it/s]"
      ]
     },
     "metadata": {},
     "output_type": "display_data"
    },
    {
     "data": {
      "application/vnd.jupyter.widget-view+json": {
       "model_id": "2b8124c14b37456cb9fbc5580248382c",
       "version_major": 2,
       "version_minor": 0
      },
      "text/plain": [
       "Validation: |                                                          | 0/? [00:00<?, ?it/s]"
      ]
     },
     "metadata": {},
     "output_type": "display_data"
    },
    {
     "data": {
      "application/vnd.jupyter.widget-view+json": {
       "model_id": "757f7051b8754e4dbdbf8ffb9d7dce5e",
       "version_major": 2,
       "version_minor": 0
      },
      "text/plain": [
       "Validation: |                                                          | 0/? [00:00<?, ?it/s]"
      ]
     },
     "metadata": {},
     "output_type": "display_data"
    },
    {
     "data": {
      "application/vnd.jupyter.widget-view+json": {
       "model_id": "d3a2ef0ed60a4891a866fd7275703425",
       "version_major": 2,
       "version_minor": 0
      },
      "text/plain": [
       "Validation: |                                                          | 0/? [00:00<?, ?it/s]"
      ]
     },
     "metadata": {},
     "output_type": "display_data"
    },
    {
     "data": {
      "application/vnd.jupyter.widget-view+json": {
       "model_id": "bda7897e3c3148dca6ec63561675099d",
       "version_major": 2,
       "version_minor": 0
      },
      "text/plain": [
       "Validation: |                                                          | 0/? [00:00<?, ?it/s]"
      ]
     },
     "metadata": {},
     "output_type": "display_data"
    },
    {
     "data": {
      "application/vnd.jupyter.widget-view+json": {
       "model_id": "2907d587d4c04cc488c97e6b5c1f2164",
       "version_major": 2,
       "version_minor": 0
      },
      "text/plain": [
       "Validation: |                                                          | 0/? [00:00<?, ?it/s]"
      ]
     },
     "metadata": {},
     "output_type": "display_data"
    },
    {
     "data": {
      "application/vnd.jupyter.widget-view+json": {
       "model_id": "995dfd86dd254a10b68bbaa9b02d0867",
       "version_major": 2,
       "version_minor": 0
      },
      "text/plain": [
       "Validation: |                                                          | 0/? [00:00<?, ?it/s]"
      ]
     },
     "metadata": {},
     "output_type": "display_data"
    },
    {
     "data": {
      "application/vnd.jupyter.widget-view+json": {
       "model_id": "3ba1d77a56964ed3ba0f0220d57b4968",
       "version_major": 2,
       "version_minor": 0
      },
      "text/plain": [
       "Validation: |                                                          | 0/? [00:00<?, ?it/s]"
      ]
     },
     "metadata": {},
     "output_type": "display_data"
    },
    {
     "data": {
      "application/vnd.jupyter.widget-view+json": {
       "model_id": "b0cf6837f48441d7a280ab8834fa6367",
       "version_major": 2,
       "version_minor": 0
      },
      "text/plain": [
       "Validation: |                                                          | 0/? [00:00<?, ?it/s]"
      ]
     },
     "metadata": {},
     "output_type": "display_data"
    },
    {
     "data": {
      "application/vnd.jupyter.widget-view+json": {
       "model_id": "d8b234200b1b4ceea7baa82eeb41118f",
       "version_major": 2,
       "version_minor": 0
      },
      "text/plain": [
       "Validation: |                                                          | 0/? [00:00<?, ?it/s]"
      ]
     },
     "metadata": {},
     "output_type": "display_data"
    },
    {
     "data": {
      "application/vnd.jupyter.widget-view+json": {
       "model_id": "cd2aa7a7b53e4118b00019981a82b6d7",
       "version_major": 2,
       "version_minor": 0
      },
      "text/plain": [
       "Validation: |                                                          | 0/? [00:00<?, ?it/s]"
      ]
     },
     "metadata": {},
     "output_type": "display_data"
    },
    {
     "data": {
      "application/vnd.jupyter.widget-view+json": {
       "model_id": "39bbd763fac041849e0d12ba148f0021",
       "version_major": 2,
       "version_minor": 0
      },
      "text/plain": [
       "Validation: |                                                          | 0/? [00:00<?, ?it/s]"
      ]
     },
     "metadata": {},
     "output_type": "display_data"
    },
    {
     "data": {
      "application/vnd.jupyter.widget-view+json": {
       "model_id": "2553da820412439c9df1845f5a93f172",
       "version_major": 2,
       "version_minor": 0
      },
      "text/plain": [
       "Validation: |                                                          | 0/? [00:00<?, ?it/s]"
      ]
     },
     "metadata": {},
     "output_type": "display_data"
    },
    {
     "data": {
      "application/vnd.jupyter.widget-view+json": {
       "model_id": "71bfa142202d429b9766cf04d93fa1bd",
       "version_major": 2,
       "version_minor": 0
      },
      "text/plain": [
       "Validation: |                                                          | 0/? [00:00<?, ?it/s]"
      ]
     },
     "metadata": {},
     "output_type": "display_data"
    },
    {
     "data": {
      "application/vnd.jupyter.widget-view+json": {
       "model_id": "7494bf8d6ee144c482ec51ccc21ce68c",
       "version_major": 2,
       "version_minor": 0
      },
      "text/plain": [
       "Validation: |                                                          | 0/? [00:00<?, ?it/s]"
      ]
     },
     "metadata": {},
     "output_type": "display_data"
    },
    {
     "data": {
      "application/vnd.jupyter.widget-view+json": {
       "model_id": "125623e35060481daddb514fae7e3616",
       "version_major": 2,
       "version_minor": 0
      },
      "text/plain": [
       "Validation: |                                                          | 0/? [00:00<?, ?it/s]"
      ]
     },
     "metadata": {},
     "output_type": "display_data"
    },
    {
     "data": {
      "application/vnd.jupyter.widget-view+json": {
       "model_id": "3d9c4751148247c685960789227a609b",
       "version_major": 2,
       "version_minor": 0
      },
      "text/plain": [
       "Validation: |                                                          | 0/? [00:00<?, ?it/s]"
      ]
     },
     "metadata": {},
     "output_type": "display_data"
    },
    {
     "data": {
      "application/vnd.jupyter.widget-view+json": {
       "model_id": "2efd8f4d56364218950a8a494973e07e",
       "version_major": 2,
       "version_minor": 0
      },
      "text/plain": [
       "Validation: |                                                          | 0/? [00:00<?, ?it/s]"
      ]
     },
     "metadata": {},
     "output_type": "display_data"
    },
    {
     "data": {
      "application/vnd.jupyter.widget-view+json": {
       "model_id": "c69a65280a1c4d40ad2998a8a9c381ab",
       "version_major": 2,
       "version_minor": 0
      },
      "text/plain": [
       "Validation: |                                                          | 0/? [00:00<?, ?it/s]"
      ]
     },
     "metadata": {},
     "output_type": "display_data"
    },
    {
     "data": {
      "application/vnd.jupyter.widget-view+json": {
       "model_id": "e632e9787e464697b663466f889992aa",
       "version_major": 2,
       "version_minor": 0
      },
      "text/plain": [
       "Validation: |                                                          | 0/? [00:00<?, ?it/s]"
      ]
     },
     "metadata": {},
     "output_type": "display_data"
    },
    {
     "data": {
      "application/vnd.jupyter.widget-view+json": {
       "model_id": "eef6d911459245ef8935f3a8a35671bf",
       "version_major": 2,
       "version_minor": 0
      },
      "text/plain": [
       "Validation: |                                                          | 0/? [00:00<?, ?it/s]"
      ]
     },
     "metadata": {},
     "output_type": "display_data"
    },
    {
     "data": {
      "application/vnd.jupyter.widget-view+json": {
       "model_id": "7bf76b96cd6e43208afb8ac6dac41afe",
       "version_major": 2,
       "version_minor": 0
      },
      "text/plain": [
       "Validation: |                                                          | 0/? [00:00<?, ?it/s]"
      ]
     },
     "metadata": {},
     "output_type": "display_data"
    },
    {
     "data": {
      "application/vnd.jupyter.widget-view+json": {
       "model_id": "0df1481ab58a438eaf556e869a39f7ee",
       "version_major": 2,
       "version_minor": 0
      },
      "text/plain": [
       "Validation: |                                                          | 0/? [00:00<?, ?it/s]"
      ]
     },
     "metadata": {},
     "output_type": "display_data"
    },
    {
     "data": {
      "application/vnd.jupyter.widget-view+json": {
       "model_id": "bf2fab55158f490e8a3bb3dde650401a",
       "version_major": 2,
       "version_minor": 0
      },
      "text/plain": [
       "Validation: |                                                          | 0/? [00:00<?, ?it/s]"
      ]
     },
     "metadata": {},
     "output_type": "display_data"
    },
    {
     "data": {
      "application/vnd.jupyter.widget-view+json": {
       "model_id": "787e6772fb3d4f15816efac31e93f0c3",
       "version_major": 2,
       "version_minor": 0
      },
      "text/plain": [
       "Validation: |                                                          | 0/? [00:00<?, ?it/s]"
      ]
     },
     "metadata": {},
     "output_type": "display_data"
    },
    {
     "data": {
      "application/vnd.jupyter.widget-view+json": {
       "model_id": "59c5c7cc5f954faeb30a686155f41646",
       "version_major": 2,
       "version_minor": 0
      },
      "text/plain": [
       "Validation: |                                                          | 0/? [00:00<?, ?it/s]"
      ]
     },
     "metadata": {},
     "output_type": "display_data"
    },
    {
     "data": {
      "application/vnd.jupyter.widget-view+json": {
       "model_id": "384f15f8e3f44dbb8a67cf5f98a7683b",
       "version_major": 2,
       "version_minor": 0
      },
      "text/plain": [
       "Validation: |                                                          | 0/? [00:00<?, ?it/s]"
      ]
     },
     "metadata": {},
     "output_type": "display_data"
    },
    {
     "data": {
      "application/vnd.jupyter.widget-view+json": {
       "model_id": "94b96a4a3eb84a9b97cb84a9f6a41558",
       "version_major": 2,
       "version_minor": 0
      },
      "text/plain": [
       "Validation: |                                                          | 0/? [00:00<?, ?it/s]"
      ]
     },
     "metadata": {},
     "output_type": "display_data"
    },
    {
     "data": {
      "application/vnd.jupyter.widget-view+json": {
       "model_id": "642b84ed553f4618a461898d93fddca0",
       "version_major": 2,
       "version_minor": 0
      },
      "text/plain": [
       "Validation: |                                                          | 0/? [00:00<?, ?it/s]"
      ]
     },
     "metadata": {},
     "output_type": "display_data"
    },
    {
     "data": {
      "application/vnd.jupyter.widget-view+json": {
       "model_id": "3847881bb6414e1299b3f9c17606dc98",
       "version_major": 2,
       "version_minor": 0
      },
      "text/plain": [
       "Validation: |                                                          | 0/? [00:00<?, ?it/s]"
      ]
     },
     "metadata": {},
     "output_type": "display_data"
    },
    {
     "data": {
      "application/vnd.jupyter.widget-view+json": {
       "model_id": "f14ba72921ab4aae871b8acdb5f4e4dd",
       "version_major": 2,
       "version_minor": 0
      },
      "text/plain": [
       "Validation: |                                                          | 0/? [00:00<?, ?it/s]"
      ]
     },
     "metadata": {},
     "output_type": "display_data"
    },
    {
     "data": {
      "application/vnd.jupyter.widget-view+json": {
       "model_id": "86709aebcdc74e74b55740071a7ecd1c",
       "version_major": 2,
       "version_minor": 0
      },
      "text/plain": [
       "Validation: |                                                          | 0/? [00:00<?, ?it/s]"
      ]
     },
     "metadata": {},
     "output_type": "display_data"
    },
    {
     "data": {
      "application/vnd.jupyter.widget-view+json": {
       "model_id": "cae015f776ca4d0dab1fdd9ecc20af01",
       "version_major": 2,
       "version_minor": 0
      },
      "text/plain": [
       "Validation: |                                                          | 0/? [00:00<?, ?it/s]"
      ]
     },
     "metadata": {},
     "output_type": "display_data"
    },
    {
     "data": {
      "application/vnd.jupyter.widget-view+json": {
       "model_id": "1247c09bed55457ea4231e3c8b24dbf1",
       "version_major": 2,
       "version_minor": 0
      },
      "text/plain": [
       "Validation: |                                                          | 0/? [00:00<?, ?it/s]"
      ]
     },
     "metadata": {},
     "output_type": "display_data"
    },
    {
     "data": {
      "application/vnd.jupyter.widget-view+json": {
       "model_id": "d7154745c6764f0fa455b1002fcbce3f",
       "version_major": 2,
       "version_minor": 0
      },
      "text/plain": [
       "Validation: |                                                          | 0/? [00:00<?, ?it/s]"
      ]
     },
     "metadata": {},
     "output_type": "display_data"
    },
    {
     "data": {
      "application/vnd.jupyter.widget-view+json": {
       "model_id": "d9df06cf5cae4a928eaf7f35d2d73e51",
       "version_major": 2,
       "version_minor": 0
      },
      "text/plain": [
       "Validation: |                                                          | 0/? [00:00<?, ?it/s]"
      ]
     },
     "metadata": {},
     "output_type": "display_data"
    },
    {
     "data": {
      "application/vnd.jupyter.widget-view+json": {
       "model_id": "aedea129334a4e24abeea00b485bc8ad",
       "version_major": 2,
       "version_minor": 0
      },
      "text/plain": [
       "Validation: |                                                          | 0/? [00:00<?, ?it/s]"
      ]
     },
     "metadata": {},
     "output_type": "display_data"
    },
    {
     "data": {
      "application/vnd.jupyter.widget-view+json": {
       "model_id": "8b35348dbae3498e822693093b21e23f",
       "version_major": 2,
       "version_minor": 0
      },
      "text/plain": [
       "Validation: |                                                          | 0/? [00:00<?, ?it/s]"
      ]
     },
     "metadata": {},
     "output_type": "display_data"
    },
    {
     "data": {
      "application/vnd.jupyter.widget-view+json": {
       "model_id": "56aa30d677484e31831bf08fa41aabb1",
       "version_major": 2,
       "version_minor": 0
      },
      "text/plain": [
       "Validation: |                                                          | 0/? [00:00<?, ?it/s]"
      ]
     },
     "metadata": {},
     "output_type": "display_data"
    },
    {
     "data": {
      "application/vnd.jupyter.widget-view+json": {
       "model_id": "0014f8ef3b894e578fe5123e6d4fe83a",
       "version_major": 2,
       "version_minor": 0
      },
      "text/plain": [
       "Validation: |                                                          | 0/? [00:00<?, ?it/s]"
      ]
     },
     "metadata": {},
     "output_type": "display_data"
    },
    {
     "data": {
      "application/vnd.jupyter.widget-view+json": {
       "model_id": "35e2a29569d94336a3747d6911eece80",
       "version_major": 2,
       "version_minor": 0
      },
      "text/plain": [
       "Validation: |                                                          | 0/? [00:00<?, ?it/s]"
      ]
     },
     "metadata": {},
     "output_type": "display_data"
    },
    {
     "data": {
      "application/vnd.jupyter.widget-view+json": {
       "model_id": "207c579ea8204a9cac5214e14bc8cea7",
       "version_major": 2,
       "version_minor": 0
      },
      "text/plain": [
       "Validation: |                                                          | 0/? [00:00<?, ?it/s]"
      ]
     },
     "metadata": {},
     "output_type": "display_data"
    },
    {
     "data": {
      "application/vnd.jupyter.widget-view+json": {
       "model_id": "23698847d17447ebbf61a4f0fbca84cc",
       "version_major": 2,
       "version_minor": 0
      },
      "text/plain": [
       "Validation: |                                                          | 0/? [00:00<?, ?it/s]"
      ]
     },
     "metadata": {},
     "output_type": "display_data"
    },
    {
     "data": {
      "application/vnd.jupyter.widget-view+json": {
       "model_id": "85042a9b1f014d37857fb3c084cef107",
       "version_major": 2,
       "version_minor": 0
      },
      "text/plain": [
       "Validation: |                                                          | 0/? [00:00<?, ?it/s]"
      ]
     },
     "metadata": {},
     "output_type": "display_data"
    },
    {
     "data": {
      "application/vnd.jupyter.widget-view+json": {
       "model_id": "f7f809b774144b5fb2aeeefbea7f86ce",
       "version_major": 2,
       "version_minor": 0
      },
      "text/plain": [
       "Validation: |                                                          | 0/? [00:00<?, ?it/s]"
      ]
     },
     "metadata": {},
     "output_type": "display_data"
    },
    {
     "data": {
      "application/vnd.jupyter.widget-view+json": {
       "model_id": "d0fa9b77dc0241c5b49f41cf2a56411d",
       "version_major": 2,
       "version_minor": 0
      },
      "text/plain": [
       "Validation: |                                                          | 0/? [00:00<?, ?it/s]"
      ]
     },
     "metadata": {},
     "output_type": "display_data"
    },
    {
     "data": {
      "application/vnd.jupyter.widget-view+json": {
       "model_id": "5038a6c77873409db6743a0ce8855acb",
       "version_major": 2,
       "version_minor": 0
      },
      "text/plain": [
       "Validation: |                                                          | 0/? [00:00<?, ?it/s]"
      ]
     },
     "metadata": {},
     "output_type": "display_data"
    },
    {
     "data": {
      "application/vnd.jupyter.widget-view+json": {
       "model_id": "a7ef624b8613400dbf6d0e018366b797",
       "version_major": 2,
       "version_minor": 0
      },
      "text/plain": [
       "Validation: |                                                          | 0/? [00:00<?, ?it/s]"
      ]
     },
     "metadata": {},
     "output_type": "display_data"
    },
    {
     "data": {
      "application/vnd.jupyter.widget-view+json": {
       "model_id": "7da8dd7aec724d13994b564ceee89f4c",
       "version_major": 2,
       "version_minor": 0
      },
      "text/plain": [
       "Validation: |                                                          | 0/? [00:00<?, ?it/s]"
      ]
     },
     "metadata": {},
     "output_type": "display_data"
    },
    {
     "data": {
      "application/vnd.jupyter.widget-view+json": {
       "model_id": "20776632196544349b4d0ae2b42fbcbc",
       "version_major": 2,
       "version_minor": 0
      },
      "text/plain": [
       "Validation: |                                                          | 0/? [00:00<?, ?it/s]"
      ]
     },
     "metadata": {},
     "output_type": "display_data"
    },
    {
     "data": {
      "application/vnd.jupyter.widget-view+json": {
       "model_id": "835194fd6cc643108686d523f179b62e",
       "version_major": 2,
       "version_minor": 0
      },
      "text/plain": [
       "Validation: |                                                          | 0/? [00:00<?, ?it/s]"
      ]
     },
     "metadata": {},
     "output_type": "display_data"
    },
    {
     "data": {
      "application/vnd.jupyter.widget-view+json": {
       "model_id": "c19071f72cf543feac6fd9d4c9c87b82",
       "version_major": 2,
       "version_minor": 0
      },
      "text/plain": [
       "Validation: |                                                          | 0/? [00:00<?, ?it/s]"
      ]
     },
     "metadata": {},
     "output_type": "display_data"
    },
    {
     "data": {
      "application/vnd.jupyter.widget-view+json": {
       "model_id": "e3bfc77b0037447fb3c26d1b51836c6b",
       "version_major": 2,
       "version_minor": 0
      },
      "text/plain": [
       "Validation: |                                                          | 0/? [00:00<?, ?it/s]"
      ]
     },
     "metadata": {},
     "output_type": "display_data"
    },
    {
     "data": {
      "application/vnd.jupyter.widget-view+json": {
       "model_id": "0b270428036a448e901159cb6416faa7",
       "version_major": 2,
       "version_minor": 0
      },
      "text/plain": [
       "Validation: |                                                          | 0/? [00:00<?, ?it/s]"
      ]
     },
     "metadata": {},
     "output_type": "display_data"
    },
    {
     "data": {
      "application/vnd.jupyter.widget-view+json": {
       "model_id": "b56a2c115ecf4f1ba7dad03d6f910c82",
       "version_major": 2,
       "version_minor": 0
      },
      "text/plain": [
       "Validation: |                                                          | 0/? [00:00<?, ?it/s]"
      ]
     },
     "metadata": {},
     "output_type": "display_data"
    },
    {
     "data": {
      "application/vnd.jupyter.widget-view+json": {
       "model_id": "9b2817a67aba4be69b6a42a2000a3ffe",
       "version_major": 2,
       "version_minor": 0
      },
      "text/plain": [
       "Validation: |                                                          | 0/? [00:00<?, ?it/s]"
      ]
     },
     "metadata": {},
     "output_type": "display_data"
    },
    {
     "data": {
      "application/vnd.jupyter.widget-view+json": {
       "model_id": "c54229522ac04446ad39fee237fc9b3a",
       "version_major": 2,
       "version_minor": 0
      },
      "text/plain": [
       "Validation: |                                                          | 0/? [00:00<?, ?it/s]"
      ]
     },
     "metadata": {},
     "output_type": "display_data"
    },
    {
     "data": {
      "application/vnd.jupyter.widget-view+json": {
       "model_id": "596a036ea51048279a993e89fdd5e456",
       "version_major": 2,
       "version_minor": 0
      },
      "text/plain": [
       "Validation: |                                                          | 0/? [00:00<?, ?it/s]"
      ]
     },
     "metadata": {},
     "output_type": "display_data"
    },
    {
     "data": {
      "application/vnd.jupyter.widget-view+json": {
       "model_id": "441e8f1a325f4dafa4858bceb22a5d9d",
       "version_major": 2,
       "version_minor": 0
      },
      "text/plain": [
       "Validation: |                                                          | 0/? [00:00<?, ?it/s]"
      ]
     },
     "metadata": {},
     "output_type": "display_data"
    },
    {
     "data": {
      "application/vnd.jupyter.widget-view+json": {
       "model_id": "97cd42973a7042aaa4e615f200eb5dec",
       "version_major": 2,
       "version_minor": 0
      },
      "text/plain": [
       "Validation: |                                                          | 0/? [00:00<?, ?it/s]"
      ]
     },
     "metadata": {},
     "output_type": "display_data"
    },
    {
     "data": {
      "application/vnd.jupyter.widget-view+json": {
       "model_id": "8d4e19f7af8840bd9bcaff098de51dbc",
       "version_major": 2,
       "version_minor": 0
      },
      "text/plain": [
       "Validation: |                                                          | 0/? [00:00<?, ?it/s]"
      ]
     },
     "metadata": {},
     "output_type": "display_data"
    },
    {
     "data": {
      "application/vnd.jupyter.widget-view+json": {
       "model_id": "40bc6036bee24385a750e725785706a5",
       "version_major": 2,
       "version_minor": 0
      },
      "text/plain": [
       "Validation: |                                                          | 0/? [00:00<?, ?it/s]"
      ]
     },
     "metadata": {},
     "output_type": "display_data"
    },
    {
     "data": {
      "application/vnd.jupyter.widget-view+json": {
       "model_id": "e198140c5aea4cb2a849b8bb47ac650a",
       "version_major": 2,
       "version_minor": 0
      },
      "text/plain": [
       "Validation: |                                                          | 0/? [00:00<?, ?it/s]"
      ]
     },
     "metadata": {},
     "output_type": "display_data"
    },
    {
     "data": {
      "application/vnd.jupyter.widget-view+json": {
       "model_id": "3d5c904efb3b4757857d2ef9d9ccf0df",
       "version_major": 2,
       "version_minor": 0
      },
      "text/plain": [
       "Validation: |                                                          | 0/? [00:00<?, ?it/s]"
      ]
     },
     "metadata": {},
     "output_type": "display_data"
    },
    {
     "data": {
      "application/vnd.jupyter.widget-view+json": {
       "model_id": "abaa4aaf86484669851d33407d63c16f",
       "version_major": 2,
       "version_minor": 0
      },
      "text/plain": [
       "Validation: |                                                          | 0/? [00:00<?, ?it/s]"
      ]
     },
     "metadata": {},
     "output_type": "display_data"
    },
    {
     "data": {
      "application/vnd.jupyter.widget-view+json": {
       "model_id": "d63154fb27f1429b9b991b617f32de4c",
       "version_major": 2,
       "version_minor": 0
      },
      "text/plain": [
       "Validation: |                                                          | 0/? [00:00<?, ?it/s]"
      ]
     },
     "metadata": {},
     "output_type": "display_data"
    },
    {
     "data": {
      "application/vnd.jupyter.widget-view+json": {
       "model_id": "2787f032ccc34bd7a7fd45f0113666db",
       "version_major": 2,
       "version_minor": 0
      },
      "text/plain": [
       "Validation: |                                                          | 0/? [00:00<?, ?it/s]"
      ]
     },
     "metadata": {},
     "output_type": "display_data"
    },
    {
     "data": {
      "application/vnd.jupyter.widget-view+json": {
       "model_id": "5f067162bc764a70a415368923a1fb63",
       "version_major": 2,
       "version_minor": 0
      },
      "text/plain": [
       "Validation: |                                                          | 0/? [00:00<?, ?it/s]"
      ]
     },
     "metadata": {},
     "output_type": "display_data"
    },
    {
     "data": {
      "application/vnd.jupyter.widget-view+json": {
       "model_id": "81a1dfda1c7b4e4d8fa901b4282f5e48",
       "version_major": 2,
       "version_minor": 0
      },
      "text/plain": [
       "Validation: |                                                          | 0/? [00:00<?, ?it/s]"
      ]
     },
     "metadata": {},
     "output_type": "display_data"
    },
    {
     "data": {
      "application/vnd.jupyter.widget-view+json": {
       "model_id": "c03fcf4026b04906ace30709dfc1e416",
       "version_major": 2,
       "version_minor": 0
      },
      "text/plain": [
       "Validation: |                                                          | 0/? [00:00<?, ?it/s]"
      ]
     },
     "metadata": {},
     "output_type": "display_data"
    },
    {
     "data": {
      "application/vnd.jupyter.widget-view+json": {
       "model_id": "50cbe0cd5f4548b287146fe22706da27",
       "version_major": 2,
       "version_minor": 0
      },
      "text/plain": [
       "Validation: |                                                          | 0/? [00:00<?, ?it/s]"
      ]
     },
     "metadata": {},
     "output_type": "display_data"
    },
    {
     "data": {
      "application/vnd.jupyter.widget-view+json": {
       "model_id": "0cbd05cee4fc40e99a54f97d9017cc4b",
       "version_major": 2,
       "version_minor": 0
      },
      "text/plain": [
       "Validation: |                                                          | 0/? [00:00<?, ?it/s]"
      ]
     },
     "metadata": {},
     "output_type": "display_data"
    },
    {
     "data": {
      "application/vnd.jupyter.widget-view+json": {
       "model_id": "12f57fc66abd4ea2a1d1fa590b1c8612",
       "version_major": 2,
       "version_minor": 0
      },
      "text/plain": [
       "Validation: |                                                          | 0/? [00:00<?, ?it/s]"
      ]
     },
     "metadata": {},
     "output_type": "display_data"
    },
    {
     "data": {
      "application/vnd.jupyter.widget-view+json": {
       "model_id": "cb76fc4f83ec43a3a952d2d5e56a0012",
       "version_major": 2,
       "version_minor": 0
      },
      "text/plain": [
       "Validation: |                                                          | 0/? [00:00<?, ?it/s]"
      ]
     },
     "metadata": {},
     "output_type": "display_data"
    },
    {
     "data": {
      "application/vnd.jupyter.widget-view+json": {
       "model_id": "3097275485a14bfba2b04957605af3df",
       "version_major": 2,
       "version_minor": 0
      },
      "text/plain": [
       "Validation: |                                                          | 0/? [00:00<?, ?it/s]"
      ]
     },
     "metadata": {},
     "output_type": "display_data"
    },
    {
     "data": {
      "application/vnd.jupyter.widget-view+json": {
       "model_id": "c3039ae93a7b4eb3b83447ca1983d248",
       "version_major": 2,
       "version_minor": 0
      },
      "text/plain": [
       "Validation: |                                                          | 0/? [00:00<?, ?it/s]"
      ]
     },
     "metadata": {},
     "output_type": "display_data"
    },
    {
     "data": {
      "application/vnd.jupyter.widget-view+json": {
       "model_id": "5dd4cf92537e408aaf1cbdf2cae7b3a3",
       "version_major": 2,
       "version_minor": 0
      },
      "text/plain": [
       "Validation: |                                                          | 0/? [00:00<?, ?it/s]"
      ]
     },
     "metadata": {},
     "output_type": "display_data"
    },
    {
     "data": {
      "application/vnd.jupyter.widget-view+json": {
       "model_id": "cf89ab9d3f9d4414881a6c96643f1f67",
       "version_major": 2,
       "version_minor": 0
      },
      "text/plain": [
       "Validation: |                                                          | 0/? [00:00<?, ?it/s]"
      ]
     },
     "metadata": {},
     "output_type": "display_data"
    },
    {
     "data": {
      "application/vnd.jupyter.widget-view+json": {
       "model_id": "d4a6c1025b6647b49b6cc32c1b8d60bb",
       "version_major": 2,
       "version_minor": 0
      },
      "text/plain": [
       "Validation: |                                                          | 0/? [00:00<?, ?it/s]"
      ]
     },
     "metadata": {},
     "output_type": "display_data"
    },
    {
     "data": {
      "application/vnd.jupyter.widget-view+json": {
       "model_id": "213325d5a58c4098b668407b10d7f04f",
       "version_major": 2,
       "version_minor": 0
      },
      "text/plain": [
       "Validation: |                                                          | 0/? [00:00<?, ?it/s]"
      ]
     },
     "metadata": {},
     "output_type": "display_data"
    },
    {
     "data": {
      "application/vnd.jupyter.widget-view+json": {
       "model_id": "5c8b271c344e4bd9bc78da98e228f6bb",
       "version_major": 2,
       "version_minor": 0
      },
      "text/plain": [
       "Validation: |                                                          | 0/? [00:00<?, ?it/s]"
      ]
     },
     "metadata": {},
     "output_type": "display_data"
    },
    {
     "data": {
      "application/vnd.jupyter.widget-view+json": {
       "model_id": "d5873d9f24644bbbae12fc45b45a2ed9",
       "version_major": 2,
       "version_minor": 0
      },
      "text/plain": [
       "Validation: |                                                          | 0/? [00:00<?, ?it/s]"
      ]
     },
     "metadata": {},
     "output_type": "display_data"
    },
    {
     "data": {
      "application/vnd.jupyter.widget-view+json": {
       "model_id": "c9d1d6297af1423ebdb16d5ad27920d2",
       "version_major": 2,
       "version_minor": 0
      },
      "text/plain": [
       "Validation: |                                                          | 0/? [00:00<?, ?it/s]"
      ]
     },
     "metadata": {},
     "output_type": "display_data"
    },
    {
     "data": {
      "application/vnd.jupyter.widget-view+json": {
       "model_id": "936605130de943e8bcf05406cdc80ed2",
       "version_major": 2,
       "version_minor": 0
      },
      "text/plain": [
       "Validation: |                                                          | 0/? [00:00<?, ?it/s]"
      ]
     },
     "metadata": {},
     "output_type": "display_data"
    },
    {
     "data": {
      "application/vnd.jupyter.widget-view+json": {
       "model_id": "a1c9a22bba444354afddd36338cf67ba",
       "version_major": 2,
       "version_minor": 0
      },
      "text/plain": [
       "Validation: |                                                          | 0/? [00:00<?, ?it/s]"
      ]
     },
     "metadata": {},
     "output_type": "display_data"
    },
    {
     "data": {
      "application/vnd.jupyter.widget-view+json": {
       "model_id": "caf98b02f7fa4c8ab78fc9ff68173438",
       "version_major": 2,
       "version_minor": 0
      },
      "text/plain": [
       "Validation: |                                                          | 0/? [00:00<?, ?it/s]"
      ]
     },
     "metadata": {},
     "output_type": "display_data"
    },
    {
     "data": {
      "application/vnd.jupyter.widget-view+json": {
       "model_id": "702c82ae78f64c6798d308ee579106f2",
       "version_major": 2,
       "version_minor": 0
      },
      "text/plain": [
       "Validation: |                                                          | 0/? [00:00<?, ?it/s]"
      ]
     },
     "metadata": {},
     "output_type": "display_data"
    },
    {
     "data": {
      "application/vnd.jupyter.widget-view+json": {
       "model_id": "4ea3c3cf87184b16a92515645192542f",
       "version_major": 2,
       "version_minor": 0
      },
      "text/plain": [
       "Validation: |                                                          | 0/? [00:00<?, ?it/s]"
      ]
     },
     "metadata": {},
     "output_type": "display_data"
    },
    {
     "data": {
      "application/vnd.jupyter.widget-view+json": {
       "model_id": "2ccdd4e46a8349939e52c4dccdfc8419",
       "version_major": 2,
       "version_minor": 0
      },
      "text/plain": [
       "Validation: |                                                          | 0/? [00:00<?, ?it/s]"
      ]
     },
     "metadata": {},
     "output_type": "display_data"
    },
    {
     "data": {
      "application/vnd.jupyter.widget-view+json": {
       "model_id": "2273043ed57d49c08a15b04e95637d58",
       "version_major": 2,
       "version_minor": 0
      },
      "text/plain": [
       "Validation: |                                                          | 0/? [00:00<?, ?it/s]"
      ]
     },
     "metadata": {},
     "output_type": "display_data"
    },
    {
     "data": {
      "application/vnd.jupyter.widget-view+json": {
       "model_id": "42f4d65e61a94de2a08bff86cba5a0aa",
       "version_major": 2,
       "version_minor": 0
      },
      "text/plain": [
       "Validation: |                                                          | 0/? [00:00<?, ?it/s]"
      ]
     },
     "metadata": {},
     "output_type": "display_data"
    },
    {
     "data": {
      "application/vnd.jupyter.widget-view+json": {
       "model_id": "c75ee3735e884b0f9129c3a45e91d7f1",
       "version_major": 2,
       "version_minor": 0
      },
      "text/plain": [
       "Validation: |                                                          | 0/? [00:00<?, ?it/s]"
      ]
     },
     "metadata": {},
     "output_type": "display_data"
    },
    {
     "data": {
      "application/vnd.jupyter.widget-view+json": {
       "model_id": "d0d102e6d77a4aad9457b1b9d22223aa",
       "version_major": 2,
       "version_minor": 0
      },
      "text/plain": [
       "Validation: |                                                          | 0/? [00:00<?, ?it/s]"
      ]
     },
     "metadata": {},
     "output_type": "display_data"
    },
    {
     "data": {
      "application/vnd.jupyter.widget-view+json": {
       "model_id": "787737d235cf4101b8730f6fb7e93618",
       "version_major": 2,
       "version_minor": 0
      },
      "text/plain": [
       "Validation: |                                                          | 0/? [00:00<?, ?it/s]"
      ]
     },
     "metadata": {},
     "output_type": "display_data"
    },
    {
     "data": {
      "application/vnd.jupyter.widget-view+json": {
       "model_id": "ae9c60a8fbea444f8ebc28f92836d381",
       "version_major": 2,
       "version_minor": 0
      },
      "text/plain": [
       "Validation: |                                                          | 0/? [00:00<?, ?it/s]"
      ]
     },
     "metadata": {},
     "output_type": "display_data"
    },
    {
     "data": {
      "application/vnd.jupyter.widget-view+json": {
       "model_id": "cf0ca2b507c14a35ac9e5892ae48172a",
       "version_major": 2,
       "version_minor": 0
      },
      "text/plain": [
       "Validation: |                                                          | 0/? [00:00<?, ?it/s]"
      ]
     },
     "metadata": {},
     "output_type": "display_data"
    },
    {
     "data": {
      "application/vnd.jupyter.widget-view+json": {
       "model_id": "67db9e4aa295453f880caf51df708f95",
       "version_major": 2,
       "version_minor": 0
      },
      "text/plain": [
       "Validation: |                                                          | 0/? [00:00<?, ?it/s]"
      ]
     },
     "metadata": {},
     "output_type": "display_data"
    },
    {
     "data": {
      "application/vnd.jupyter.widget-view+json": {
       "model_id": "23633bf6a0c043f3a76d1f66b3dd2a1c",
       "version_major": 2,
       "version_minor": 0
      },
      "text/plain": [
       "Validation: |                                                          | 0/? [00:00<?, ?it/s]"
      ]
     },
     "metadata": {},
     "output_type": "display_data"
    },
    {
     "data": {
      "application/vnd.jupyter.widget-view+json": {
       "model_id": "81382e63648848b4b488c60160bb4298",
       "version_major": 2,
       "version_minor": 0
      },
      "text/plain": [
       "Validation: |                                                          | 0/? [00:00<?, ?it/s]"
      ]
     },
     "metadata": {},
     "output_type": "display_data"
    },
    {
     "data": {
      "application/vnd.jupyter.widget-view+json": {
       "model_id": "0a4a44c9c275473d87d0e8ceb79495a8",
       "version_major": 2,
       "version_minor": 0
      },
      "text/plain": [
       "Validation: |                                                          | 0/? [00:00<?, ?it/s]"
      ]
     },
     "metadata": {},
     "output_type": "display_data"
    },
    {
     "data": {
      "application/vnd.jupyter.widget-view+json": {
       "model_id": "825602d133e442c1a3f641f89a665990",
       "version_major": 2,
       "version_minor": 0
      },
      "text/plain": [
       "Validation: |                                                          | 0/? [00:00<?, ?it/s]"
      ]
     },
     "metadata": {},
     "output_type": "display_data"
    },
    {
     "data": {
      "application/vnd.jupyter.widget-view+json": {
       "model_id": "55ab7cdd850b4999851989f379bfebfb",
       "version_major": 2,
       "version_minor": 0
      },
      "text/plain": [
       "Validation: |                                                          | 0/? [00:00<?, ?it/s]"
      ]
     },
     "metadata": {},
     "output_type": "display_data"
    },
    {
     "data": {
      "application/vnd.jupyter.widget-view+json": {
       "model_id": "e1cebab749f24cc1bafeeffd0beb16e1",
       "version_major": 2,
       "version_minor": 0
      },
      "text/plain": [
       "Validation: |                                                          | 0/? [00:00<?, ?it/s]"
      ]
     },
     "metadata": {},
     "output_type": "display_data"
    },
    {
     "data": {
      "application/vnd.jupyter.widget-view+json": {
       "model_id": "f0a91beab63447e9b119bc8e826a3eb5",
       "version_major": 2,
       "version_minor": 0
      },
      "text/plain": [
       "Validation: |                                                          | 0/? [00:00<?, ?it/s]"
      ]
     },
     "metadata": {},
     "output_type": "display_data"
    },
    {
     "data": {
      "application/vnd.jupyter.widget-view+json": {
       "model_id": "7f336510e0b94f70b958110fee1f1e56",
       "version_major": 2,
       "version_minor": 0
      },
      "text/plain": [
       "Validation: |                                                          | 0/? [00:00<?, ?it/s]"
      ]
     },
     "metadata": {},
     "output_type": "display_data"
    },
    {
     "data": {
      "application/vnd.jupyter.widget-view+json": {
       "model_id": "bb257cff9e7349828b0465326705ded6",
       "version_major": 2,
       "version_minor": 0
      },
      "text/plain": [
       "Validation: |                                                          | 0/? [00:00<?, ?it/s]"
      ]
     },
     "metadata": {},
     "output_type": "display_data"
    },
    {
     "data": {
      "application/vnd.jupyter.widget-view+json": {
       "model_id": "cc4f806e255549a3b530023b0d8e9a60",
       "version_major": 2,
       "version_minor": 0
      },
      "text/plain": [
       "Validation: |                                                          | 0/? [00:00<?, ?it/s]"
      ]
     },
     "metadata": {},
     "output_type": "display_data"
    },
    {
     "data": {
      "application/vnd.jupyter.widget-view+json": {
       "model_id": "6d849f1ae9d442bebfcccdce62143ad2",
       "version_major": 2,
       "version_minor": 0
      },
      "text/plain": [
       "Validation: |                                                          | 0/? [00:00<?, ?it/s]"
      ]
     },
     "metadata": {},
     "output_type": "display_data"
    },
    {
     "data": {
      "application/vnd.jupyter.widget-view+json": {
       "model_id": "65d718d7164f48f9882ef59d68b55d51",
       "version_major": 2,
       "version_minor": 0
      },
      "text/plain": [
       "Validation: |                                                          | 0/? [00:00<?, ?it/s]"
      ]
     },
     "metadata": {},
     "output_type": "display_data"
    },
    {
     "data": {
      "application/vnd.jupyter.widget-view+json": {
       "model_id": "445ead89c9b544e38ceaa1bcf892956f",
       "version_major": 2,
       "version_minor": 0
      },
      "text/plain": [
       "Validation: |                                                          | 0/? [00:00<?, ?it/s]"
      ]
     },
     "metadata": {},
     "output_type": "display_data"
    },
    {
     "data": {
      "application/vnd.jupyter.widget-view+json": {
       "model_id": "6f66d2aaf6c949e59d025925e9fcf9b0",
       "version_major": 2,
       "version_minor": 0
      },
      "text/plain": [
       "Validation: |                                                          | 0/? [00:00<?, ?it/s]"
      ]
     },
     "metadata": {},
     "output_type": "display_data"
    },
    {
     "data": {
      "application/vnd.jupyter.widget-view+json": {
       "model_id": "f1294aa4119144249475812f47ebc3d9",
       "version_major": 2,
       "version_minor": 0
      },
      "text/plain": [
       "Validation: |                                                          | 0/? [00:00<?, ?it/s]"
      ]
     },
     "metadata": {},
     "output_type": "display_data"
    },
    {
     "data": {
      "application/vnd.jupyter.widget-view+json": {
       "model_id": "220166eeba654576b281d39b8ba87733",
       "version_major": 2,
       "version_minor": 0
      },
      "text/plain": [
       "Validation: |                                                          | 0/? [00:00<?, ?it/s]"
      ]
     },
     "metadata": {},
     "output_type": "display_data"
    },
    {
     "data": {
      "application/vnd.jupyter.widget-view+json": {
       "model_id": "cee5f49654c44d16897cb36d4d4bbd7c",
       "version_major": 2,
       "version_minor": 0
      },
      "text/plain": [
       "Validation: |                                                          | 0/? [00:00<?, ?it/s]"
      ]
     },
     "metadata": {},
     "output_type": "display_data"
    },
    {
     "data": {
      "application/vnd.jupyter.widget-view+json": {
       "model_id": "163d169864c6485b95a8c935cbb672f6",
       "version_major": 2,
       "version_minor": 0
      },
      "text/plain": [
       "Validation: |                                                          | 0/? [00:00<?, ?it/s]"
      ]
     },
     "metadata": {},
     "output_type": "display_data"
    },
    {
     "data": {
      "application/vnd.jupyter.widget-view+json": {
       "model_id": "e438bc67d77f4077a563acd6a7f48584",
       "version_major": 2,
       "version_minor": 0
      },
      "text/plain": [
       "Validation: |                                                          | 0/? [00:00<?, ?it/s]"
      ]
     },
     "metadata": {},
     "output_type": "display_data"
    },
    {
     "data": {
      "application/vnd.jupyter.widget-view+json": {
       "model_id": "bc326a3a4dd04c39a085505fd2c797ec",
       "version_major": 2,
       "version_minor": 0
      },
      "text/plain": [
       "Validation: |                                                          | 0/? [00:00<?, ?it/s]"
      ]
     },
     "metadata": {},
     "output_type": "display_data"
    },
    {
     "data": {
      "application/vnd.jupyter.widget-view+json": {
       "model_id": "ca49b64d6e12485e9fd6a9444ec097b1",
       "version_major": 2,
       "version_minor": 0
      },
      "text/plain": [
       "Validation: |                                                          | 0/? [00:00<?, ?it/s]"
      ]
     },
     "metadata": {},
     "output_type": "display_data"
    },
    {
     "data": {
      "application/vnd.jupyter.widget-view+json": {
       "model_id": "1e85a7d5a30d4a95998a125bc631fa35",
       "version_major": 2,
       "version_minor": 0
      },
      "text/plain": [
       "Validation: |                                                          | 0/? [00:00<?, ?it/s]"
      ]
     },
     "metadata": {},
     "output_type": "display_data"
    },
    {
     "data": {
      "application/vnd.jupyter.widget-view+json": {
       "model_id": "2ddf7ff0a47f40d5b225898652de1e0c",
       "version_major": 2,
       "version_minor": 0
      },
      "text/plain": [
       "Validation: |                                                          | 0/? [00:00<?, ?it/s]"
      ]
     },
     "metadata": {},
     "output_type": "display_data"
    },
    {
     "data": {
      "application/vnd.jupyter.widget-view+json": {
       "model_id": "c4d57799cbc44f618e596af83bc6cd9e",
       "version_major": 2,
       "version_minor": 0
      },
      "text/plain": [
       "Validation: |                                                          | 0/? [00:00<?, ?it/s]"
      ]
     },
     "metadata": {},
     "output_type": "display_data"
    },
    {
     "data": {
      "application/vnd.jupyter.widget-view+json": {
       "model_id": "4df81c18fb6b440c83dc07a69fd8cf11",
       "version_major": 2,
       "version_minor": 0
      },
      "text/plain": [
       "Validation: |                                                          | 0/? [00:00<?, ?it/s]"
      ]
     },
     "metadata": {},
     "output_type": "display_data"
    },
    {
     "data": {
      "application/vnd.jupyter.widget-view+json": {
       "model_id": "b88c5393f1ab44d28ddae9111dd01a74",
       "version_major": 2,
       "version_minor": 0
      },
      "text/plain": [
       "Validation: |                                                          | 0/? [00:00<?, ?it/s]"
      ]
     },
     "metadata": {},
     "output_type": "display_data"
    },
    {
     "data": {
      "application/vnd.jupyter.widget-view+json": {
       "model_id": "473ee7a3908a4e59b68b9fe7dac35256",
       "version_major": 2,
       "version_minor": 0
      },
      "text/plain": [
       "Validation: |                                                          | 0/? [00:00<?, ?it/s]"
      ]
     },
     "metadata": {},
     "output_type": "display_data"
    },
    {
     "data": {
      "application/vnd.jupyter.widget-view+json": {
       "model_id": "00d7bc00bb734f88800a8d6c2669d7ca",
       "version_major": 2,
       "version_minor": 0
      },
      "text/plain": [
       "Validation: |                                                          | 0/? [00:00<?, ?it/s]"
      ]
     },
     "metadata": {},
     "output_type": "display_data"
    },
    {
     "data": {
      "application/vnd.jupyter.widget-view+json": {
       "model_id": "96727caefb7c4257b886c9370ae00217",
       "version_major": 2,
       "version_minor": 0
      },
      "text/plain": [
       "Validation: |                                                          | 0/? [00:00<?, ?it/s]"
      ]
     },
     "metadata": {},
     "output_type": "display_data"
    },
    {
     "data": {
      "application/vnd.jupyter.widget-view+json": {
       "model_id": "d92676761c1045dfb975ee97c47e2322",
       "version_major": 2,
       "version_minor": 0
      },
      "text/plain": [
       "Validation: |                                                          | 0/? [00:00<?, ?it/s]"
      ]
     },
     "metadata": {},
     "output_type": "display_data"
    },
    {
     "data": {
      "application/vnd.jupyter.widget-view+json": {
       "model_id": "0745c2cb1cfe4e488654d03e34789e52",
       "version_major": 2,
       "version_minor": 0
      },
      "text/plain": [
       "Validation: |                                                          | 0/? [00:00<?, ?it/s]"
      ]
     },
     "metadata": {},
     "output_type": "display_data"
    },
    {
     "data": {
      "application/vnd.jupyter.widget-view+json": {
       "model_id": "5210a48c33834d2892aaee8c0e6d5221",
       "version_major": 2,
       "version_minor": 0
      },
      "text/plain": [
       "Validation: |                                                          | 0/? [00:00<?, ?it/s]"
      ]
     },
     "metadata": {},
     "output_type": "display_data"
    },
    {
     "data": {
      "application/vnd.jupyter.widget-view+json": {
       "model_id": "7820be52e93749abb77efe053decde4c",
       "version_major": 2,
       "version_minor": 0
      },
      "text/plain": [
       "Validation: |                                                          | 0/? [00:00<?, ?it/s]"
      ]
     },
     "metadata": {},
     "output_type": "display_data"
    },
    {
     "data": {
      "application/vnd.jupyter.widget-view+json": {
       "model_id": "83c54853754f4a5c9b63fe8271a2c8b0",
       "version_major": 2,
       "version_minor": 0
      },
      "text/plain": [
       "Validation: |                                                          | 0/? [00:00<?, ?it/s]"
      ]
     },
     "metadata": {},
     "output_type": "display_data"
    },
    {
     "data": {
      "application/vnd.jupyter.widget-view+json": {
       "model_id": "edd6fc847a8c471f9c7d74195fc190b2",
       "version_major": 2,
       "version_minor": 0
      },
      "text/plain": [
       "Validation: |                                                          | 0/? [00:00<?, ?it/s]"
      ]
     },
     "metadata": {},
     "output_type": "display_data"
    },
    {
     "data": {
      "application/vnd.jupyter.widget-view+json": {
       "model_id": "81b978eda4b5426f9b7088f3bdbfd627",
       "version_major": 2,
       "version_minor": 0
      },
      "text/plain": [
       "Validation: |                                                          | 0/? [00:00<?, ?it/s]"
      ]
     },
     "metadata": {},
     "output_type": "display_data"
    },
    {
     "data": {
      "application/vnd.jupyter.widget-view+json": {
       "model_id": "a0be858b50da42158db3ff5107bacb5f",
       "version_major": 2,
       "version_minor": 0
      },
      "text/plain": [
       "Validation: |                                                          | 0/? [00:00<?, ?it/s]"
      ]
     },
     "metadata": {},
     "output_type": "display_data"
    },
    {
     "data": {
      "application/vnd.jupyter.widget-view+json": {
       "model_id": "9320b523465a4ed5805b7f818196e34a",
       "version_major": 2,
       "version_minor": 0
      },
      "text/plain": [
       "Validation: |                                                          | 0/? [00:00<?, ?it/s]"
      ]
     },
     "metadata": {},
     "output_type": "display_data"
    },
    {
     "data": {
      "application/vnd.jupyter.widget-view+json": {
       "model_id": "eb5865be12944b359e903b72e1af440f",
       "version_major": 2,
       "version_minor": 0
      },
      "text/plain": [
       "Validation: |                                                          | 0/? [00:00<?, ?it/s]"
      ]
     },
     "metadata": {},
     "output_type": "display_data"
    },
    {
     "data": {
      "application/vnd.jupyter.widget-view+json": {
       "model_id": "83d6d26edc834876a05ece896eef40e0",
       "version_major": 2,
       "version_minor": 0
      },
      "text/plain": [
       "Validation: |                                                          | 0/? [00:00<?, ?it/s]"
      ]
     },
     "metadata": {},
     "output_type": "display_data"
    },
    {
     "data": {
      "application/vnd.jupyter.widget-view+json": {
       "model_id": "ab81f165e1c0453f965f6ff9b8c7b531",
       "version_major": 2,
       "version_minor": 0
      },
      "text/plain": [
       "Validation: |                                                          | 0/? [00:00<?, ?it/s]"
      ]
     },
     "metadata": {},
     "output_type": "display_data"
    },
    {
     "data": {
      "application/vnd.jupyter.widget-view+json": {
       "model_id": "a5d07e689e554567a45b43620f13eeef",
       "version_major": 2,
       "version_minor": 0
      },
      "text/plain": [
       "Validation: |                                                          | 0/? [00:00<?, ?it/s]"
      ]
     },
     "metadata": {},
     "output_type": "display_data"
    },
    {
     "data": {
      "application/vnd.jupyter.widget-view+json": {
       "model_id": "fa8cda9836334def92cf5bd8217498b2",
       "version_major": 2,
       "version_minor": 0
      },
      "text/plain": [
       "Validation: |                                                          | 0/? [00:00<?, ?it/s]"
      ]
     },
     "metadata": {},
     "output_type": "display_data"
    },
    {
     "data": {
      "application/vnd.jupyter.widget-view+json": {
       "model_id": "28e2d2b50d6b4ae1899deb3fbdf770ff",
       "version_major": 2,
       "version_minor": 0
      },
      "text/plain": [
       "Validation: |                                                          | 0/? [00:00<?, ?it/s]"
      ]
     },
     "metadata": {},
     "output_type": "display_data"
    },
    {
     "data": {
      "application/vnd.jupyter.widget-view+json": {
       "model_id": "5777e917bf004211a12100a214b7143a",
       "version_major": 2,
       "version_minor": 0
      },
      "text/plain": [
       "Validation: |                                                          | 0/? [00:00<?, ?it/s]"
      ]
     },
     "metadata": {},
     "output_type": "display_data"
    },
    {
     "data": {
      "application/vnd.jupyter.widget-view+json": {
       "model_id": "050ea6acf6ac420d8adb61263ee9e199",
       "version_major": 2,
       "version_minor": 0
      },
      "text/plain": [
       "Validation: |                                                          | 0/? [00:00<?, ?it/s]"
      ]
     },
     "metadata": {},
     "output_type": "display_data"
    },
    {
     "data": {
      "application/vnd.jupyter.widget-view+json": {
       "model_id": "58d5b3da24f74a6084b625e9d2892c7d",
       "version_major": 2,
       "version_minor": 0
      },
      "text/plain": [
       "Validation: |                                                          | 0/? [00:00<?, ?it/s]"
      ]
     },
     "metadata": {},
     "output_type": "display_data"
    },
    {
     "data": {
      "application/vnd.jupyter.widget-view+json": {
       "model_id": "f45fa2a09f784e59b7ffbd56e5caabae",
       "version_major": 2,
       "version_minor": 0
      },
      "text/plain": [
       "Validation: |                                                          | 0/? [00:00<?, ?it/s]"
      ]
     },
     "metadata": {},
     "output_type": "display_data"
    },
    {
     "data": {
      "application/vnd.jupyter.widget-view+json": {
       "model_id": "7538620f7e7844af95f7830004ef6105",
       "version_major": 2,
       "version_minor": 0
      },
      "text/plain": [
       "Validation: |                                                          | 0/? [00:00<?, ?it/s]"
      ]
     },
     "metadata": {},
     "output_type": "display_data"
    },
    {
     "data": {
      "text/html": [],
      "text/plain": [
       "<IPython.core.display.HTML object>"
      ]
     },
     "metadata": {},
     "output_type": "display_data"
    },
    {
     "data": {
      "text/html": [
       "<br>    <style><br>        .wandb-row {<br>            display: flex;<br>            flex-direction: row;<br>            flex-wrap: wrap;<br>            justify-content: flex-start;<br>            width: 100%;<br>        }<br>        .wandb-col {<br>            display: flex;<br>            flex-direction: column;<br>            flex-basis: 100%;<br>            flex: 1;<br>            padding: 10px;<br>        }<br>    </style><br><div class=\"wandb-row\"><div class=\"wandb-col\"><h3>Run history:</h3><br/><table class=\"wandb\"><tr><td>epoch</td><td>▁▁▁▁▁▂▂▂▂▂▃▃▃▃▃▄▄▄▅▅▅▅▅▅▆▆▆▆▆▆▆▆▇▇▇▇▇███</td></tr><tr><td>exp_pearson</td><td>▆▁▂▃▂▇▇██▇▇▇█▆▅▇▇▆█▇▇▇▇█▇▇▇▆▅▇▆▇▇▇▇▇▇▇▇▇</td></tr><tr><td>exp_r2</td><td>▄▃▄▁▄█▇▇▇▆▆▆▇▇▇▆▆▅▄▆▅▄▃▄▄▅▃▄▄▄▄▄▄▃▃▄▄▃▄▃</td></tr><tr><td>exp_spearman</td><td>▅▇▅▇▆▆▅▄▆▅▄▆█▇▆▇▃▇▃▂▇▄▄▅▄▆██▆▆▅▃▄▃▁▃▁▂▁▃</td></tr><tr><td>train_exp_loss</td><td>███▇▆▆▄▆▇▇▆█▆▆▇▇▅▆▃▆▇▅▃▃▅▂▇▇▅▆▁▇▆▂▆▁▅▆</td></tr><tr><td>train_loss</td><td>███▇▆▆▄▆▇▇▆█▆▆▇▇▅▆▃▆▇▅▃▃▅▂▇▇▅▆▁▇▆▂▆▁▅▆</td></tr><tr><td>trainer/global_step</td><td>▁▁▁▁▂▂▂▂▂▂▃▃▃▃▃▄▄▄▄▄▄▄▄▅▅▅▅▅▆▆▆▆▆▆▇▇▇███</td></tr><tr><td>val_exp_loss</td><td>▆▅▇▅▅▂▂▁▂▂▆▃█▂▄▂▂▃▃▄▄▆▅▆▄▆▆▅▆▄▆▅▆▅▇▇▆▆▅▇</td></tr><tr><td>val_loss</td><td>▅▅▁▂▁▁▁▂▂▃▆▃▃█▄▂▃▃▃▆▄▄▄▄▅▆▄▅▆▄▅▅▆▇▄█▅▇█▆</td></tr></table><br/></div><div class=\"wandb-col\"><h3>Run summary:</h3><br/><table class=\"wandb\"><tr><td>epoch</td><td>49</td></tr><tr><td>exp_pearson</td><td>0.03649</td></tr><tr><td>exp_r2</td><td>-0.06914</td></tr><tr><td>exp_spearman</td><td>0.27544</td></tr><tr><td>train_exp_loss</td><td>-10.84485</td></tr><tr><td>train_loss</td><td>-10.84485</td></tr><tr><td>trainer/global_step</td><td>949</td></tr><tr><td>val_exp_loss</td><td>-1.54674</td></tr><tr><td>val_loss</td><td>-1.54674</td></tr></table><br/></div></div>"
      ],
      "text/plain": [
       "<IPython.core.display.HTML object>"
      ]
     },
     "metadata": {},
     "output_type": "display_data"
    },
    {
     "data": {
      "text/html": [
       " View run <strong style=\"color:#cdcd00\">training_from_finetune_no_lora_chr1_split_QATAC_no_checkpoint</strong> at: <a href='https://wandb.ai/faithogun-royal-college-of-surgeons-ireland-rcsi-/finetune_all_chrs/runs/1h159qym' target=\"_blank\">https://wandb.ai/faithogun-royal-college-of-surgeons-ireland-rcsi-/finetune_all_chrs/runs/1h159qym</a><br> View project at: <a href='https://wandb.ai/faithogun-royal-college-of-surgeons-ireland-rcsi-/finetune_all_chrs' target=\"_blank\">https://wandb.ai/faithogun-royal-college-of-surgeons-ireland-rcsi-/finetune_all_chrs</a><br>Synced 5 W&B file(s), 151 media file(s), 0 artifact file(s) and 0 other file(s)"
      ],
      "text/plain": [
       "<IPython.core.display.HTML object>"
      ]
     },
     "metadata": {},
     "output_type": "display_data"
    },
    {
     "data": {
      "text/html": [
       "Find logs at: <code>./get_ML_output/finetune_all_chrs/training_from_finetune_no_lora_chr1_split_QATAC_no_checkpoint/wandb/run-20250208_140208-1h159qym/logs</code>"
      ],
      "text/plain": [
       "<IPython.core.display.HTML object>"
      ]
     },
     "metadata": {},
     "output_type": "display_data"
    },
    {
     "data": {
      "image/png": "[encoded data removed]",
      "text/plain": [
       "<Figure size 640x480 with 1 Axes>"
      ]
     },
     "metadata": {},
     "output_type": "display_data"
    }
   ],
   "source": [
    "# first run the model without initializing with a finetune checkpoint\n",
    "cfg.finetune.checkpoint = None\n",
    "cfg.run.use_wandb = True\n",
    "trainer = run(cfg)"
   ]
  },
  {
   "cell_type": "markdown",
   "metadata": {},
   "source": [
    " ## Finetune Run 3\n",
    " With previous pretrain checkpoint."
   ]
  },
  {
   "cell_type": "markdown",
   "metadata": {},
   "source": [
    "# Interpretation\n",
    "\n",
    "After finetuning, we can use the checkpoint to predict expression of all accessible genes and generate jacobian matrix of (peak x motif) for every predicted genes. \n",
    "To start, we need to collect the checkpoint we produced and switch to `predict` stage. Here, let's focus on CD4 Naive cell and we need to set `cfg.leave_out_celltypes` to `cd4_naive` for the model to predict gene expression in this cell type."
   ]
  },
  {
   "cell_type": "code",
   "execution_count": 13,
   "metadata": {},
   "outputs": [
    {
     "name": "stderr",
     "output_type": "stream",
     "text": [
      "Metric `SpearmanCorrcoef` will save all targets and predictions in the buffer. For large datasets, this may lead to large memory footprint.\n",
      "You are using `torch.load` with `weights_only=False` (the current default value), which uses the default pickle module implicitly. It is possible to construct malicious pickle data which will execute arbitrary code during unpickling (See https://github.com/pytorch/pytorch/blob/main/SECURITY.md#untrusted-models for more details). In a future release, the default value for `weights_only` will be flipped to `True`. This limits the functions that could be executed during unpickling. Arbitrary objects will no longer be allowed to be loaded via this mode unless they are explicitly allowlisted by the user via `torch.serialization.add_safe_globals`. We recommend you start setting `weights_only=True` for any use case where you don't have full control of the loaded file. Please open an issue on GitHub for any issues related to this experimental feature.\n"
     ]
    },
    {
     "name": "stdout",
     "output_type": "stream",
     "text": [
      "Load ckpt from /project/home/p200469/get_BIO1018/get_ML_output/pretrain_all_chrs/pretrain_mcf7_from_pretrain_no_lora/checkpoints/best.ckpt\n"
     ]
    },
    {
     "ename": "RuntimeError",
     "evalue": "Error(s) in loading state_dict for GETRegionFinetune:\n\tMissing key(s) in state_dict: \"cls_token\", \"region_embed.embed.weight\", \"region_embed.embed.bias\", \"encoder.blocks.0.norm1.weight\", \"encoder.blocks.0.norm1.bias\", \"encoder.blocks.0.attn.q_bias\", \"encoder.blocks.0.attn.v_bias\", \"encoder.blocks.0.attn.qkv.weight\", \"encoder.blocks.0.attn.proj.weight\", \"encoder.blocks.0.attn.proj.bias\", \"encoder.blocks.0.norm2.weight\", \"encoder.blocks.0.norm2.bias\", \"encoder.blocks.0.mlp.fc1.weight\", \"encoder.blocks.0.mlp.fc1.bias\", \"encoder.blocks.0.mlp.fc2.weight\", \"encoder.blocks.0.mlp.fc2.bias\", \"encoder.blocks.1.norm1.weight\", \"encoder.blocks.1.norm1.bias\", \"encoder.blocks.1.attn.q_bias\", \"encoder.blocks.1.attn.v_bias\", \"encoder.blocks.1.attn.qkv.weight\", \"encoder.blocks.1.attn.proj.weight\", \"encoder.blocks.1.attn.proj.bias\", \"encoder.blocks.1.norm2.weight\", \"encoder.blocks.1.norm2.bias\", \"encoder.blocks.1.mlp.fc1.weight\", \"encoder.blocks.1.mlp.fc1.bias\", \"encoder.blocks.1.mlp.fc2.weight\", \"encoder.blocks.1.mlp.fc2.bias\", \"encoder.blocks.2.norm1.weight\", \"encoder.blocks.2.norm1.bias\", \"encoder.blocks.2.attn.q_bias\", \"encoder.blocks.2.attn.v_bias\", \"encoder.blocks.2.attn.qkv.weight\", \"encoder.blocks.2.attn.proj.weight\", \"encoder.blocks.2.attn.proj.bias\", \"encoder.blocks.2.norm2.weight\", \"encoder.blocks.2.norm2.bias\", \"encoder.blocks.2.mlp.fc1.weight\", \"encoder.blocks.2.mlp.fc1.bias\", \"encoder.blocks.2.mlp.fc2.weight\", \"encoder.blocks.2.mlp.fc2.bias\", \"encoder.blocks.3.norm1.weight\", \"encoder.blocks.3.norm1.bias\", \"encoder.blocks.3.attn.q_bias\", \"encoder.blocks.3.attn.v_bias\", \"encoder.blocks.3.attn.qkv.weight\", \"encoder.blocks.3.attn.proj.weight\", \"encoder.blocks.3.attn.proj.bias\", \"encoder.blocks.3.norm2.weight\", \"encoder.blocks.3.norm2.bias\", \"encoder.blocks.3.mlp.fc1.weight\", \"encoder.blocks.3.mlp.fc1.bias\", \"encoder.blocks.3.mlp.fc2.weight\", \"encoder.blocks.3.mlp.fc2.bias\", \"encoder.blocks.4.norm1.weight\", \"encoder.blocks.4.norm1.bias\", \"encoder.blocks.4.attn.q_bias\", \"encoder.blocks.4.attn.v_bias\", \"encoder.blocks.4.attn.qkv.weight\", \"encoder.blocks.4.attn.proj.weight\", \"encoder.blocks.4.attn.proj.bias\", \"encoder.blocks.4.norm2.weight\", \"encoder.blocks.4.norm2.bias\", \"encoder.blocks.4.mlp.fc1.weight\", \"encoder.blocks.4.mlp.fc1.bias\", \"encoder.blocks.4.mlp.fc2.weight\", \"encoder.blocks.4.mlp.fc2.bias\", \"encoder.blocks.5.norm1.weight\", \"encoder.blocks.5.norm1.bias\", \"encoder.blocks.5.attn.q_bias\", \"encoder.blocks.5.attn.v_bias\", \"encoder.blocks.5.attn.qkv.weight\", \"encoder.blocks.5.attn.proj.weight\", \"encoder.blocks.5.attn.proj.bias\", \"encoder.blocks.5.norm2.weight\", \"encoder.blocks.5.norm2.bias\", \"encoder.blocks.5.mlp.fc1.weight\", \"encoder.blocks.5.mlp.fc1.bias\", \"encoder.blocks.5.mlp.fc2.weight\", \"encoder.blocks.5.mlp.fc2.bias\", \"encoder.blocks.6.norm1.weight\", \"encoder.blocks.6.norm1.bias\", \"encoder.blocks.6.attn.q_bias\", \"encoder.blocks.6.attn.v_bias\", \"encoder.blocks.6.attn.qkv.weight\", \"encoder.blocks.6.attn.proj.weight\", \"encoder.blocks.6.attn.proj.bias\", \"encoder.blocks.6.norm2.weight\", \"encoder.blocks.6.norm2.bias\", \"encoder.blocks.6.mlp.fc1.weight\", \"encoder.blocks.6.mlp.fc1.bias\", \"encoder.blocks.6.mlp.fc2.weight\", \"encoder.blocks.6.mlp.fc2.bias\", \"encoder.blocks.7.norm1.weight\", \"encoder.blocks.7.norm1.bias\", \"encoder.blocks.7.attn.q_bias\", \"encoder.blocks.7.attn.v_bias\", \"encoder.blocks.7.attn.qkv.weight\", \"encoder.blocks.7.attn.proj.weight\", \"encoder.blocks.7.attn.proj.bias\", \"encoder.blocks.7.norm2.weight\", \"encoder.blocks.7.norm2.bias\", \"encoder.blocks.7.mlp.fc1.weight\", \"encoder.blocks.7.mlp.fc1.bias\", \"encoder.blocks.7.mlp.fc2.weight\", \"encoder.blocks.7.mlp.fc2.bias\", \"encoder.blocks.8.norm1.weight\", \"encoder.blocks.8.norm1.bias\", \"encoder.blocks.8.attn.q_bias\", \"encoder.blocks.8.attn.v_bias\", \"encoder.blocks.8.attn.qkv.weight\", \"encoder.blocks.8.attn.proj.weight\", \"encoder.blocks.8.attn.proj.bias\", \"encoder.blocks.8.norm2.weight\", \"encoder.blocks.8.norm2.bias\", \"encoder.blocks.8.mlp.fc1.weight\", \"encoder.blocks.8.mlp.fc1.bias\", \"encoder.blocks.8.mlp.fc2.weight\", \"encoder.blocks.8.mlp.fc2.bias\", \"encoder.blocks.9.norm1.weight\", \"encoder.blocks.9.norm1.bias\", \"encoder.blocks.9.attn.q_bias\", \"encoder.blocks.9.attn.v_bias\", \"encoder.blocks.9.attn.qkv.weight\", \"encoder.blocks.9.attn.proj.weight\", \"encoder.blocks.9.attn.proj.bias\", \"encoder.blocks.9.norm2.weight\", \"encoder.blocks.9.norm2.bias\", \"encoder.blocks.9.mlp.fc1.weight\", \"encoder.blocks.9.mlp.fc1.bias\", \"encoder.blocks.9.mlp.fc2.weight\", \"encoder.blocks.9.mlp.fc2.bias\", \"encoder.blocks.10.norm1.weight\", \"encoder.blocks.10.norm1.bias\", \"encoder.blocks.10.attn.q_bias\", \"encoder.blocks.10.attn.v_bias\", \"encoder.blocks.10.attn.qkv.weight\", \"encoder.blocks.10.attn.proj.weight\", \"encoder.blocks.10.attn.proj.bias\", \"encoder.blocks.10.norm2.weight\", \"encoder.blocks.10.norm2.bias\", \"encoder.blocks.10.mlp.fc1.weight\", \"encoder.blocks.10.mlp.fc1.bias\", \"encoder.blocks.10.mlp.fc2.weight\", \"encoder.blocks.10.mlp.fc2.bias\", \"encoder.blocks.11.norm1.weight\", \"encoder.blocks.11.norm1.bias\", \"encoder.blocks.11.attn.q_bias\", \"encoder.blocks.11.attn.v_bias\", \"encoder.blocks.11.attn.qkv.weight\", \"encoder.blocks.11.attn.proj.weight\", \"encoder.blocks.11.attn.proj.bias\", \"encoder.blocks.11.norm2.weight\", \"encoder.blocks.11.norm2.bias\", \"encoder.blocks.11.mlp.fc1.weight\", \"encoder.blocks.11.mlp.fc1.bias\", \"encoder.blocks.11.mlp.fc2.weight\", \"encoder.blocks.11.mlp.fc2.bias\", \"encoder.norm.weight\", \"encoder.norm.bias\", \"head_exp.head.weight\", \"head_exp.head.bias\". \n\tUnexpected key(s) in state_dict: \"model.mask_token\", \"model.cls_token\", \"model.region_embed.embed.weight\", \"model.region_embed.embed.bias\", \"model.encoder.encoder.blocks.0.norm1.weight\", \"model.encoder.encoder.blocks.0.norm1.bias\", \"model.encoder.encoder.blocks.0.attn.q_bias\", \"model.encoder.encoder.blocks.0.attn.v_bias\", \"model.encoder.encoder.blocks.0.attn.qkv.weight\", \"model.encoder.encoder.blocks.0.attn.proj.weight\", \"model.encoder.encoder.blocks.0.attn.proj.bias\", \"model.encoder.encoder.blocks.0.norm2.weight\", \"model.encoder.encoder.blocks.0.norm2.bias\", \"model.encoder.encoder.blocks.0.mlp.fc1.weight\", \"model.encoder.encoder.blocks.0.mlp.fc1.bias\", \"model.encoder.encoder.blocks.0.mlp.fc2.weight\", \"model.encoder.encoder.blocks.0.mlp.fc2.bias\", \"model.encoder.encoder.blocks.1.norm1.weight\", \"model.encoder.encoder.blocks.1.norm1.bias\", \"model.encoder.encoder.blocks.1.attn.q_bias\", \"model.encoder.encoder.blocks.1.attn.v_bias\", \"model.encoder.encoder.blocks.1.attn.qkv.weight\", \"model.encoder.encoder.blocks.1.attn.proj.weight\", \"model.encoder.encoder.blocks.1.attn.proj.bias\", \"model.encoder.encoder.blocks.1.norm2.weight\", \"model.encoder.encoder.blocks.1.norm2.bias\", \"model.encoder.encoder.blocks.1.mlp.fc1.weight\", \"model.encoder.encoder.blocks.1.mlp.fc1.bias\", \"model.encoder.encoder.blocks.1.mlp.fc2.weight\", \"model.encoder.encoder.blocks.1.mlp.fc2.bias\", \"model.encoder.encoder.blocks.2.norm1.weight\", \"model.encoder.encoder.blocks.2.norm1.bias\", \"model.encoder.encoder.blocks.2.attn.q_bias\", \"model.encoder.encoder.blocks.2.attn.v_bias\", \"model.encoder.encoder.blocks.2.attn.qkv.weight\", \"model.encoder.encoder.blocks.2.attn.proj.weight\", \"model.encoder.encoder.blocks.2.attn.proj.bias\", \"model.encoder.encoder.blocks.2.norm2.weight\", \"model.encoder.encoder.blocks.2.norm2.bias\", \"model.encoder.encoder.blocks.2.mlp.fc1.weight\", \"model.encoder.encoder.blocks.2.mlp.fc1.bias\", \"model.encoder.encoder.blocks.2.mlp.fc2.weight\", \"model.encoder.encoder.blocks.2.mlp.fc2.bias\", \"model.encoder.encoder.blocks.3.norm1.weight\", \"model.encoder.encoder.blocks.3.norm1.bias\", \"model.encoder.encoder.blocks.3.attn.q_bias\", \"model.encoder.encoder.blocks.3.attn.v_bias\", \"model.encoder.encoder.blocks.3.attn.qkv.weight\", \"model.encoder.encoder.blocks.3.attn.proj.weight\", \"model.encoder.encoder.blocks.3.attn.proj.bias\", \"model.encoder.encoder.blocks.3.norm2.weight\", \"model.encoder.encoder.blocks.3.norm2.bias\", \"model.encoder.encoder.blocks.3.mlp.fc1.weight\", \"model.encoder.encoder.blocks.3.mlp.fc1.bias\", \"model.encoder.encoder.blocks.3.mlp.fc2.weight\", \"model.encoder.encoder.blocks.3.mlp.fc2.bias\", \"model.encoder.encoder.blocks.4.norm1.weight\", \"model.encoder.encoder.blocks.4.norm1.bias\", \"model.encoder.encoder.blocks.4.attn.q_bias\", \"model.encoder.encoder.blocks.4.attn.v_bias\", \"model.encoder.encoder.blocks.4.attn.qkv.weight\", \"model.encoder.encoder.blocks.4.attn.proj.weight\", \"model.encoder.encoder.blocks.4.attn.proj.bias\", \"model.encoder.encoder.blocks.4.norm2.weight\", \"model.encoder.encoder.blocks.4.norm2.bias\", \"model.encoder.encoder.blocks.4.mlp.fc1.weight\", \"model.encoder.encoder.blocks.4.mlp.fc1.bias\", \"model.encoder.encoder.blocks.4.mlp.fc2.weight\", \"model.encoder.encoder.blocks.4.mlp.fc2.bias\", \"model.encoder.encoder.blocks.5.norm1.weight\", \"model.encoder.encoder.blocks.5.norm1.bias\", \"model.encoder.encoder.blocks.5.attn.q_bias\", \"model.encoder.encoder.blocks.5.attn.v_bias\", \"model.encoder.encoder.blocks.5.attn.qkv.weight\", \"model.encoder.encoder.blocks.5.attn.proj.weight\", \"model.encoder.encoder.blocks.5.attn.proj.bias\", \"model.encoder.encoder.blocks.5.norm2.weight\", \"model.encoder.encoder.blocks.5.norm2.bias\", \"model.encoder.encoder.blocks.5.mlp.fc1.weight\", \"model.encoder.encoder.blocks.5.mlp.fc1.bias\", \"model.encoder.encoder.blocks.5.mlp.fc2.weight\", \"model.encoder.encoder.blocks.5.mlp.fc2.bias\", \"model.encoder.encoder.blocks.6.norm1.weight\", \"model.encoder.encoder.blocks.6.norm1.bias\", \"model.encoder.encoder.blocks.6.attn.q_bias\", \"model.encoder.encoder.blocks.6.attn.v_bias\", \"model.encoder.encoder.blocks.6.attn.qkv.weight\", \"model.encoder.encoder.blocks.6.attn.proj.weight\", \"model.encoder.encoder.blocks.6.attn.proj.bias\", \"model.encoder.encoder.blocks.6.norm2.weight\", \"model.encoder.encoder.blocks.6.norm2.bias\", \"model.encoder.encoder.blocks.6.mlp.fc1.weight\", \"model.encoder.encoder.blocks.6.mlp.fc1.bias\", \"model.encoder.encoder.blocks.6.mlp.fc2.weight\", \"model.encoder.encoder.blocks.6.mlp.fc2.bias\", \"model.encoder.encoder.blocks.7.norm1.weight\", \"model.encoder.encoder.blocks.7.norm1.bias\", \"model.encoder.encoder.blocks.7.attn.q_bias\", \"model.encoder.encoder.blocks.7.attn.v_bias\", \"model.encoder.encoder.blocks.7.attn.qkv.weight\", \"model.encoder.encoder.blocks.7.attn.proj.weight\", \"model.encoder.encoder.blocks.7.attn.proj.bias\", \"model.encoder.encoder.blocks.7.norm2.weight\", \"model.encoder.encoder.blocks.7.norm2.bias\", \"model.encoder.encoder.blocks.7.mlp.fc1.weight\", \"model.encoder.encoder.blocks.7.mlp.fc1.bias\", \"model.encoder.encoder.blocks.7.mlp.fc2.weight\", \"model.encoder.encoder.blocks.7.mlp.fc2.bias\", \"model.encoder.encoder.blocks.8.norm1.weight\", \"model.encoder.encoder.blocks.8.norm1.bias\", \"model.encoder.encoder.blocks.8.attn.q_bias\", \"model.encoder.encoder.blocks.8.attn.v_bias\", \"model.encoder.encoder.blocks.8.attn.qkv.weight\", \"model.encoder.encoder.blocks.8.attn.proj.weight\", \"model.encoder.encoder.blocks.8.attn.proj.bias\", \"model.encoder.encoder.blocks.8.norm2.weight\", \"model.encoder.encoder.blocks.8.norm2.bias\", \"model.encoder.encoder.blocks.8.mlp.fc1.weight\", \"model.encoder.encoder.blocks.8.mlp.fc1.bias\", \"model.encoder.encoder.blocks.8.mlp.fc2.weight\", \"model.encoder.encoder.blocks.8.mlp.fc2.bias\", \"model.encoder.encoder.blocks.9.norm1.weight\", \"model.encoder.encoder.blocks.9.norm1.bias\", \"model.encoder.encoder.blocks.9.attn.q_bias\", \"model.encoder.encoder.blocks.9.attn.v_bias\", \"model.encoder.encoder.blocks.9.attn.qkv.weight\", \"model.encoder.encoder.blocks.9.attn.proj.weight\", \"model.encoder.encoder.blocks.9.attn.proj.bias\", \"model.encoder.encoder.blocks.9.norm2.weight\", \"model.encoder.encoder.blocks.9.norm2.bias\", \"model.encoder.encoder.blocks.9.mlp.fc1.weight\", \"model.encoder.encoder.blocks.9.mlp.fc1.bias\", \"model.encoder.encoder.blocks.9.mlp.fc2.weight\", \"model.encoder.encoder.blocks.9.mlp.fc2.bias\", \"model.encoder.encoder.blocks.10.norm1.weight\", \"model.encoder.encoder.blocks.10.norm1.bias\", \"model.encoder.encoder.blocks.10.attn.q_bias\", \"model.encoder.encoder.blocks.10.attn.v_bias\", \"model.encoder.encoder.blocks.10.attn.qkv.weight\", \"model.encoder.encoder.blocks.10.attn.proj.weight\", \"model.encoder.encoder.blocks.10.attn.proj.bias\", \"model.encoder.encoder.blocks.10.norm2.weight\", \"model.encoder.encoder.blocks.10.norm2.bias\", \"model.encoder.encoder.blocks.10.mlp.fc1.weight\", \"model.encoder.encoder.blocks.10.mlp.fc1.bias\", \"model.encoder.encoder.blocks.10.mlp.fc2.weight\", \"model.encoder.encoder.blocks.10.mlp.fc2.bias\", \"model.encoder.encoder.blocks.11.norm1.weight\", \"model.encoder.encoder.blocks.11.norm1.bias\", \"model.encoder.encoder.blocks.11.attn.q_bias\", \"model.encoder.encoder.blocks.11.attn.v_bias\", \"model.encoder.encoder.blocks.11.attn.qkv.weight\", \"model.encoder.encoder.blocks.11.attn.proj.weight\", \"model.encoder.encoder.blocks.11.attn.proj.bias\", \"model.encoder.encoder.blocks.11.norm2.weight\", \"model.encoder.encoder.blocks.11.norm2.bias\", \"model.encoder.encoder.blocks.11.mlp.fc1.weight\", \"model.encoder.encoder.blocks.11.mlp.fc1.bias\", \"model.encoder.encoder.blocks.11.mlp.fc2.weight\", \"model.encoder.encoder.blocks.11.mlp.fc2.bias\", \"model.encoder.norm.weight\", \"model.encoder.norm.bias\", \"model.head_mask.weight\", \"model.head_mask.bias\". ",
     "output_type": "error",
     "traceback": [
      "\u001b[0;31m---------------------------------------------------------------------------\u001b[0m",
      "\u001b[0;31mRuntimeError\u001b[0m                              Traceback (most recent call last)",
      "Cell \u001b[0;32mIn[13], line 14\u001b[0m\n\u001b[1;32m     11\u001b[0m cfg\u001b[39m.\u001b[39mrun\u001b[39m.\u001b[39mrun_name\u001b[39m=\u001b[39m\u001b[39m'\u001b[39m\u001b[39minterpret_training_from_finetune_lora_chr1_split_QATAC\u001b[39m\u001b[39m'\u001b[39m\n\u001b[1;32m     13\u001b[0m cfg\u001b[39m.\u001b[39mdataset\u001b[39m.\u001b[39mleave_out_celltypes \u001b[39m=\u001b[39m \u001b[39m'\u001b[39m\u001b[39m'\u001b[39m\n\u001b[0;32m---> 14\u001b[0m trainer \u001b[39m=\u001b[39m run(cfg)\n\u001b[1;32m     16\u001b[0m \u001b[39m# Pearson 0.896\u001b[39;00m\n\u001b[1;32m     17\u001b[0m \u001b[39m# R^2 0.793\u001b[39;00m\n\u001b[1;32m     18\u001b[0m \u001b[39m# Spearman 0.803\u001b[39;00m\n",
      "File \u001b[0;32m/opt/conda/lib/python3.12/site-packages/get_model/run_region.py:432\u001b[0m, in \u001b[0;36mrun_zarr\u001b[0;34m(cfg)\u001b[0m\n\u001b[1;32m    431\u001b[0m \u001b[39mdef\u001b[39;00m\u001b[39m \u001b[39m\u001b[39mrun_zarr\u001b[39m(cfg: DictConfig):\n\u001b[0;32m--> 432\u001b[0m     model \u001b[39m=\u001b[39m RegionLitModel(cfg)\n\u001b[1;32m    433\u001b[0m     logging\u001b[39m.\u001b[39mdebug(OmegaConf\u001b[39m.\u001b[39mto_yaml(cfg))\n\u001b[1;32m    434\u001b[0m     dm \u001b[39m=\u001b[39m RegionZarrDataModule(cfg)\n",
      "File \u001b[0;32m/opt/conda/lib/python3.12/site-packages/get_model/run_region.py:119\u001b[0m, in \u001b[0;36mRegionLitModel.__init__\u001b[0;34m(self, cfg)\u001b[0m\n\u001b[1;32m    118\u001b[0m \u001b[39mdef\u001b[39;00m\u001b[39m \u001b[39m\u001b[39m__init__\u001b[39m(\u001b[39mself\u001b[39m, cfg: DictConfig):\n\u001b[0;32m--> 119\u001b[0m     \u001b[39msuper\u001b[39;49m()\u001b[39m.\u001b[39;49m\u001b[39m__init__\u001b[39;49m(cfg)\n",
      "File \u001b[0;32m/opt/conda/lib/python3.12/site-packages/get_model/run.py:107\u001b[0m, in \u001b[0;36mLitModel.__init__\u001b[0;34m(self, cfg)\u001b[0m\n\u001b[1;32m    105\u001b[0m \u001b[39msuper\u001b[39m()\u001b[39m.\u001b[39m\u001b[39m__init__\u001b[39m()\n\u001b[1;32m    106\u001b[0m \u001b[39mself\u001b[39m\u001b[39m.\u001b[39mcfg \u001b[39m=\u001b[39m cfg\n\u001b[0;32m--> 107\u001b[0m \u001b[39mself\u001b[39m\u001b[39m.\u001b[39mmodel \u001b[39m=\u001b[39m \u001b[39mself\u001b[39;49m\u001b[39m.\u001b[39;49mget_model()\n\u001b[1;32m    108\u001b[0m \u001b[39mself\u001b[39m\u001b[39m.\u001b[39mloss \u001b[39m=\u001b[39m \u001b[39mself\u001b[39m\u001b[39m.\u001b[39mmodel\u001b[39m.\u001b[39mloss\n\u001b[1;32m    109\u001b[0m \u001b[39mself\u001b[39m\u001b[39m.\u001b[39mmetrics \u001b[39m=\u001b[39m \u001b[39mself\u001b[39m\u001b[39m.\u001b[39mmodel\u001b[39m.\u001b[39mmetrics\n",
      "File \u001b[0;32m/opt/conda/lib/python3.12/site-packages/get_model/run_region.py:353\u001b[0m, in \u001b[0;36mRegionLitModel.get_model\u001b[0;34m(self)\u001b[0m\n\u001b[1;32m    351\u001b[0m         add_lora_by_name(model, \u001b[39mself\u001b[39m\u001b[39m.\u001b[39mcfg\u001b[39m.\u001b[39mfinetune\u001b[39m.\u001b[39mlayers_with_lora, lora_config)\n\u001b[1;32m    352\u001b[0m     \u001b[39melse\u001b[39;00m:\n\u001b[0;32m--> 353\u001b[0m         load_state_dict(\n\u001b[1;32m    354\u001b[0m             model, checkpoint_model, strict\u001b[39m=\u001b[39;49m\u001b[39mself\u001b[39;49m\u001b[39m.\u001b[39;49mcfg\u001b[39m.\u001b[39;49mfinetune\u001b[39m.\u001b[39;49mstrict\n\u001b[1;32m    355\u001b[0m         )\n\u001b[1;32m    357\u001b[0m \u001b[39m# Load additional checkpoints\u001b[39;00m\n\u001b[1;32m    358\u001b[0m \u001b[39mif\u001b[39;00m \u001b[39mlen\u001b[39m(\u001b[39mself\u001b[39m\u001b[39m.\u001b[39mcfg\u001b[39m.\u001b[39mfinetune\u001b[39m.\u001b[39madditional_checkpoints) \u001b[39m>\u001b[39m \u001b[39m0\u001b[39m:\n",
      "File \u001b[0;32m/opt/conda/lib/python3.12/site-packages/get_model/utils.py:224\u001b[0m, in \u001b[0;36mload_state_dict\u001b[0;34m(model, state_dict, strict, patterns_to_drop)\u001b[0m\n\u001b[1;32m    222\u001b[0m \u001b[39mfor\u001b[39;00m pattern \u001b[39min\u001b[39;00m patterns_to_drop:\n\u001b[1;32m    223\u001b[0m     state_dict \u001b[39m=\u001b[39m {k: v \u001b[39mfor\u001b[39;00m k, v \u001b[39min\u001b[39;00m state_dict\u001b[39m.\u001b[39mitems() \u001b[39mif\u001b[39;00m pattern \u001b[39mnot\u001b[39;00m \u001b[39min\u001b[39;00m k}\n\u001b[0;32m--> 224\u001b[0m model\u001b[39m.\u001b[39;49mload_state_dict(state_dict, strict\u001b[39m=\u001b[39;49mstrict)\n",
      "File \u001b[0;32m/opt/conda/lib/python3.12/site-packages/torch/nn/modules/module.py:2584\u001b[0m, in \u001b[0;36mModule.load_state_dict\u001b[0;34m(self, state_dict, strict, assign)\u001b[0m\n\u001b[1;32m   2576\u001b[0m         error_msgs\u001b[39m.\u001b[39minsert(\n\u001b[1;32m   2577\u001b[0m             \u001b[39m0\u001b[39m,\n\u001b[1;32m   2578\u001b[0m             \u001b[39m\"\u001b[39m\u001b[39mMissing key(s) in state_dict: \u001b[39m\u001b[39m{}\u001b[39;00m\u001b[39m. \u001b[39m\u001b[39m\"\u001b[39m\u001b[39m.\u001b[39mformat(\n\u001b[1;32m   2579\u001b[0m                 \u001b[39m\"\u001b[39m\u001b[39m, \u001b[39m\u001b[39m\"\u001b[39m\u001b[39m.\u001b[39mjoin(\u001b[39mf\u001b[39m\u001b[39m'\u001b[39m\u001b[39m\"\u001b[39m\u001b[39m{\u001b[39;00mk\u001b[39m}\u001b[39;00m\u001b[39m\"\u001b[39m\u001b[39m'\u001b[39m \u001b[39mfor\u001b[39;00m k \u001b[39min\u001b[39;00m missing_keys)\n\u001b[1;32m   2580\u001b[0m             ),\n\u001b[1;32m   2581\u001b[0m         )\n\u001b[1;32m   2583\u001b[0m \u001b[39mif\u001b[39;00m \u001b[39mlen\u001b[39m(error_msgs) \u001b[39m>\u001b[39m \u001b[39m0\u001b[39m:\n\u001b[0;32m-> 2584\u001b[0m     \u001b[39mraise\u001b[39;00m \u001b[39mRuntimeError\u001b[39;00m(\n\u001b[1;32m   2585\u001b[0m         \u001b[39m\"\u001b[39m\u001b[39mError(s) in loading state_dict for \u001b[39m\u001b[39m{}\u001b[39;00m\u001b[39m:\u001b[39m\u001b[39m\\n\u001b[39;00m\u001b[39m\\t\u001b[39;00m\u001b[39m{}\u001b[39;00m\u001b[39m\"\u001b[39m\u001b[39m.\u001b[39mformat(\n\u001b[1;32m   2586\u001b[0m             \u001b[39mself\u001b[39m\u001b[39m.\u001b[39m\u001b[39m__class__\u001b[39m\u001b[39m.\u001b[39m\u001b[39m__name__\u001b[39m, \u001b[39m\"\u001b[39m\u001b[39m\\n\u001b[39;00m\u001b[39m\\t\u001b[39;00m\u001b[39m\"\u001b[39m\u001b[39m.\u001b[39mjoin(error_msgs)\n\u001b[1;32m   2587\u001b[0m         )\n\u001b[1;32m   2588\u001b[0m     )\n\u001b[1;32m   2589\u001b[0m \u001b[39mreturn\u001b[39;00m _IncompatibleKeys(missing_keys, unexpected_keys)\n",
      "\u001b[0;31mRuntimeError\u001b[0m: Error(s) in loading state_dict for GETRegionFinetune:\n\tMissing key(s) in state_dict: \"cls_token\", \"region_embed.embed.weight\", \"region_embed.embed.bias\", \"encoder.blocks.0.norm1.weight\", \"encoder.blocks.0.norm1.bias\", \"encoder.blocks.0.attn.q_bias\", \"encoder.blocks.0.attn.v_bias\", \"encoder.blocks.0.attn.qkv.weight\", \"encoder.blocks.0.attn.proj.weight\", \"encoder.blocks.0.attn.proj.bias\", \"encoder.blocks.0.norm2.weight\", \"encoder.blocks.0.norm2.bias\", \"encoder.blocks.0.mlp.fc1.weight\", \"encoder.blocks.0.mlp.fc1.bias\", \"encoder.blocks.0.mlp.fc2.weight\", \"encoder.blocks.0.mlp.fc2.bias\", \"encoder.blocks.1.norm1.weight\", \"encoder.blocks.1.norm1.bias\", \"encoder.blocks.1.attn.q_bias\", \"encoder.blocks.1.attn.v_bias\", \"encoder.blocks.1.attn.qkv.weight\", \"encoder.blocks.1.attn.proj.weight\", \"encoder.blocks.1.attn.proj.bias\", \"encoder.blocks.1.norm2.weight\", \"encoder.blocks.1.norm2.bias\", \"encoder.blocks.1.mlp.fc1.weight\", \"encoder.blocks.1.mlp.fc1.bias\", \"encoder.blocks.1.mlp.fc2.weight\", \"encoder.blocks.1.mlp.fc2.bias\", \"encoder.blocks.2.norm1.weight\", \"encoder.blocks.2.norm1.bias\", \"encoder.blocks.2.attn.q_bias\", \"encoder.blocks.2.attn.v_bias\", \"encoder.blocks.2.attn.qkv.weight\", \"encoder.blocks.2.attn.proj.weight\", \"encoder.blocks.2.attn.proj.bias\", \"encoder.blocks.2.norm2.weight\", \"encoder.blocks.2.norm2.bias\", \"encoder.blocks.2.mlp.fc1.weight\", \"encoder.blocks.2.mlp.fc1.bias\", \"encoder.blocks.2.mlp.fc2.weight\", \"encoder.blocks.2.mlp.fc2.bias\", \"encoder.blocks.3.norm1.weight\", \"encoder.blocks.3.norm1.bias\", \"encoder.blocks.3.attn.q_bias\", \"encoder.blocks.3.attn.v_bias\", \"encoder.blocks.3.attn.qkv.weight\", \"encoder.blocks.3.attn.proj.weight\", \"encoder.blocks.3.attn.proj.bias\", \"encoder.blocks.3.norm2.weight\", \"encoder.blocks.3.norm2.bias\", \"encoder.blocks.3.mlp.fc1.weight\", \"encoder.blocks.3.mlp.fc1.bias\", \"encoder.blocks.3.mlp.fc2.weight\", \"encoder.blocks.3.mlp.fc2.bias\", \"encoder.blocks.4.norm1.weight\", \"encoder.blocks.4.norm1.bias\", \"encoder.blocks.4.attn.q_bias\", \"encoder.blocks.4.attn.v_bias\", \"encoder.blocks.4.attn.qkv.weight\", \"encoder.blocks.4.attn.proj.weight\", \"encoder.blocks.4.attn.proj.bias\", \"encoder.blocks.4.norm2.weight\", \"encoder.blocks.4.norm2.bias\", \"encoder.blocks.4.mlp.fc1.weight\", \"encoder.blocks.4.mlp.fc1.bias\", \"encoder.blocks.4.mlp.fc2.weight\", \"encoder.blocks.4.mlp.fc2.bias\", \"encoder.blocks.5.norm1.weight\", \"encoder.blocks.5.norm1.bias\", \"encoder.blocks.5.attn.q_bias\", \"encoder.blocks.5.attn.v_bias\", \"encoder.blocks.5.attn.qkv.weight\", \"encoder.blocks.5.attn.proj.weight\", \"encoder.blocks.5.attn.proj.bias\", \"encoder.blocks.5.norm2.weight\", \"encoder.blocks.5.norm2.bias\", \"encoder.blocks.5.mlp.fc1.weight\", \"encoder.blocks.5.mlp.fc1.bias\", \"encoder.blocks.5.mlp.fc2.weight\", \"encoder.blocks.5.mlp.fc2.bias\", \"encoder.blocks.6.norm1.weight\", \"encoder.blocks.6.norm1.bias\", \"encoder.blocks.6.attn.q_bias\", \"encoder.blocks.6.attn.v_bias\", \"encoder.blocks.6.attn.qkv.weight\", \"encoder.blocks.6.attn.proj.weight\", \"encoder.blocks.6.attn.proj.bias\", \"encoder.blocks.6.norm2.weight\", \"encoder.blocks.6.norm2.bias\", \"encoder.blocks.6.mlp.fc1.weight\", \"encoder.blocks.6.mlp.fc1.bias\", \"encoder.blocks.6.mlp.fc2.weight\", \"encoder.blocks.6.mlp.fc2.bias\", \"encoder.blocks.7.norm1.weight\", \"encoder.blocks.7.norm1.bias\", \"encoder.blocks.7.attn.q_bias\", \"encoder.blocks.7.attn.v_bias\", \"encoder.blocks.7.attn.qkv.weight\", \"encoder.blocks.7.attn.proj.weight\", \"encoder.blocks.7.attn.proj.bias\", \"encoder.blocks.7.norm2.weight\", \"encoder.blocks.7.norm2.bias\", \"encoder.blocks.7.mlp.fc1.weight\", \"encoder.blocks.7.mlp.fc1.bias\", \"encoder.blocks.7.mlp.fc2.weight\", \"encoder.blocks.7.mlp.fc2.bias\", \"encoder.blocks.8.norm1.weight\", \"encoder.blocks.8.norm1.bias\", \"encoder.blocks.8.attn.q_bias\", \"encoder.blocks.8.attn.v_bias\", \"encoder.blocks.8.attn.qkv.weight\", \"encoder.blocks.8.attn.proj.weight\", \"encoder.blocks.8.attn.proj.bias\", \"encoder.blocks.8.norm2.weight\", \"encoder.blocks.8.norm2.bias\", \"encoder.blocks.8.mlp.fc1.weight\", \"encoder.blocks.8.mlp.fc1.bias\", \"encoder.blocks.8.mlp.fc2.weight\", \"encoder.blocks.8.mlp.fc2.bias\", \"encoder.blocks.9.norm1.weight\", \"encoder.blocks.9.norm1.bias\", \"encoder.blocks.9.attn.q_bias\", \"encoder.blocks.9.attn.v_bias\", \"encoder.blocks.9.attn.qkv.weight\", \"encoder.blocks.9.attn.proj.weight\", \"encoder.blocks.9.attn.proj.bias\", \"encoder.blocks.9.norm2.weight\", \"encoder.blocks.9.norm2.bias\", \"encoder.blocks.9.mlp.fc1.weight\", \"encoder.blocks.9.mlp.fc1.bias\", \"encoder.blocks.9.mlp.fc2.weight\", \"encoder.blocks.9.mlp.fc2.bias\", \"encoder.blocks.10.norm1.weight\", \"encoder.blocks.10.norm1.bias\", \"encoder.blocks.10.attn.q_bias\", \"encoder.blocks.10.attn.v_bias\", \"encoder.blocks.10.attn.qkv.weight\", \"encoder.blocks.10.attn.proj.weight\", \"encoder.blocks.10.attn.proj.bias\", \"encoder.blocks.10.norm2.weight\", \"encoder.blocks.10.norm2.bias\", \"encoder.blocks.10.mlp.fc1.weight\", \"encoder.blocks.10.mlp.fc1.bias\", \"encoder.blocks.10.mlp.fc2.weight\", \"encoder.blocks.10.mlp.fc2.bias\", \"encoder.blocks.11.norm1.weight\", \"encoder.blocks.11.norm1.bias\", \"encoder.blocks.11.attn.q_bias\", \"encoder.blocks.11.attn.v_bias\", \"encoder.blocks.11.attn.qkv.weight\", \"encoder.blocks.11.attn.proj.weight\", \"encoder.blocks.11.attn.proj.bias\", \"encoder.blocks.11.norm2.weight\", \"encoder.blocks.11.norm2.bias\", \"encoder.blocks.11.mlp.fc1.weight\", \"encoder.blocks.11.mlp.fc1.bias\", \"encoder.blocks.11.mlp.fc2.weight\", \"encoder.blocks.11.mlp.fc2.bias\", \"encoder.norm.weight\", \"encoder.norm.bias\", \"head_exp.head.weight\", \"head_exp.head.bias\". \n\tUnexpected key(s) in state_dict: \"model.mask_token\", \"model.cls_token\", \"model.region_embed.embed.weight\", \"model.region_embed.embed.bias\", \"model.encoder.encoder.blocks.0.norm1.weight\", \"model.encoder.encoder.blocks.0.norm1.bias\", \"model.encoder.encoder.blocks.0.attn.q_bias\", \"model.encoder.encoder.blocks.0.attn.v_bias\", \"model.encoder.encoder.blocks.0.attn.qkv.weight\", \"model.encoder.encoder.blocks.0.attn.proj.weight\", \"model.encoder.encoder.blocks.0.attn.proj.bias\", \"model.encoder.encoder.blocks.0.norm2.weight\", \"model.encoder.encoder.blocks.0.norm2.bias\", \"model.encoder.encoder.blocks.0.mlp.fc1.weight\", \"model.encoder.encoder.blocks.0.mlp.fc1.bias\", \"model.encoder.encoder.blocks.0.mlp.fc2.weight\", \"model.encoder.encoder.blocks.0.mlp.fc2.bias\", \"model.encoder.encoder.blocks.1.norm1.weight\", \"model.encoder.encoder.blocks.1.norm1.bias\", \"model.encoder.encoder.blocks.1.attn.q_bias\", \"model.encoder.encoder.blocks.1.attn.v_bias\", \"model.encoder.encoder.blocks.1.attn.qkv.weight\", \"model.encoder.encoder.blocks.1.attn.proj.weight\", \"model.encoder.encoder.blocks.1.attn.proj.bias\", \"model.encoder.encoder.blocks.1.norm2.weight\", \"model.encoder.encoder.blocks.1.norm2.bias\", \"model.encoder.encoder.blocks.1.mlp.fc1.weight\", \"model.encoder.encoder.blocks.1.mlp.fc1.bias\", \"model.encoder.encoder.blocks.1.mlp.fc2.weight\", \"model.encoder.encoder.blocks.1.mlp.fc2.bias\", \"model.encoder.encoder.blocks.2.norm1.weight\", \"model.encoder.encoder.blocks.2.norm1.bias\", \"model.encoder.encoder.blocks.2.attn.q_bias\", \"model.encoder.encoder.blocks.2.attn.v_bias\", \"model.encoder.encoder.blocks.2.attn.qkv.weight\", \"model.encoder.encoder.blocks.2.attn.proj.weight\", \"model.encoder.encoder.blocks.2.attn.proj.bias\", \"model.encoder.encoder.blocks.2.norm2.weight\", \"model.encoder.encoder.blocks.2.norm2.bias\", \"model.encoder.encoder.blocks.2.mlp.fc1.weight\", \"model.encoder.encoder.blocks.2.mlp.fc1.bias\", \"model.encoder.encoder.blocks.2.mlp.fc2.weight\", \"model.encoder.encoder.blocks.2.mlp.fc2.bias\", \"model.encoder.encoder.blocks.3.norm1.weight\", \"model.encoder.encoder.blocks.3.norm1.bias\", \"model.encoder.encoder.blocks.3.attn.q_bias\", \"model.encoder.encoder.blocks.3.attn.v_bias\", \"model.encoder.encoder.blocks.3.attn.qkv.weight\", \"model.encoder.encoder.blocks.3.attn.proj.weight\", \"model.encoder.encoder.blocks.3.attn.proj.bias\", \"model.encoder.encoder.blocks.3.norm2.weight\", \"model.encoder.encoder.blocks.3.norm2.bias\", \"model.encoder.encoder.blocks.3.mlp.fc1.weight\", \"model.encoder.encoder.blocks.3.mlp.fc1.bias\", \"model.encoder.encoder.blocks.3.mlp.fc2.weight\", \"model.encoder.encoder.blocks.3.mlp.fc2.bias\", \"model.encoder.encoder.blocks.4.norm1.weight\", \"model.encoder.encoder.blocks.4.norm1.bias\", \"model.encoder.encoder.blocks.4.attn.q_bias\", \"model.encoder.encoder.blocks.4.attn.v_bias\", \"model.encoder.encoder.blocks.4.attn.qkv.weight\", \"model.encoder.encoder.blocks.4.attn.proj.weight\", \"model.encoder.encoder.blocks.4.attn.proj.bias\", \"model.encoder.encoder.blocks.4.norm2.weight\", \"model.encoder.encoder.blocks.4.norm2.bias\", \"model.encoder.encoder.blocks.4.mlp.fc1.weight\", \"model.encoder.encoder.blocks.4.mlp.fc1.bias\", \"model.encoder.encoder.blocks.4.mlp.fc2.weight\", \"model.encoder.encoder.blocks.4.mlp.fc2.bias\", \"model.encoder.encoder.blocks.5.norm1.weight\", \"model.encoder.encoder.blocks.5.norm1.bias\", \"model.encoder.encoder.blocks.5.attn.q_bias\", \"model.encoder.encoder.blocks.5.attn.v_bias\", \"model.encoder.encoder.blocks.5.attn.qkv.weight\", \"model.encoder.encoder.blocks.5.attn.proj.weight\", \"model.encoder.encoder.blocks.5.attn.proj.bias\", \"model.encoder.encoder.blocks.5.norm2.weight\", \"model.encoder.encoder.blocks.5.norm2.bias\", \"model.encoder.encoder.blocks.5.mlp.fc1.weight\", \"model.encoder.encoder.blocks.5.mlp.fc1.bias\", \"model.encoder.encoder.blocks.5.mlp.fc2.weight\", \"model.encoder.encoder.blocks.5.mlp.fc2.bias\", \"model.encoder.encoder.blocks.6.norm1.weight\", \"model.encoder.encoder.blocks.6.norm1.bias\", \"model.encoder.encoder.blocks.6.attn.q_bias\", \"model.encoder.encoder.blocks.6.attn.v_bias\", \"model.encoder.encoder.blocks.6.attn.qkv.weight\", \"model.encoder.encoder.blocks.6.attn.proj.weight\", \"model.encoder.encoder.blocks.6.attn.proj.bias\", \"model.encoder.encoder.blocks.6.norm2.weight\", \"model.encoder.encoder.blocks.6.norm2.bias\", \"model.encoder.encoder.blocks.6.mlp.fc1.weight\", \"model.encoder.encoder.blocks.6.mlp.fc1.bias\", \"model.encoder.encoder.blocks.6.mlp.fc2.weight\", \"model.encoder.encoder.blocks.6.mlp.fc2.bias\", \"model.encoder.encoder.blocks.7.norm1.weight\", \"model.encoder.encoder.blocks.7.norm1.bias\", \"model.encoder.encoder.blocks.7.attn.q_bias\", \"model.encoder.encoder.blocks.7.attn.v_bias\", \"model.encoder.encoder.blocks.7.attn.qkv.weight\", \"model.encoder.encoder.blocks.7.attn.proj.weight\", \"model.encoder.encoder.blocks.7.attn.proj.bias\", \"model.encoder.encoder.blocks.7.norm2.weight\", \"model.encoder.encoder.blocks.7.norm2.bias\", \"model.encoder.encoder.blocks.7.mlp.fc1.weight\", \"model.encoder.encoder.blocks.7.mlp.fc1.bias\", \"model.encoder.encoder.blocks.7.mlp.fc2.weight\", \"model.encoder.encoder.blocks.7.mlp.fc2.bias\", \"model.encoder.encoder.blocks.8.norm1.weight\", \"model.encoder.encoder.blocks.8.norm1.bias\", \"model.encoder.encoder.blocks.8.attn.q_bias\", \"model.encoder.encoder.blocks.8.attn.v_bias\", \"model.encoder.encoder.blocks.8.attn.qkv.weight\", \"model.encoder.encoder.blocks.8.attn.proj.weight\", \"model.encoder.encoder.blocks.8.attn.proj.bias\", \"model.encoder.encoder.blocks.8.norm2.weight\", \"model.encoder.encoder.blocks.8.norm2.bias\", \"model.encoder.encoder.blocks.8.mlp.fc1.weight\", \"model.encoder.encoder.blocks.8.mlp.fc1.bias\", \"model.encoder.encoder.blocks.8.mlp.fc2.weight\", \"model.encoder.encoder.blocks.8.mlp.fc2.bias\", \"model.encoder.encoder.blocks.9.norm1.weight\", \"model.encoder.encoder.blocks.9.norm1.bias\", \"model.encoder.encoder.blocks.9.attn.q_bias\", \"model.encoder.encoder.blocks.9.attn.v_bias\", \"model.encoder.encoder.blocks.9.attn.qkv.weight\", \"model.encoder.encoder.blocks.9.attn.proj.weight\", \"model.encoder.encoder.blocks.9.attn.proj.bias\", \"model.encoder.encoder.blocks.9.norm2.weight\", \"model.encoder.encoder.blocks.9.norm2.bias\", \"model.encoder.encoder.blocks.9.mlp.fc1.weight\", \"model.encoder.encoder.blocks.9.mlp.fc1.bias\", \"model.encoder.encoder.blocks.9.mlp.fc2.weight\", \"model.encoder.encoder.blocks.9.mlp.fc2.bias\", \"model.encoder.encoder.blocks.10.norm1.weight\", \"model.encoder.encoder.blocks.10.norm1.bias\", \"model.encoder.encoder.blocks.10.attn.q_bias\", \"model.encoder.encoder.blocks.10.attn.v_bias\", \"model.encoder.encoder.blocks.10.attn.qkv.weight\", \"model.encoder.encoder.blocks.10.attn.proj.weight\", \"model.encoder.encoder.blocks.10.attn.proj.bias\", \"model.encoder.encoder.blocks.10.norm2.weight\", \"model.encoder.encoder.blocks.10.norm2.bias\", \"model.encoder.encoder.blocks.10.mlp.fc1.weight\", \"model.encoder.encoder.blocks.10.mlp.fc1.bias\", \"model.encoder.encoder.blocks.10.mlp.fc2.weight\", \"model.encoder.encoder.blocks.10.mlp.fc2.bias\", \"model.encoder.encoder.blocks.11.norm1.weight\", \"model.encoder.encoder.blocks.11.norm1.bias\", \"model.encoder.encoder.blocks.11.attn.q_bias\", \"model.encoder.encoder.blocks.11.attn.v_bias\", \"model.encoder.encoder.blocks.11.attn.qkv.weight\", \"model.encoder.encoder.blocks.11.attn.proj.weight\", \"model.encoder.encoder.blocks.11.attn.proj.bias\", \"model.encoder.encoder.blocks.11.norm2.weight\", \"model.encoder.encoder.blocks.11.norm2.bias\", \"model.encoder.encoder.blocks.11.mlp.fc1.weight\", \"model.encoder.encoder.blocks.11.mlp.fc1.bias\", \"model.encoder.encoder.blocks.11.mlp.fc2.weight\", \"model.encoder.encoder.blocks.11.mlp.fc2.bias\", \"model.encoder.norm.weight\", \"model.encoder.norm.bias\", \"model.head_mask.weight\", \"model.head_mask.bias\". "
     ]
    }
   ],
   "source": [
    "use_checkpoint = '/project/home/p200469/get_BIO1018/get_ML_output/finetune_all_chrs/training_from_finetune_lora_chr1_split_QATAC/checkpoints/best.ckpt'\n",
    "cfg.stage = 'predict'\n",
    "cfg.finetune.resume_ckpt = use_checkpoint\n",
    "\n",
    "cfg.dataset.celltypes = \"all_chrs\"\n",
    "\n",
    "cfg.run.use_wandb = False # disable wandb logging when predicting\n",
    "cfg.task.layer_names = [] # set to empty list to disable intermediate layer interpretation\n",
    "cfg.task.gene_list = None # set to None to predict all genes; otherwise you can specify a list of genes as 'MYC,SOX10,SOX2,RET', only genes with promoter open will be used\n",
    "# loop through all celltypes and run the predict stage\n",
    "cfg.run.run_name='interpret_training_from_finetune_lora_chr1_split_QATAC'\n",
    "\n",
    "cfg.dataset.leave_out_celltypes = ''\n",
    "trainer = run(cfg)\n",
    "\n",
    "# Pearson 0.896\n",
    "# R^2 0.793\n",
    "# Spearman 0.803"
   ]
  },
  {
   "cell_type": "markdown",
   "metadata": {},
   "source": [
    "As you can see, the results is now saved to `finetune_pbmc10k_multiome/interpret_training_from_finetune_lora_cd4_tcm_no_chr_split/cd4_naive.zarr`. Now we can use the `GETHydraCellType` class from `gcell` to load it.\n",
    "\n",
    "### Load interpretation result as `GETHydraCellType`"
   ]
  },
  {
   "cell_type": "code",
   "execution_count": null,
   "metadata": {},
   "outputs": [],
   "source": [
    "# Set dataset celltype to \"all_chrs\"\n",
    "cfg.dataset.celltypes = \"all_chrs\"\n",
    "\n",
    "# Load the configuration\n",
    "cfg = load_config('finetune_tutorial_pbmc')\n",
    "\n",
    "# Update the run name\n",
    "cfg.run.run_name = 'interpret_training_from_finetune_lora_all_chrs_QATAC'\n",
    "\n",
    "# Create a gene annotation dictionary\n",
    "gene_annot_dict = {}\n",
    "\n",
    "try:\n",
    "    # Since celltypes is \"all_chrs\", set `leave_out_celltypes` to None\n",
    "    cfg.dataset.leave_out_celltypes = None\n",
    "    \n",
    "    # Load data for all chromosomes\n",
    "    hydra_celltype = GETHydraCellType.from_config(cfg, celltype=\"all_chrs\")\n",
    "    \n",
    "    # Save the gene annotations for \"all_chrs\"\n",
    "    gene_annot_dict[\"all_chrs\"] = hydra_celltype.gene_annot\n",
    "\n",
    "except Exception as e:\n",
    "    print(f\"Error loading all_chrs: {e}\")"
   ]
  },
  {
   "cell_type": "code",
   "execution_count": null,
   "metadata": {},
   "outputs": [],
   "source": [
    "# For all genes in \"all_chrs\", collect the predicted and observed expression\n",
    "import numpy as np\n",
    "import pandas as pd\n",
    "\n",
    "try:\n",
    "    # Get the common intersected gene list for \"all_chrs\"\n",
    "    common_gene_list = set(gene_annot_dict[\"all_chrs\"].index)\n",
    "    \n",
    "    # Collect the expression for the common gene list\n",
    "    gene_annot_dict[\"all_chrs\"] = gene_annot_dict[\"all_chrs\"].loc[np.array(common_gene_list)]\n",
    "    \n",
    "    # Convert the gene annotations into a DataFrame for easier manipulation and visualization\n",
    "    gene_expression_df = pd.DataFrame(gene_annot_dict[\"all_chrs\"])\n",
    "    \n",
    "    print(\"Successfully collected gene expressions for all_chrs.\")\n",
    "except Exception as e:\n",
    "    print(f\"Error processing gene annotations for all_chrs: {e}\")\n",
    "\n",
    "gene_annot_dict\n"
   ]
  },
  {
   "cell_type": "code",
   "execution_count": null,
   "metadata": {},
   "outputs": [],
   "source": [
    "# Create a DataFrame for \"all_chrs\" excluding genes from chr1\n",
    "df = gene_annot_dict[\"all_chrs\"] \\\n",
    "    .query('Chromosome == \"chr1\"') \\\n",
    "    .reset_index()[['obs', 'pred', 'gene_name']] \\\n",
    "    .groupby('gene_name').mean().reset_index()\n",
    "\n",
    "# Pivot the DataFrame to create columns for 'pred' and 'obs'\n",
    "df_pred = df.pivot(index='gene_name', values='pred').dropna()\n",
    "df_obs = df.pivot(index='gene_name', values='obs').dropna()\n",
    "\n",
    "# Calculate the correlation between predicted and observed expression for each gene\n",
    "corrs = []\n",
    "for gene in df_pred.index:\n",
    "    try:\n",
    "        corr = df_pred.loc[gene].corr(df_obs.loc[gene])\n",
    "        corrs.append((corr, df_pred.loc[gene].mean(), df_obs.loc[gene].mean(), gene))\n",
    "    except Exception as e:\n",
    "        print(f\"Error calculating correlation for {gene}: {e}\")\n",
    "        continue\n",
    "\n",
    "# Create a DataFrame to store correlations\n",
    "df_corr = pd.DataFrame(corrs, columns=['corr', 'pred', 'obs', 'gene_name'])\n",
    "\n",
    "print(\"Correlation calculation completed.\")\n"
   ]
  },
  {
   "cell_type": "code",
   "execution_count": null,
   "metadata": {},
   "outputs": [],
   "source": [
    "# plot example genes\n",
    "plt.rcParams['figure.dpi'] = 100\n",
    "\n",
    "fig, ax = plt.subplots(nrows=1, ncols=2, figsize=(11, 5))\n",
    "df_corr['corr'].hist(bins=20, ax=ax[0])\n",
    "# add total number of genes as title\n",
    "ax[0].set_title(f'Total number of genes: {len(df_corr)}\\nshared open genes across MCF-7 \\non leave out chr1')\n",
    "ax[0].set_xlabel('Uniform Clonal Cell Correlation')\n",
    "ax[0].set_ylabel('Number of Genes')\n",
    "\n",
    "sns.kdeplot(data=df_corr, x='pred', y='corr', ax=ax[1], shade=True)\n",
    "ax[1].set_title('Predicted mean vs \\nUniform Clonal Cell Correlation')\n",
    "ax[1].set_xlabel('Predicted Expression')\n",
    "ax[1].set_ylabel('Uniform Clonal Cell Correlation')\n",
    "fig.tight_layout()\n"
   ]
  },
  {
   "cell_type": "markdown",
   "metadata": {},
   "source": [
    "We can plot the predicted and observed expression to see whether there is any issue."
   ]
  },
  {
   "cell_type": "code",
   "execution_count": null,
   "metadata": {},
   "outputs": [],
   "source": [
    "df_pred"
   ]
  }
 ],
 "metadata": {
  "kernelspec": {
   "display_name": "Python 3 (ipykernel)",
   "language": "python",
   "name": "python3"
  },
  "language_info": {
   "codemirror_mode": {
    "name": "ipython",
    "version": 3
   },
   "file_extension": ".py",
   "mimetype": "text/x-python",
   "name": "python",
   "nbconvert_exporter": "python",
   "pygments_lexer": "ipython3",
   "version": "3.12.8"
  }
 },
 "nbformat": 4,
 "nbformat_minor": 2
}
