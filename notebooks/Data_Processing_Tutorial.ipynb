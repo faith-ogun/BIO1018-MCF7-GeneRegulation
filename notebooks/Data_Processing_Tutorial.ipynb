{
 "cells": [
  {
   "cell_type": "markdown",
   "metadata": {},
   "source": [
    "## Quick Docker Commands/Set-Up:\n"
   ]
  },
  {
   "cell_type": "markdown",
   "metadata": {},
   "source": [
    "docker build -t \"name\" -f \"Dockerfile.txt\" .\n",
    "\n",
    "docker build -t \"get_complete\" -f \"Dockerfile.txt\" .\n",
    "\n",
    "---\n",
    "```bash\n",
    "docker run --entrypoint /bin/bash -it -v /Users/faith/Desktop/Coding:/home/xf2217 get_complete``\n",
    "\n",
    "docker run -it -p 8888:8888 -v /Users/faith/Desktop/Coding:/home/xf2217  get_complete  jupyter notebook --allow-root --ip 0.0.0.0 --no-browser --NotebookApp.token='' --NotebookApp.password='' --notebook-dir=/home/xf2217\n",
    "```\n",
    "\n",
    "---\n",
    "\n",
    "With Meluxina:\n",
    "### *Solution:*\n",
    "\n",
    "```bash\n",
    "module load Python/3.11.3-GCCcore-12.3.0 \n",
    "\n",
    "#If a package doesn't work.\n",
    "rm -rf /home/users/u102501/.local/lib/python3.12/site-packages/urllib3*\n",
    "python -m pip install --upgrade --force-reinstall urllib3\n",
    "python -c \"import urllib3; print(urllib3.__version__)\"\n",
    "```\n",
    "\n",
    "```bash\n",
    "apptainer exec --bind /project/home/p200469/get_BIO1018 get_complete_latest.sif python -m jupyter lab --no-browser --ip \"*\" --NotebookApp.token='' --NotebookApp.password='' --notebook-dir /project/home/p200469/get_BIO1018 --port 8888\n",
    "```\n",
    "\n",
    "Split terminal screen:\n",
    "\n",
    "In local machine:\n",
    "\n",
    "`ssh -L 8888:localhost:8888 [u102501@login.lxp.lu](mailto:u102501@login.lxp.lu) -p 8822 -i ~/.ssh/id_ed25519_mlux`\n",
    "\n",
    "Enter passphrase,\n",
    "\n",
    "Then,\n",
    "\n",
    "`ssh -L 8888:localhost:8888 <mel0000>`  swap <> for your node."
   ]
  },
  {
   "cell_type": "markdown",
   "metadata": {},
   "source": [
    "## Start of Code:"
   ]
  },
  {
   "cell_type": "code",
   "execution_count": 30,
   "metadata": {},
   "outputs": [
    {
     "name": "stdout",
     "output_type": "stream",
     "text": [
      "gcell currently using annotation directory: /home/users/u102501/.gcell_data/annotations\n"
     ]
    }
   ],
   "source": [
    "#%%\n",
    "from pathlib import Path\n",
    "\n",
    "import numpy as np\n",
    "import snapatac2 as snap\n",
    "from gcell._settings import get_setting\n",
    "\n",
    "annotation_dir = get_setting('annotation_dir')\n",
    "print(\"gcell currently using annotation directory:\", annotation_dir)"
   ]
  },
  {
   "cell_type": "markdown",
   "metadata": {},
   "source": [
    "### Download the necessary files\n",
    "\n",
    "## 0. Download cellranger-ARC processed data from 10x\n",
    "\n",
    "wget \"https://cf.10xgenomics.com/samples/cell-arc/2.0.0/pbmc_granulocyte_sorted_10k/pbmc_granulocyte_sorted_10k_filtered_feature_bc_matrix.h5\"\n",
    "\n",
    "wget \"https://cf.10xgenomics.com/samples/cell-arc/2.0.0/pbmc_granulocyte_sorted_10k/pbmc_granulocyte_sorted_10k_atac_fragments.tsv.gz\"\n",
    "#This one works and is a whopping 2.24GB!_\n",
    "\n",
    "#wget \"https://cf.10xgenomics.com/samples/cell-arc/2.0.0/pbmc_granulocyte_sorted_10k/pbmc_granulocyte_sorted_10k_atac_fragments.tsv.gz.tbi\"\n",
    "#This one says no such directory exists_\n",
    "\n",
    "wget \"https://cf.10xgenomics.com/samples/cell-arc/2.0.0/pbmc_granulocyte_sorted_10k/pbmc_granulocyte_sorted_10k_atac_peaks.bed\"\n",
    "wget \"http://catlas.org/catlas_downloads/humantissues/cCRE_hg38.tsv.gz\""
   ]
  },
  {
   "cell_type": "code",
   "execution_count": 31,
   "metadata": {},
   "outputs": [
    {
     "data": {
      "text/html": [
       "<div>\n",
       "<style scoped>\n",
       "    .dataframe tbody tr th:only-of-type {\n",
       "        vertical-align: middle;\n",
       "    }\n",
       "\n",
       "    .dataframe tbody tr th {\n",
       "        vertical-align: top;\n",
       "    }\n",
       "\n",
       "    .dataframe thead th {\n",
       "        text-align: right;\n",
       "    }\n",
       "</style>\n",
       "<table border=\"1\" class=\"dataframe\">\n",
       "  <thead>\n",
       "    <tr style=\"text-align: right;\">\n",
       "      <th></th>\n",
       "      <th>Chromosome</th>\n",
       "      <th>Start</th>\n",
       "      <th>End</th>\n",
       "    </tr>\n",
       "  </thead>\n",
       "  <tbody>\n",
       "    <tr>\n",
       "      <th>0</th>\n",
       "      <td>chr1</td>\n",
       "      <td>9955</td>\n",
       "      <td>10355</td>\n",
       "    </tr>\n",
       "    <tr>\n",
       "      <th>1</th>\n",
       "      <td>chr1</td>\n",
       "      <td>29163</td>\n",
       "      <td>29563</td>\n",
       "    </tr>\n",
       "    <tr>\n",
       "      <th>2</th>\n",
       "      <td>chr1</td>\n",
       "      <td>79215</td>\n",
       "      <td>79615</td>\n",
       "    </tr>\n",
       "    <tr>\n",
       "      <th>3</th>\n",
       "      <td>chr1</td>\n",
       "      <td>102755</td>\n",
       "      <td>103155</td>\n",
       "    </tr>\n",
       "    <tr>\n",
       "      <th>4</th>\n",
       "      <td>chr1</td>\n",
       "      <td>115530</td>\n",
       "      <td>115930</td>\n",
       "    </tr>\n",
       "    <tr>\n",
       "      <th>5</th>\n",
       "      <td>chr1</td>\n",
       "      <td>180580</td>\n",
       "      <td>180980</td>\n",
       "    </tr>\n",
       "    <tr>\n",
       "      <th>6</th>\n",
       "      <td>chr1</td>\n",
       "      <td>181273</td>\n",
       "      <td>181673</td>\n",
       "    </tr>\n",
       "    <tr>\n",
       "      <th>7</th>\n",
       "      <td>chr1</td>\n",
       "      <td>184281</td>\n",
       "      <td>184681</td>\n",
       "    </tr>\n",
       "  </tbody>\n",
       "</table>\n",
       "</div>"
      ],
      "text/plain": [
       "+--------------+-----------+-----------+\n",
       "| Chromosome   |     Start |       End |\n",
       "| (category)   |   (int64) |   (int64) |\n",
       "|--------------+-----------+-----------|\n",
       "| chr1         |      9955 |     10355 |\n",
       "| chr1         |     29163 |     29563 |\n",
       "| chr1         |     79215 |     79615 |\n",
       "| chr1         |    102755 |    103155 |\n",
       "| chr1         |    115530 |    115930 |\n",
       "| chr1         |    180580 |    180980 |\n",
       "| chr1         |    181273 |    181673 |\n",
       "| chr1         |    184281 |    184681 |\n",
       "+--------------+-----------+-----------+\n",
       "Unstranded PyRanges object has 8 rows and 3 columns from 1 chromosomes.\n",
       "For printing, the PyRanges was sorted on Chromosome."
      ]
     },
     "execution_count": 31,
     "metadata": {},
     "output_type": "execute_result"
    }
   ],
   "source": [
    "#cCRE\n",
    "\n",
    "import pandas as pd\n",
    "from pyranges import PyRanges as pr\n",
    "\n",
    "#Here I've created a variable called cre which is an object related to the \"cCRE_hg38.tsv.gz\" file and stands for candidate cis-regulatory elements.\n",
    "cre = pd.read_csv('cCRE_hg38.tsv.gz', sep='\\t')\n",
    "#Pandas which as an open-source Python library used for data manipulation and analysis. It's similar to dplyr on R. It can read and write Excel files\n",
    "# So cre is the csv file that was downloaded and is read by the \"pandas\" tool which we made an alias to refer to is as \"pd\". Similar to R, the separator is noted.\n",
    "\n",
    "cre = cre.rename(columns={'#Chromosome': 'Chromosome', 'hg38_Start': 'Start', 'hg38_End': 'End'})[['Chromosome', 'Start', 'End']]\n",
    "#The line renames columns (#Chromosome to Chromosome, hg38_Start to Start, and hg38_End to End) and selects only the Chromosome, Start, and End columns for the cre DataFrame.\n",
    "\n",
    "cre = pr(cre, int64=True).sort()\n",
    "#This line converts the cre DataFrame into a PyRanges object with 64-bit integer precision (int64=True).\n",
    "#Then sorts the genomic intervals in the object by their position (first by Chromosome and then by Start position).\n",
    "\n",
    "cre.head()\n",
    "#To view the first few lines of the file."
   ]
  },
  {
   "cell_type": "markdown",
   "metadata": {},
   "source": [
    "### Candidate Cis-Regulatory Elements\n",
    "Candidate cis-regulatory elements are genomic regions identified as having potential regulatory functions, such as enhancers or promoters, that control gene expression. The file being referenced (cCRE_hg38.tsv.gz) likely contains information about these elements for the human genome (hg38 build).\n",
    "\n",
    "__What Has Been Done so Far?__\n",
    "1. Read in a cCRE file. (It's in a compressed from and separated by tabs) \n",
    "2. Renamed the columns and selected only the first three.\n",
    "3. Converted the Pandas Dataframe to a Pranges object that is commonly used for genomic data and workflows (e.g., finding overlaps, merging regions). \n",
    "4. Then sorted the Pyranges object by Chromosome and then Start position.\n",
    "5. Viewed first few lines to ensure all looks good.\n",
    "\n",
    "__Adapting for MCF7__ \n",
    "\n",
    "Galaxy:\n",
    "https://usegalaxy.eu/datasets/4838ba20a6d86765d1685afe6504d674/preview\n",
    "\n",
    "ENCODE View:\n",
    "https://www.encodeproject.org/search/?searchTerm=mcf7&type=Dataset #Overall MCF7 sample datasets\n",
    "https://www.encodeproject.org/reference-epigenomes/ENCSR247DVY/ #MCF7 Reference - containing multiple bioassays.\n",
    "https://www.encodeproject.org/annotations/ENCSR074VNQ/ #MCF7 cCRE annotation file - checked on Galaxy and is same format to one used in  tutorial."
   ]
  },
  {
   "cell_type": "code",
   "execution_count": 32,
   "metadata": {},
   "outputs": [
    {
     "name": "stderr",
     "output_type": "stream",
     "text": [
      "/opt/conda/lib/python3.12/site-packages/anndata/_core/anndata.py:1758: UserWarning: Variable names are not unique. To make them unique, call `.var_names_make_unique`.\n",
      "  utils.warn_names_duplicates(\"var\")\n"
     ]
    },
    {
     "data": {
      "text/plain": [
       "AnnData object with n_obs × n_vars = 11898 × 180488\n",
       "    var: 'gene_ids', 'feature_types', 'genome', 'interval'"
      ]
     },
     "execution_count": 32,
     "metadata": {},
     "output_type": "execute_result"
    }
   ],
   "source": [
    "#Sample Data\n",
    "\n",
    "import scanpy as sc\n",
    "\n",
    "ad = sc.read_10x_h5('pbmc_granulocyte_sorted_10k_filtered_feature_bc_matrix.h5', gex_only=False)\n",
    "ad\n",
    "\n",
    "#This code uses the Scanpy library to read a 10x Genomics data file in HDF5 format. \n",
    "#Specifically, the file 'pbmc_granulocyte_sorted_10k_filtered_feature_bc_matrix.h5' contains gene expression data from PBMC (peripheral blood mononuclear cells) and the method sc.read_10x_h5 is used to load this data into an AnnData object (stored in ad). \n",
    "#The gex_only=False argument means that both gene expression and other data types (e.g., ATAC-seq, if present) are read into the AnnData object.\n"
   ]
  },
  {
   "cell_type": "markdown",
   "metadata": {},
   "source": [
    "__Adapting for MCF7__\n",
    "The pbmc HDF5 dataset contains both gene expression and peak data in the one file.\n",
    "For the initial stage of my project I will only be incoporating ATAC-Seq data from ENCODE using IDR thresholded peaks (.bed). Thus, some adaptations need to be made to the code."
   ]
  },
  {
   "cell_type": "markdown",
   "metadata": {},
   "source": [
    "This hdf5 contains the count matrix for both gene expression and peak count. CellRanger can show the peaks."
   ]
  },
  {
   "cell_type": "code",
   "execution_count": 33,
   "metadata": {},
   "outputs": [
    {
     "data": {
      "text/plain": [
       "(143887, 3)"
      ]
     },
     "execution_count": 33,
     "metadata": {},
     "output_type": "execute_result"
    }
   ],
   "source": [
    "peaks = ad.var.query('feature_types == \"Peaks\"').interval.str.split(':|-').tolist()\n",
    "# Extracts \"Peaks\" rows from the AnnData object (specifically the Feature types), splits the intervals by colon and hyphen into a list of values\n",
    "\n",
    "peaks = pd.DataFrame(peaks, columns=['Chromosome', 'Start', 'End'])\n",
    "# Converts the list of intervals into a pandas DataFrame with columns for Chromosome, Start, and End\n",
    "\n",
    "peaks['Start'] = peaks['Start'].astype(int)\n",
    "# Converts the 'Start' column values into integers\n",
    "\n",
    "peaks['End'] = peaks['End'].astype(int)\n",
    "# Converts the 'End' column values into integers\n",
    "\n",
    "peaks = pr(peaks, int64=True).sort()\n",
    "# Converts the pandas DataFrame into a PyRanges object and sorts the intervals\n",
    "\n",
    "peaks.df.shape\n",
    "# Returns the shape (number of rows and columns) of the PyRanges DataFrame\n",
    "\n",
    "#This code processes genomic peak data, converting it into a more usable format for analysis."
   ]
  },
  {
   "cell_type": "markdown",
   "metadata": {},
   "source": [
    "### FuXi Note:\n",
    "For optimal zero-shot analysis, it is recommended to use a union set of peaks from both the new dataset and the original training peak sets *(i.e. the cre peaks defined above)* to minimize domain shift. However, in this tutorial we will simply perform finetuning using the new peak set from the 10x PBMC multiome data. The union peak set can be constructed as below. After that you should re-count the peak count matrix using fragment file, and when write out cell-type specific peaks, ideally remove all non-accessible peaks in each cell types."
   ]
  },
  {
   "cell_type": "code",
   "execution_count": 34,
   "metadata": {},
   "outputs": [
    {
     "data": {
      "text/plain": [
       "(1164363, 3)"
      ]
     },
     "execution_count": 34,
     "metadata": {},
     "output_type": "execute_result"
    }
   ],
   "source": [
    "#peak / cre + cre \n",
    "#find all peaks that don't overlap with cre; -> non_overlap_peaks\n",
    "\n",
    "non_overlap_peaks = peaks.overlap(cre, invert=True)\n",
    "#invert=True: Ensures that only peaks outside the cre regions are kept. I.e. keeping peaks that don't overlap with cre.\n",
    "\n",
    "#concat with cre and sort\n",
    "\n",
    "total_peaks = pd.concat([non_overlap_peaks.df, cre.df], ignore_index=True)\n",
    "total_peaks = pr(total_peaks, int64=True).sort()\n",
    "\n",
    "#remove chromosome M, Y and those not start with chr\n",
    "total_peaks = total_peaks.df.query('Chromosome.str.startswith(\"chr\") & ~Chromosome.str.endswith(\"M\") & ~Chromosome.str.endswith(\"Y\") & ~Chromosome.str.startswith(\"chrUn\")')\n",
    "total_peaks.shape"
   ]
  },
  {
   "cell_type": "markdown",
   "metadata": {},
   "source": [
    "### What is the Purpose of This?\n",
    "\n",
    "In this code, cre represents candidate cis-regulatory elements (genomic regions with potential regulatory roles), while peaks represents regions of open chromatin from the experimental data, inferred from ATAC-seq or other assays.\n",
    "\n",
    "The overlapping is done to identify non-overlapping peaks using:\n",
    "\n",
    "This step filters peaks that do not overlap with the cCRE regions. The purpose is to isolate peaks not previously annotated as regulatory elements, which may contain novel or unique regions worth further analysis."
   ]
  },
  {
   "cell_type": "markdown",
   "metadata": {},
   "source": [
    "### FuXi Note:\n",
    "For convenience, we will keep using the peak set called by cellranger here。 Note that there is a difference in peak length distribution. However, in general there are no peaks > 1000 bp; and most peaks have a length in order of 10^3 so let's keep using this one. Note that the original training CRE peak set has a unified length of 400 bp."
   ]
  },
  {
   "cell_type": "code",
   "execution_count": 35,
   "metadata": {},
   "outputs": [
    {
     "data": {
      "image/png": "[encoded data removed]",
      "text/plain": [
       "<Figure size 1200x400 with 2 Axes>"
      ]
     },
     "metadata": {},
     "output_type": "display_data"
    }
   ],
   "source": [
    "import matplotlib.pyplot as plt\n",
    "import seaborn as sns\n",
    "\n",
    "fig, (ax1, ax2) = plt.subplots(1, 2, figsize=(12, 4))\n",
    "#plt.subplots(1, 2, figsize=(12, 4)): This creates a figure with two subplots arranged horizontally (1 row, 2 columns).\n",
    "#The figsize=(12, 4) argument specifies the dimensions of the overall figure in inches (width = 12 inches, height = 4 inches).\n",
    "#ax1, ax2: These are the axes for the left and right subplots, respectively. \n",
    "\n",
    "sns.histplot(peaks.End-peaks.Start, ax=ax1)\n",
    "#sns.histplot(peaks.End-peaks.Start, ax=ax1): This plots a histogram of the length of each peak in the peaks DataFrame. \n",
    "#The length is calculated by subtracting the Start coordinate from the End coordinate (peaks.End - peaks.Start), which gives the length of each peak region.\n",
    "#The ax=ax1 argument tells Seaborn to plot this histogram on the left subplot (ax1).\n",
    "\n",
    "ax1.set_title('PBMC Peaks Length Distribution')\n",
    "\n",
    "sns.histplot(cre.End-cre.Start, ax=ax2)  \n",
    "#sns.histplot(cre.End-cre.Start, ax=ax2): This plots a histogram of the length of each candidate cis-regulatory element (CRE) in the cre DataFrame.\n",
    "#Similarly, the length is calculated by subtracting the Start coordinate from the End coordinate (cre.End - cre.Start).\n",
    "#The ax=ax2 argument tells Seaborn to plot this histogram on the right subplot (ax2).\n",
    "\n",
    "ax2.set_title('Training CRE Length Distribution')\n",
    "\n",
    "plt.tight_layout()"
   ]
  },
  {
   "cell_type": "markdown",
   "metadata": {},
   "source": [
    "### Adapting Code to MCF-7\n",
    "When I'm doing this again. The PMBC dataset will be swapped for MCF-7 dataset (already downloaded).\n",
    "Similarly, a cCRE dataset specific to MCF-7 will be used.\n",
    "\n",
    "The goal is to step away from generalization and move towards a specific GET model."
   ]
  },
  {
   "cell_type": "markdown",
   "metadata": {},
   "source": [
    "## 1. Cell Type Assignment\n",
    "1. Load RNA data from processed PBMC10k dataset and borrow the labels. If you have your own cell type labels on the data, skip this step.\n",
    "2. Select top 3000 highly variable genes and perform UMAP to cross check with assigned labels."
   ]
  },
  {
   "cell_type": "code",
   "execution_count": 36,
   "metadata": {},
   "outputs": [
    {
     "name": "stderr",
     "output_type": "stream",
     "text": [
      "/opt/conda/lib/python3.12/site-packages/scanpy/preprocessing/_normalization.py:207: UserWarning: Received a view of an AnnData. Making a copy.\n",
      "  view_to_actual(adata)\n",
      "/opt/conda/lib/python3.12/site-packages/sklearn/utils/deprecation.py:151: FutureWarning: 'force_all_finite' was renamed to 'ensure_all_finite' in 1.6 and will be removed in 1.8.\n",
      "  warnings.warn(\n",
      "/opt/conda/lib/python3.12/site-packages/umap/umap_.py:1952: UserWarning: n_jobs value 1 overridden to 1 by setting random_state. Use no seed for parallelism.\n",
      "  warn(\n"
     ]
    }
   ],
   "source": [
    "# %%\n",
    "# read rna data\n",
    "\n",
    "# Check if the file 'rna.h5ad' already exists in the directory\n",
    "if not Path('rna.h5ad').exists():\n",
    "\n",
    "    # If the file doesn't exist, load the RNA data using SnapATAC's method for PBMC 10k multiome dataset\n",
    "    rna = snap.read(snap.datasets.pbmc10k_multiome(modality='RNA'), backed=None)\n",
    "\n",
    "    # Identify the 3000 most variable genes in the dataset using the 'Seurat v3' method\n",
    "    sc.pp.highly_variable_genes(rna, flavor='seurat_v3', n_top_genes=3000)\n",
    "\n",
    "    # Filter the RNA data to keep only the highly variable genes\n",
    "    rna_filtered = rna[:, rna.var.highly_variable]\n",
    "\n",
    "    # Normalize the filtered RNA data so that the total counts per cell sum to 10,000 (target_sum=1e4)\n",
    "    sc.pp.normalize_total(rna_filtered, target_sum=1e4)\n",
    "\n",
    "    # Apply a logarithmic transformation to the RNA data to reduce skewness in the data distribution\n",
    "    sc.pp.log1p(rna_filtered)\n",
    "\n",
    "    # Perform spectral decomposition to reduce dimensionality and extract features from the RNA data\n",
    "    snap.tl.spectral(rna_filtered, features=None)\n",
    "\n",
    "    # Perform UMAP (Uniform Manifold Approximation and Projection), a dimensionality reduction method for visualizing the data\n",
    "    snap.tl.umap(rna_filtered)\n",
    "    \n",
    "    # Save the filtered and processed RNA data into a file called 'rna.h5ad'    \n",
    "    rna_filtered.write('rna.h5ad')\n",
    "\n",
    "# If the file 'rna.h5ad' already exists, load the processed data from that file instead of reprocessing it\n",
    "else:\n",
    "    rna_filtered = sc.read('rna.h5ad')"
   ]
  },
  {
   "cell_type": "markdown",
   "metadata": {},
   "source": [
    "Here, I'm going to use the cell type labels from preprocessed snapatac2 object.\n",
    "Remember, ad is the PMBC (swap for MCF-7) dataset (i.e. the sample/experimentation)"
   ]
  },
  {
   "cell_type": "markdown",
   "metadata": {},
   "source": [
    "### FuXi Note:\n",
    "Here, I'm going to use the cell type labels from preprocessed snapatac2 object."
   ]
  },
  {
   "cell_type": "code",
   "execution_count": 37,
   "metadata": {},
   "outputs": [],
   "source": [
    "ad = ad[ad.obs.index.isin(rna_filtered.obs.index.values)]\n",
    "#Used to filter the ad AnnData object to retain only the cells (observations) that are also present in the rna_filtered AnnData object."
   ]
  },
  {
   "cell_type": "markdown",
   "metadata": {},
   "source": [
    "### Difference Between `ad` and `rna_filtered`\n",
    "\n",
    "The difference between `ad` and `rna_filtered` lies in their roles and processing states within your data pipeline for analyzing single-cell data:\n",
    "\n",
    "1. `ad`:\n",
    "- `ad` is the initial **AnnData** object created when you load the multi-modal (e.g., RNA and ATAC-seq) dataset using `sc.read_10x_h5`.\n",
    "- It contains all the raw features from the original dataset, including gene expression and peak counts, along with other metadata.\n",
    "- The data in `ad` has not yet been processed or filtered for specific analyses. It represents the starting point for downstream steps.\n",
    "\n",
    "2. `rna_filtered`:\n",
    "- `rna_filtered` is a processed version of the RNA data extracted from the original dataset (or from a separate RNA-focused dataset).\n",
    "- Steps performed to create `rna_filtered` include:\n",
    "  - **Selection of highly variable genes**: Focuses the analysis on the most informative genes.\n",
    "  - **Normalization**: Ensures that each cell’s data is scaled to a comparable level.\n",
    "  - **Log-transformation**: Reduces the skew in data distribution, making it more suitable for downstream analyses.\n",
    "  - **Dimensionality reduction** (e.g., spectral decomposition and UMAP): Prepares the data for visualization and clustering.\n",
    "\n",
    "### Summary of Roles:\n",
    "- **`ad`**: A comprehensive container for the entire raw dataset, serving as the basis for extracting specific modalities (e.g., gene expression or ATAC-seq peaks).\n",
    "- **`rna_filtered`**: A refined and processed subset of `ad` focused on RNA (gene expression) data, optimized for analysis and visualization.\n",
    "\n",
    "By filtering and normalizing `rna_filtered`, you enhance its utility for identifying cell types, discovering gene markers, or integrating with other modalities (like ATAC)."
   ]
  },
  {
   "cell_type": "code",
   "execution_count": 38,
   "metadata": {},
   "outputs": [
    {
     "name": "stderr",
     "output_type": "stream",
     "text": [
      "/tmp/ipykernel_30669/3222849866.py:3: ImplicitModificationWarning: Trying to modify attribute `.obs` of view, initializing view as actual.\n",
      "  ad.obs['cell_type'] = ad.obs.index.map(barcode_to_celltype)\n",
      "/opt/conda/lib/python3.12/site-packages/anndata/_core/anndata.py:1758: UserWarning: Variable names are not unique. To make them unique, call `.var_names_make_unique`.\n",
      "  utils.warn_names_duplicates(\"var\")\n",
      "/opt/conda/lib/python3.12/site-packages/anndata/_core/anndata.py:1758: UserWarning: Variable names are not unique. To make them unique, call `.var_names_make_unique`.\n",
      "  utils.warn_names_duplicates(\"var\")\n"
     ]
    }
   ],
   "source": [
    "barcode_to_celltype = rna_filtered.obs.to_dict()['cell_type']\n",
    "\n",
    "ad.obs['cell_type'] = ad.obs.index.map(barcode_to_celltype)"
   ]
  },
  {
   "cell_type": "markdown",
   "metadata": {},
   "source": [
    "1. **`barcode_to_celltype = rna_filtered.obs.to_dict()['cell_type']`**:\n",
    "   - `.to_dict()` converts this DataFrame into a dictionary. The key `'cell_type'` refers to a column in this DataFrame that contains the cell type information.\n",
    "   - As a result, `barcode_to_celltype` becomes a dictionary where the keys are cell barcodes (e.g., unique identifiers for cells), and the values are the corresponding cell types for each barcode.\n",
    "\n",
    "2. **`ad.obs['cell_type'] = ad.obs.index.map(barcode_to_celltype)`**:\n",
    "   - `.index` gives the index (row labels) of the DataFrame, which should correspond to the cell barcodes.\n",
    "   - `.map(barcode_to_celltype)` uses the dictionary `barcode_to_celltype` to map the cell type information from the `barcode_to_celltype` dictionary to the index (cell barcodes) in `ad.obs`.\n",
    "   - The result is that a new column, `'cell_type'`, is added to `ad.obs`, containing the cell type for each barcode.\n",
    "\n",
    "In summary, this code creates a mapping from barcodes to cell types using `rna_filtered.obs`, then uses this mapping to add a `'cell_type'` column to `ad.obs` by matching the barcodes in `ad.obs.index` to the `barcode_to_celltype` dictionary."
   ]
  },
  {
   "cell_type": "code",
   "execution_count": 39,
   "metadata": {},
   "outputs": [
    {
     "data": {
      "text/html": [
       "<div>\n",
       "<style scoped>\n",
       "    .dataframe tbody tr th:only-of-type {\n",
       "        vertical-align: middle;\n",
       "    }\n",
       "\n",
       "    .dataframe tbody tr th {\n",
       "        vertical-align: top;\n",
       "    }\n",
       "\n",
       "    .dataframe thead th {\n",
       "        text-align: right;\n",
       "    }\n",
       "</style>\n",
       "<table border=\"1\" class=\"dataframe\">\n",
       "  <thead>\n",
       "    <tr style=\"text-align: right;\">\n",
       "      <th></th>\n",
       "      <th>cell_type</th>\n",
       "    </tr>\n",
       "  </thead>\n",
       "  <tbody>\n",
       "    <tr>\n",
       "      <th>AAACAGCCAATCCCTT-1</th>\n",
       "      <td>CD4 TCM</td>\n",
       "    </tr>\n",
       "    <tr>\n",
       "      <th>AAACAGCCAATGCGCT-1</th>\n",
       "      <td>CD4 Naive</td>\n",
       "    </tr>\n",
       "    <tr>\n",
       "      <th>AAACAGCCACCAACCG-1</th>\n",
       "      <td>CD8 Naive</td>\n",
       "    </tr>\n",
       "    <tr>\n",
       "      <th>AAACAGCCAGGATAAC-1</th>\n",
       "      <td>CD4 Naive</td>\n",
       "    </tr>\n",
       "    <tr>\n",
       "      <th>AAACAGCCAGTTTACG-1</th>\n",
       "      <td>CD4 TCM</td>\n",
       "    </tr>\n",
       "  </tbody>\n",
       "</table>\n",
       "</div>"
      ],
      "text/plain": [
       "                    cell_type\n",
       "AAACAGCCAATCCCTT-1    CD4 TCM\n",
       "AAACAGCCAATGCGCT-1  CD4 Naive\n",
       "AAACAGCCACCAACCG-1  CD8 Naive\n",
       "AAACAGCCAGGATAAC-1  CD4 Naive\n",
       "AAACAGCCAGTTTACG-1    CD4 TCM"
      ]
     },
     "execution_count": 39,
     "metadata": {},
     "output_type": "execute_result"
    }
   ],
   "source": [
    "ad.obs.head()"
   ]
  },
  {
   "cell_type": "code",
   "execution_count": 40,
   "metadata": {},
   "outputs": [
    {
     "data": {
      "text/plain": [
       "View of AnnData object with n_obs × n_vars = 9627 × 36601\n",
       "    obs: 'cell_type'\n",
       "    var: 'gene_ids', 'feature_types', 'genome', 'interval'"
      ]
     },
     "execution_count": 40,
     "metadata": {},
     "output_type": "execute_result"
    }
   ],
   "source": [
    "ad_rna = ad[:, np.where(ad.var.feature_types == 'Gene Expression')[0]]\n",
    "# Filter the AnnData object to retain only features of type 'Gene Expression' and store the result in ad_rna\n",
    "\n",
    "ad_rna"
   ]
  },
  {
   "cell_type": "markdown",
   "metadata": {},
   "source": [
    "### FuXi Note:\n",
    "Let's calculate the umap on the ad_rna and compare the clustering with assigned cell type labels. In your own analysis, if you already have the labels, you can skip this."
   ]
  },
  {
   "cell_type": "code",
   "execution_count": 41,
   "metadata": {},
   "outputs": [
    {
     "name": "stderr",
     "output_type": "stream",
     "text": [
      "/opt/conda/lib/python3.12/site-packages/scanpy/preprocessing/_highly_variable_genes.py:172: ImplicitModificationWarning: Trying to modify attribute `._uns` of view, initializing view as actual.\n",
      "  adata.uns[\"hvg\"] = {\"flavor\": flavor}\n",
      "/opt/conda/lib/python3.12/site-packages/anndata/_core/anndata.py:1758: UserWarning: Variable names are not unique. To make them unique, call `.var_names_make_unique`.\n",
      "  utils.warn_names_duplicates(\"var\")\n",
      "/opt/conda/lib/python3.12/site-packages/scanpy/preprocessing/_normalization.py:207: UserWarning: Received a view of an AnnData. Making a copy.\n",
      "  view_to_actual(adata)\n",
      "/opt/conda/lib/python3.12/site-packages/anndata/_core/anndata.py:1758: UserWarning: Variable names are not unique. To make them unique, call `.var_names_make_unique`.\n",
      "  utils.warn_names_duplicates(\"var\")\n",
      "/opt/conda/lib/python3.12/site-packages/sklearn/utils/deprecation.py:151: FutureWarning: 'force_all_finite' was renamed to 'ensure_all_finite' in 1.6 and will be removed in 1.8.\n",
      "  warnings.warn(\n",
      "/opt/conda/lib/python3.12/site-packages/umap/umap_.py:1952: UserWarning: n_jobs value 1 overridden to 1 by setting random_state. Use no seed for parallelism.\n",
      "  warn(\n",
      "... storing 'cell_type' as categorical\n",
      "... storing 'feature_types' as categorical\n",
      "... storing 'genome' as categorical\n"
     ]
    },
    {
     "data": {
      "image/png": "[encoded data removed]",
      "text/plain": [
       "<Figure size 640x480 with 1 Axes>"
      ]
     },
     "metadata": {},
     "output_type": "display_data"
    }
   ],
   "source": [
    "# Identify the top 3000 highly variable genes in the ad_rna object using the Seurat v3 method\n",
    "sc.pp.highly_variable_genes(ad_rna, flavor='seurat_v3', n_top_genes=3000)\n",
    "\n",
    "# Filter ad_rna to retain only the highly variable genes identified in the previous step\n",
    "ad_rna_filtered = ad_rna[:, ad_rna.var.highly_variable]\n",
    "\n",
    "# Normalize the total counts of each cell in ad_rna_filtered to a target sum of 10,000\n",
    "sc.pp.normalize_total(ad_rna_filtered, target_sum=1e4)\n",
    "\n",
    "# Log-transform the data in ad_rna_filtered for variance stabilization and normalization\n",
    "sc.pp.log1p(ad_rna_filtered)\n",
    "\n",
    "# Perform spectral clustering on the ad_rna_filtered object to identify clusters or groups in the data\n",
    "snap.tl.spectral(ad_rna_filtered, features=None)\n",
    "\n",
    "# Run UMAP (Uniform Manifold Approximation and Projection) for dimensionality reduction on ad_rna_filtered\n",
    "snap.tl.umap(ad_rna_filtered)\n",
    "\n",
    "# Plot the UMAP representation of ad_rna_filtered, coloring the cells by their 'cell_type' annotation\n",
    "sc.pl.umap(ad_rna_filtered, color='cell_type')"
   ]
  },
  {
   "cell_type": "markdown",
   "metadata": {},
   "source": [
    "### FuXi Note:\n",
    "It seems the cell types match well with the data. So now let's collect the ATAC object and look at library sizes of different cell types. Note that if you have a very densely sampled dataset, you can also perform metacell analysis and sample pseudobulk with a consistent library size."
   ]
  },
  {
   "cell_type": "code",
   "execution_count": 42,
   "metadata": {},
   "outputs": [
    {
     "data": {
      "text/plain": [
       "View of AnnData object with n_obs × n_vars = 9627 × 143887\n",
       "    obs: 'cell_type'\n",
       "    var: 'gene_ids', 'feature_types', 'genome', 'interval'"
      ]
     },
     "execution_count": 42,
     "metadata": {},
     "output_type": "execute_result"
    }
   ],
   "source": [
    "# Filter the AnnData object to retain only features of type 'Peaks' and store the result in ad_atac\n",
    "ad_atac = ad[:, np.where(ad.var.feature_types == 'Peaks')[0]]\n",
    "\n",
    "# Display the filtered ad_atac object containing only 'Peaks' features\n",
    "ad_atac"
   ]
  },
  {
   "cell_type": "markdown",
   "metadata": {},
   "source": [
    "### FuXi Note:\n",
    "We filter for cell types with >100 cells and at least 3M library size.\n",
    "The selected cell types will be used for training GET models."
   ]
  },
  {
   "cell_type": "code",
   "execution_count": 43,
   "metadata": {},
   "outputs": [
    {
     "name": "stdout",
     "output_type": "stream",
     "text": [
      "The following cell types have more than 100 cells and library size > 3M, adding them to celltype_for_modeling\n",
      "CD14 Mono number of cells: 2551, library size: 62039712\n",
      "CD16 Mono number of cells: 442, library size: 10504281\n",
      "CD4 Naive number of cells: 1382, library size: 29601700\n",
      "CD4 TCM number of cells: 1113, library size: 24745884\n",
      "CD4 TEM number of cells: 286, library size: 6965094\n",
      "CD8 Naive number of cells: 1353, library size: 30763516\n",
      "CD8 TEM_1 number of cells: 322, library size: 7209424\n",
      "CD8 TEM_2 number of cells: 315, library size: 6378479\n",
      "Intermediate B number of cells: 300, library size: 8366581\n",
      "MAIT number of cells: 130, library size: 3290943\n",
      "Memory B number of cells: 298, library size: 7267452\n",
      "NK number of cells: 403, library size: 8665433\n",
      "Naive B number of cells: 125, library size: 3618917\n",
      "Treg number of cells: 157, library size: 3135736\n",
      "cDC number of cells: 180, library size: 6102032\n",
      "gdT number of cells: 143, library size: 3106695\n"
     ]
    }
   ],
   "source": [
    "# Count the number of cells for each 'cell_type' in ad_atac and store the result as a dictionary\n",
    "cell_number = ad_atac.obs.groupby('cell_type', observed=False).size().to_dict()\n",
    "\n",
    "# Print a message indicating the filtering criteria for cell types to be added to celltype_for_modeling\n",
    "print(\"The following cell types have more than 100 cells and library size > 3M, adding them to celltype_for_modeling\")\n",
    "\n",
    "# Initialize an empty list to store cell types that meet the criteria for modeling\n",
    "celltype_for_modeling = []\n",
    "\n",
    "# Loop through each cell type and its corresponding cell count\n",
    "for cell_type in cell_number:\n",
    "    # If the cell type has more than 100 cells, proceed to check library size\n",
    "    if cell_number[cell_type] > 100:\n",
    "        # Add the cell type to the list for modeling\n",
    "        celltype_for_modeling.append(cell_type)\n",
    "        \n",
    "        # Calculate the library size for the current cell type by summing the expression values\n",
    "        libsize = int(ad_atac[ad_atac.obs.cell_type == cell_type].X.sum())\n",
    "        \n",
    "        # If the library size is greater than 3 million, print the cell type, its count, and the library size\n",
    "        if libsize > 3000000:\n",
    "            print(f\"{cell_type} number of cells: {cell_number[cell_type]}, library size: {libsize}\")\n"
   ]
  },
  {
   "cell_type": "markdown",
   "metadata": {},
   "source": [
    "## 2. Export Training Data\n",
    "\n",
    "### FuXi Note:\n",
    "For each abundant cell type, we'll generate:\n",
    "\n",
    "Peak accessibility file (.atac.bed) containing:  \n",
    "Peak coordinates (chr, start, end)  \n",
    "Normalized accessibility scores (aCPM, 10^5 scale factor) \n",
    " \n",
    "Gene expression file (.rna.csv) containing:  \n",
    "Gene names  \n",
    "Normalized expression values (TPM, 10^6 scale factor)  "
   ]
  },
  {
   "cell_type": "code",
   "execution_count": 44,
   "metadata": {},
   "outputs": [
    {
     "data": {
      "text/plain": [
       "(143887, 3)"
      ]
     },
     "execution_count": 44,
     "metadata": {},
     "output_type": "execute_result"
    }
   ],
   "source": [
    "# This should be the same as the peaks variable defined above.\n",
    "\n",
    "# Import pandas library for data manipulation and pyranges for genomic range operations\n",
    "import pandas as pd\n",
    "from pyranges import PyRanges as pr\n",
    "\n",
    "# Define a function to extract peak names from a snapatac2 processed AnnData object\n",
    "def get_peak_from_snapatac(atac: snap.AnnData):\n",
    "    \"\"\"\n",
    "    Get the peak names from the snapatac object.\n",
    "\n",
    "    Args:\n",
    "        atac: snapatac2 processed AnnData object\n",
    "\n",
    "    Returns:\n",
    "        peak_names: pandas DataFrame with the peak names\n",
    "    \"\"\"\n",
    "    # Split the feature names (e.g., Chromosome:Start-End) into separate columns: 'Chromosome', 'Start', 'End'\n",
    "    peak_names = pd.DataFrame(atac.var.index.str.split('[:-]').tolist(), columns=['Chromosome', 'Start', 'End'])\n",
    "    \n",
    "    # Convert the 'Start' and 'End' columns to integer type for numerical operations\n",
    "    peak_names['Start'] = peak_names['Start'].astype(int)\n",
    "    peak_names['End'] = peak_names['End'].astype(int)\n",
    "    \n",
    "    # Return the DataFrame containing the peak names with chromosome positions\n",
    "    return peak_names\n",
    "\n",
    "# Call the function on the ad_atac object to extract the peak names\n",
    "peaks = get_peak_from_snapatac(ad_atac)\n",
    "\n",
    "# Display the shape (dimensions) of the DataFrame containing peak names\n",
    "peaks.shape"
   ]
  },
  {
   "cell_type": "code",
   "execution_count": 45,
   "metadata": {},
   "outputs": [],
   "source": [
    "# %%\n",
    "# Define a function to calculate the aCPM (normalized counts) for a given cell type\n",
    "def get_peak_acpm_for_cell_type(atac: snap.AnnData, cell_type: str):\n",
    "    \"\"\"\n",
    "    Get the peak acpm for a given cell type.\n",
    "    \"\"\"\n",
    "    # Get the peak names and positions from the snapatac object using the previously defined function\n",
    "    peaks = get_peak_from_snapatac(atac)\n",
    "    \n",
    "    # Get the summed counts for each peak in the given cell type\n",
    "    counts = np.array(atac[atac.obs.cell_type == cell_type].X.sum(0)).flatten()\n",
    "    \n",
    "    # Calculate the aCPM (counts per million) and apply log10 transformation\n",
    "    acpm = np.log10(counts / counts.sum() * 1e5 + 1)\n",
    "    \n",
    "    # Normalize the aCPM values so that the maximum value is 1\n",
    "    peaks['aCPM'] = acpm / acpm.max()\n",
    "    \n",
    "    # Filter peaks to include only those from chromosomes that start with 'chr' and exclude 'M', 'Y', and 'chrUn'\n",
    "    peaks = peaks.query('Chromosome.str.startswith(\"chr\") & ~Chromosome.str.endswith(\"M\") & ~Chromosome.str.endswith(\"Y\") & ~Chromosome.str.startswith(\"chrUn\")')\n",
    "    \n",
    "    # Convert the filtered peaks DataFrame to a PyRanges object and sort it\n",
    "    peaks = pr(peaks, int64=True).sort().df\n",
    "    \n",
    "    # Return the processed peaks DataFrame\n",
    "    return peaks\n"
   ]
  },
  {
   "cell_type": "markdown",
   "metadata": {},
   "source": [
    "### FuXi Note:\n",
    "Let's run the function above to save the peak with aCPM for all cell types. Note that here we use the common peak set for all cell types. Later in the dataset we will be able to filter out peaks with no accessibility for each cell type."
   ]
  },
  {
   "cell_type": "code",
   "execution_count": 46,
   "metadata": {},
   "outputs": [
    {
     "data": {
      "text/plain": [
       "<Axes: xlabel='aCPM', ylabel='length'>"
      ]
     },
     "execution_count": 46,
     "metadata": {},
     "output_type": "execute_result"
    },
    {
     "data": {
      "image/png": "[encoded data removed]",
      "text/plain": [
       "<Figure size 640x480 with 1 Axes>"
      ]
     },
     "metadata": {},
     "output_type": "display_data"
    }
   ],
   "source": [
    "# %%\n",
    "# Loop through each cell type in the list 'celltype_for_modeling'\n",
    "for cell_type in celltype_for_modeling:\n",
    "    # For each cell type, get the peak aCPM (normalized counts) using the previously defined function\n",
    "    peaks = get_peak_acpm_for_cell_type(ad_atac, cell_type)\n",
    "    \n",
    "    # Save the processed peaks as a tab-delimited .bed file, with the cell type name as the filename\n",
    "    peaks.to_csv(f'{cell_type.replace(\" \", \"_\").lower()}.atac.bed', sep='\\t', index=False, header=False)\n",
    "\n",
    "# Add a new column 'length' to the peaks DataFrame, calculating the length of each peak (End - Start)\n",
    "peaks['length'] = peaks['End'] - peaks['Start']\n",
    "\n",
    "# Create a scatter plot of 'length' vs 'aCPM' to visualize the relationship between peak length and aCPM\n",
    "peaks.plot(y='length', x='aCPM', kind='scatter', s=1)"
   ]
  },
  {
   "cell_type": "code",
   "execution_count": 48,
   "metadata": {},
   "outputs": [
    {
     "data": {
      "text/html": [
       "<div>\n",
       "<style scoped>\n",
       "    .dataframe tbody tr th:only-of-type {\n",
       "        vertical-align: middle;\n",
       "    }\n",
       "\n",
       "    .dataframe tbody tr th {\n",
       "        vertical-align: top;\n",
       "    }\n",
       "\n",
       "    .dataframe thead th {\n",
       "        text-align: right;\n",
       "    }\n",
       "</style>\n",
       "<table border=\"1\" class=\"dataframe\">\n",
       "  <thead>\n",
       "    <tr style=\"text-align: right;\">\n",
       "      <th></th>\n",
       "      <th>Chromosome</th>\n",
       "      <th>Start</th>\n",
       "      <th>End</th>\n",
       "      <th>aCPM</th>\n",
       "      <th>length</th>\n",
       "    </tr>\n",
       "  </thead>\n",
       "  <tbody>\n",
       "    <tr>\n",
       "      <th>0</th>\n",
       "      <td>chr1</td>\n",
       "      <td>9790</td>\n",
       "      <td>10675</td>\n",
       "      <td>0.068361</td>\n",
       "      <td>885</td>\n",
       "    </tr>\n",
       "    <tr>\n",
       "      <th>1</th>\n",
       "      <td>chr1</td>\n",
       "      <td>180599</td>\n",
       "      <td>181702</td>\n",
       "      <td>0.123942</td>\n",
       "      <td>1103</td>\n",
       "    </tr>\n",
       "    <tr>\n",
       "      <th>2</th>\n",
       "      <td>chr1</td>\n",
       "      <td>191168</td>\n",
       "      <td>192093</td>\n",
       "      <td>0.018614</td>\n",
       "      <td>925</td>\n",
       "    </tr>\n",
       "    <tr>\n",
       "      <th>3</th>\n",
       "      <td>chr1</td>\n",
       "      <td>267565</td>\n",
       "      <td>268455</td>\n",
       "      <td>0.018614</td>\n",
       "      <td>890</td>\n",
       "    </tr>\n",
       "    <tr>\n",
       "      <th>4</th>\n",
       "      <td>chr1</td>\n",
       "      <td>270876</td>\n",
       "      <td>271770</td>\n",
       "      <td>0.000000</td>\n",
       "      <td>894</td>\n",
       "    </tr>\n",
       "    <tr>\n",
       "      <th>...</th>\n",
       "      <td>...</td>\n",
       "      <td>...</td>\n",
       "      <td>...</td>\n",
       "      <td>...</td>\n",
       "      <td>...</td>\n",
       "    </tr>\n",
       "    <tr>\n",
       "      <th>143820</th>\n",
       "      <td>chrX</td>\n",
       "      <td>155896411</td>\n",
       "      <td>155896852</td>\n",
       "      <td>0.000000</td>\n",
       "      <td>441</td>\n",
       "    </tr>\n",
       "    <tr>\n",
       "      <th>143821</th>\n",
       "      <td>chrX</td>\n",
       "      <td>155966624</td>\n",
       "      <td>155967524</td>\n",
       "      <td>0.000000</td>\n",
       "      <td>900</td>\n",
       "    </tr>\n",
       "    <tr>\n",
       "      <th>143822</th>\n",
       "      <td>chrX</td>\n",
       "      <td>155997155</td>\n",
       "      <td>155998067</td>\n",
       "      <td>0.117535</td>\n",
       "      <td>912</td>\n",
       "    </tr>\n",
       "    <tr>\n",
       "      <th>143823</th>\n",
       "      <td>chrX</td>\n",
       "      <td>156024967</td>\n",
       "      <td>156025615</td>\n",
       "      <td>0.018614</td>\n",
       "      <td>648</td>\n",
       "    </tr>\n",
       "    <tr>\n",
       "      <th>143824</th>\n",
       "      <td>chrX</td>\n",
       "      <td>156030098</td>\n",
       "      <td>156030882</td>\n",
       "      <td>0.097444</td>\n",
       "      <td>784</td>\n",
       "    </tr>\n",
       "  </tbody>\n",
       "</table>\n",
       "<p>143825 rows × 5 columns</p>\n",
       "</div>"
      ],
      "text/plain": [
       "       Chromosome      Start        End      aCPM  length\n",
       "0            chr1       9790      10675  0.068361     885\n",
       "1            chr1     180599     181702  0.123942    1103\n",
       "2            chr1     191168     192093  0.018614     925\n",
       "3            chr1     267565     268455  0.018614     890\n",
       "4            chr1     270876     271770  0.000000     894\n",
       "...           ...        ...        ...       ...     ...\n",
       "143820       chrX  155896411  155896852  0.000000     441\n",
       "143821       chrX  155966624  155967524  0.000000     900\n",
       "143822       chrX  155997155  155998067  0.117535     912\n",
       "143823       chrX  156024967  156025615  0.018614     648\n",
       "143824       chrX  156030098  156030882  0.097444     784\n",
       "\n",
       "[143825 rows x 5 columns]"
      ]
     },
     "execution_count": 48,
     "metadata": {},
     "output_type": "execute_result"
    }
   ],
   "source": [
    "peaks"
   ]
  },
  {
   "cell_type": "markdown",
   "metadata": {},
   "source": [
    "### FuXi Note:\n",
    "Now let's save the RNA csv files."
   ]
  },
  {
   "cell_type": "code",
   "execution_count": 49,
   "metadata": {},
   "outputs": [],
   "source": [
    "# %%\n",
    "# Define a function to calculate TPM (transcripts per million) for a given cell type\n",
    "def get_rna_for_cell_type(rna: snap.AnnData, cell_type: str):\n",
    "    \"\"\"\n",
    "    Get the RNA counts for a given cell type, normalized as TPM.\n",
    "    \"\"\"\n",
    "    # Sum the counts for each gene in the specified cell type\n",
    "    counts = rna[rna.obs.cell_type == cell_type].X.sum(0)\n",
    "    \n",
    "    # Normalize the counts to TPM by dividing by the total counts, scaling to 1 million, and applying a log10 transformation\n",
    "    counts = np.log10(counts / counts.sum() * 1e6 + 1)\n",
    "    \n",
    "    # Flatten the counts array for use in a DataFrame\n",
    "    counts = np.array(counts).flatten()\n",
    "    \n",
    "    # Create a DataFrame with the TPM values and corresponding gene names\n",
    "    rna_tpm = pd.DataFrame(counts, columns=['TPM'])\n",
    "    rna_tpm['gene_name'] = rna.var.index\n",
    "    \n",
    "    # Return the DataFrame with 'gene_name' and 'TPM', sorted by gene name in ascending order\n",
    "    return rna_tpm[['gene_name', 'TPM']].sort_values(by='gene_name', ascending=True)\n"
   ]
  },
  {
   "cell_type": "code",
   "execution_count": 50,
   "metadata": {},
   "outputs": [],
   "source": [
    "# %%\n",
    "# Loop through each cell type in the list 'celltype_for_modeling'\n",
    "for cell_type in celltype_for_modeling:\n",
    "    # For each cell type, get the RNA TPM (transcripts per million) using the previously defined function\n",
    "    rna_tpm = get_rna_for_cell_type(ad_rna, cell_type)\n",
    "    \n",
    "    # Save the resulting RNA TPM DataFrame as a CSV file with the cell type name (converted to lowercase and with spaces replaced by underscores)\n",
    "    rna_tpm.to_csv(f'{cell_type.replace(\" \", \"_\").lower()}.rna.csv', index=False)"
   ]
  },
  {
   "cell_type": "markdown",
   "metadata": {},
   "source": [
    "## 3. Query motifs and save data as zarr files."
   ]
  },
  {
   "cell_type": "code",
   "execution_count": 51,
   "metadata": {},
   "outputs": [
    {
     "name": "stdout",
     "output_type": "stream",
     "text": [
      "tabix (htslib) 1.21\n",
      "Copyright (C) 2024 Genome Research Ltd.\n"
     ]
    }
   ],
   "source": [
    "# NOTE: tabix has to be >= 1.17\n",
    "! tabix --version"
   ]
  },
  {
   "cell_type": "code",
   "execution_count": 52,
   "metadata": {},
   "outputs": [
    {
     "name": "stdout",
     "output_type": "stream",
     "text": [
      "gcell currently using annotation directory: /home/users/u102501/.gcell_data/annotations\n"
     ]
    }
   ],
   "source": [
    "# Import the necessary libraries and modules\n",
    "import os\n",
    "from pathlib import Path\n",
    "\n",
    "# Import specific functions from the 'gcell._settings' module and 'preprocess_utils' module\n",
    "from gcell._settings import get_setting\n",
    "from preprocess_utils import (\n",
    "    add_atpm,        # Function to add ATPM\n",
    "    add_exp,         # Function to add expression data\n",
    "    create_peak_motif,  # Function to create peak motif data\n",
    "    download_motif,     # Function to download motif data\n",
    "    get_motif,          # Function to retrieve motif data\n",
    "    query_motif,        # Function to query motif data\n",
    ")\n",
    "\n",
    "# Get the annotation directory setting using the 'get_setting' function and convert it to a Path object\n",
    "annotation_dir = Path(get_setting('annotation_dir'))\n",
    "\n",
    "# Print the directory being used for annotations (retrieved from the configuration)\n",
    "print(\"gcell currently using annotation directory:\", annotation_dir)"
   ]
  },
  {
   "cell_type": "markdown",
   "metadata": {},
   "source": [
    "### Download motif bed file"
   ]
  },
  {
   "cell_type": "code",
   "execution_count": 53,
   "metadata": {},
   "outputs": [],
   "source": [
    "motif_bed_url = \"https://resources.altius.org/~jvierstra/projects/motif-clustering/releases/v1.0/hg38.archetype_motifs.v1.0.bed.gz\"\n",
    "motif_bed_index_url = \"https://resources.altius.org/~jvierstra/projects/motif-clustering/releases/v1.0/hg38.archetype_motifs.v1.0.bed.gz.tbi\"\n",
    "\n",
    "\n",
    "if (\n",
    "    motif_bed_url\n",
    "    and motif_bed_index_url\n",
    "    and not (\n",
    "        (annotation_dir / \"hg38.archetype_motifs.v1.0.bed.gz\").exists()\n",
    "        or (annotation_dir / \"hg38.archetype_motifs.v1.0.bed.gz.tbi\").exists()\n",
    "    )\n",
    "):\n",
    "    download_motif(motif_bed_url, motif_bed_index_url, motif_dir=annotation_dir)\n",
    "    motif_bed = str(annotation_dir / \"hg38.archetype_motifs.v1.0.bed.gz\")\n",
    "else:\n",
    "    motif_bed = str(annotation_dir / \"hg38.archetype_motifs.v1.0.bed.gz\")"
   ]
  },
  {
   "cell_type": "markdown",
   "metadata": {},
   "source": [
    "### Query Motif"
   ]
  },
  {
   "cell_type": "code",
   "execution_count": 54,
   "metadata": {},
   "outputs": [
    {
     "name": "stdout",
     "output_type": "stream",
     "text": [
      "Peak motif extraction completed. Results saved in get_motif.bed\n"
     ]
    }
   ],
   "source": [
    "peak_bed = \"cd4_naive.atac.bed\" # since all cell types share the same peak set, when querying motifs, we can just use one cell type to query motifs.\n",
    "peaks_motif = query_motif(peak_bed, motif_bed)\n",
    "get_motif_output = get_motif(peak_bed, peaks_motif)"
   ]
  },
  {
   "cell_type": "markdown",
   "metadata": {},
   "source": [
    "## 4. Create Peak Motif .Zarr File\n",
    "\n",
    "Create a peak x motif matrix stored in a zarr file. If you are working on multiple cell types with the same peak set, you can use the same peak bed and zarr file for all cell types.\n"
   ]
  },
  {
   "cell_type": "code",
   "execution_count": 55,
   "metadata": {},
   "outputs": [
    {
     "name": "stdout",
     "output_type": "stream",
     "text": [
      "Peak motif data saved to pbmc10k_multiome.zarr\n"
     ]
    }
   ],
   "source": [
    "create_peak_motif(get_motif_output, \"pbmc10k_multiome.zarr\", peak_bed) \n",
    "# all cell types will later be added to the same zarr file as we use the same peak set."
   ]
  },
  {
   "cell_type": "markdown",
   "metadata": {},
   "source": [
    "### Add aCPM data to region x motif matrix\n",
    "\n",
    "For each cell type, we will save it's aCPM values to the pbmc10k_multiome.zarr/atpm/{celltype}/ folder"
   ]
  },
  {
   "cell_type": "code",
   "execution_count": 56,
   "metadata": {},
   "outputs": [],
   "source": [
    "#CD14 Mono number of cells: 2551, library size: 62039712\n",
    "#CD16 Mono number of cells: 442, library size: 10504281\n",
    "#CD4 Naive number of cells: 1382, library size: 29601700\n",
    "#CD4 TCM number of cells: 1113, library size: 24745884\n",
    "#CD4 TEM number of cells: 286, library size: 6965094\n",
    "#CD8 Naive number of cells: 1353, library size: 30763516\n",
    "#CD8 TEM_1 number of cells: 322, library size: 7209424\n",
    "#CD8 TEM_2 number of cells: 315, library size: 6378479\n",
    "#Intermediate B number of cells: 300, library size: 8366581\n",
    "#MAIT number of cells: 130, library size: 3290943\n",
    "#Memory B number of cells: 298, library size: 7267452\n",
    "#NK number of cells: 403, library size: 8665433\n",
    "#Naive B number of cells: 125, library size: 3618917\n",
    "#Treg number of cells: 157, library size: 3135736\n",
    "#cDC number of cells: 180, library size: 6102032\n",
    "#gdT number of cells: 143, library size: 3106695\n",
    "\n",
    "celltype_for_modeling = [\n",
    "    'cd14_mono',\n",
    "    'cd16_mono',\n",
    "    'cd4_naive',\n",
    "    'cd4_tcm',\n",
    "    'cd4_tem',\n",
    "    'cd8_naive',\n",
    "    'cd8_tem_1',\n",
    "    'cd8_tem_2',\n",
    "    'intermediate_b',\n",
    "    'mait',\n",
    "    'memory_b',\n",
    "    'naive_b',\n",
    "    'treg',\n",
    "    'cdc',\n",
    "    'gdt',\n",
    "    'nk',\n",
    " ]"
   ]
  },
  {
   "cell_type": "code",
   "execution_count": 57,
   "metadata": {},
   "outputs": [
    {
     "name": "stdout",
     "output_type": "stream",
     "text": [
      "       Chromosome      Start        End      aTPM                      Name\n",
      "0            chr1       9790      10675  0.016197           chr1:9790-10675\n",
      "1            chr1     180599     181702  0.031115        chr1:180599-181702\n",
      "2            chr1     191168     192093  0.032358        chr1:191168-192093\n",
      "3            chr1     267565     268455  0.097888        chr1:267565-268455\n",
      "4            chr1     270876     271770  0.045691        chr1:270876-271770\n",
      "...           ...        ...        ...       ...                       ...\n",
      "143820       chrX  155896411  155896852  0.011344  chrX:155896411-155896852\n",
      "143821       chrX  155966624  155967524  0.007312  chrX:155966624-155967524\n",
      "143822       chrX  155997155  155998067  0.002764  chrX:155997155-155998067\n",
      "143823       chrX  156024967  156025615  0.005955  chrX:156024967-156025615\n",
      "143824       chrX  156030098  156030882  0.034008  chrX:156030098-156030882\n",
      "\n",
      "[143825 rows x 5 columns]\n",
      "       Chromosome      Start        End      aTPM                      Name\n",
      "0            chr1       9790      10675  0.029071           chr1:9790-10675\n",
      "1            chr1     180599     181702  0.045324        chr1:180599-181702\n",
      "2            chr1     191168     192093  0.017758        chr1:191168-192093\n",
      "3            chr1     267565     268455  0.075543        chr1:267565-268455\n",
      "4            chr1     270876     271770  0.045324        chr1:270876-271770\n",
      "...           ...        ...        ...       ...                       ...\n",
      "143820       chrX  155896411  155896852  0.000000  chrX:155896411-155896852\n",
      "143821       chrX  155966624  155967524  0.000000  chrX:155966624-155967524\n",
      "143822       chrX  155997155  155998067  0.011948  chrX:155997155-155998067\n",
      "143823       chrX  156024967  156025615  0.000000  chrX:156024967-156025615\n",
      "143824       chrX  156030098  156030882  0.060791  chrX:156030098-156030882\n",
      "\n",
      "[143825 rows x 5 columns]\n",
      "       Chromosome      Start        End      aTPM                      Name\n",
      "0            chr1       9790      10675  0.016097           chr1:9790-10675\n",
      "1            chr1     180599     181702  0.038756        chr1:180599-181702\n",
      "2            chr1     191168     192093  0.027636        chr1:191168-192093\n",
      "3            chr1     267565     268455  0.031388        chr1:267565-268455\n",
      "4            chr1     270876     271770  0.000000        chr1:270876-271770\n",
      "...           ...        ...        ...       ...                       ...\n",
      "143820       chrX  155896411  155896852  0.000000  chrX:155896411-155896852\n",
      "143821       chrX  155966624  155967524  0.008154  chrX:155966624-155967524\n",
      "143822       chrX  155997155  155998067  0.017075  chrX:155997155-155998067\n",
      "143823       chrX  156024967  156025615  0.000000  chrX:156024967-156025615\n",
      "143824       chrX  156030098  156030882  0.027636  chrX:156030098-156030882\n",
      "\n",
      "[143825 rows x 5 columns]\n",
      "       Chromosome      Start        End      aTPM                      Name\n",
      "0            chr1       9790      10675  0.052964           chr1:9790-10675\n",
      "1            chr1     180599     181702  0.071457        chr1:180599-181702\n",
      "2            chr1     191168     192093  0.026459        chr1:191168-192093\n",
      "3            chr1     267565     268455  0.037779        chr1:267565-268455\n",
      "4            chr1     270876     271770  0.000000        chr1:270876-271770\n",
      "...           ...        ...        ...       ...                       ...\n",
      "143820       chrX  155896411  155896852  0.001253  chrX:155896411-155896852\n",
      "143821       chrX  155966624  155967524  0.035547  chrX:155966624-155967524\n",
      "143822       chrX  155997155  155998067  0.109874  chrX:155997155-155998067\n",
      "143823       chrX  156024967  156025615  0.002501  chrX:156024967-156025615\n",
      "143824       chrX  156030098  156030882  0.094517  chrX:156030098-156030882\n",
      "\n",
      "[143825 rows x 5 columns]\n",
      "       Chromosome      Start        End      aTPM                      Name\n",
      "0            chr1       9790      10675  0.057102           chr1:9790-10675\n",
      "1            chr1     180599     181702  0.092307        chr1:180599-181702\n",
      "2            chr1     191168     192093  0.000000        chr1:191168-192093\n",
      "3            chr1     267565     268455  0.041826        chr1:267565-268455\n",
      "4            chr1     270876     271770  0.008826        chr1:270876-271770\n",
      "...           ...        ...        ...       ...                       ...\n",
      "143820       chrX  155896411  155896852  0.000000  chrX:155896411-155896852\n",
      "143821       chrX  155966624  155967524  0.025762  chrX:155966624-155967524\n",
      "143822       chrX  155997155  155998067  0.029856  chrX:155997155-155998067\n",
      "143823       chrX  156024967  156025615  0.000000  chrX:156024967-156025615\n",
      "143824       chrX  156030098  156030882  0.078698  chrX:156030098-156030882\n",
      "\n",
      "[143825 rows x 5 columns]\n",
      "       Chromosome      Start        End      aTPM                      Name\n",
      "0            chr1       9790      10675  0.015714           chr1:9790-10675\n",
      "1            chr1     180599     181702  0.041432        chr1:180599-181702\n",
      "2            chr1     191168     192093  0.011860        chr1:191168-192093\n",
      "3            chr1     267565     268455  0.037886        chr1:267565-268455\n",
      "4            chr1     270876     271770  0.000000        chr1:270876-271770\n",
      "...           ...        ...        ...       ...                       ...\n",
      "143820       chrX  155896411  155896852  0.004004  chrX:155896411-155896852\n",
      "143821       chrX  155966624  155967524  0.023283  chrX:155966624-155967524\n",
      "143822       chrX  155997155  155998067  0.073236  chrX:155997155-155998067\n",
      "143823       chrX  156024967  156025615  0.007957  chrX:156024967-156025615\n",
      "143824       chrX  156030098  156030882  0.031582  chrX:156030098-156030882\n",
      "\n",
      "[143825 rows x 5 columns]\n",
      "       Chromosome      Start        End      aTPM                      Name\n",
      "0            chr1       9790      10675  0.032444           chr1:9790-10675\n",
      "1            chr1     180599     181702  0.075488        chr1:180599-181702\n",
      "2            chr1     191168     192093  0.051115        chr1:191168-192093\n",
      "3            chr1     267565     268455  0.008437        chr1:267565-268455\n",
      "4            chr1     270876     271770  0.000000        chr1:270876-271770\n",
      "...           ...        ...        ...       ...                       ...\n",
      "143820       chrX  155896411  155896852  0.000000  chrX:155896411-155896852\n",
      "143821       chrX  155966624  155967524  0.020674  chrX:155966624-155967524\n",
      "143822       chrX  155997155  155998067  0.116200  chrX:155997155-155998067\n",
      "143823       chrX  156024967  156025615  0.000000  chrX:156024967-156025615\n",
      "143824       chrX  156030098  156030882  0.082112  chrX:156030098-156030882\n",
      "\n",
      "[143825 rows x 5 columns]\n",
      "       Chromosome      Start        End      aTPM                      Name\n",
      "0            chr1       9790      10675  0.076261           chr1:9790-10675\n",
      "1            chr1     180599     181702  0.097981        chr1:180599-181702\n",
      "2            chr1     191168     192093  0.027581        chr1:191168-192093\n",
      "3            chr1     267565     268455  0.000000        chr1:267565-268455\n",
      "4            chr1     270876     271770  0.000000        chr1:270876-271770\n",
      "...           ...        ...        ...       ...                       ...\n",
      "143820       chrX  155896411  155896852  0.000000  chrX:155896411-155896852\n",
      "143821       chrX  155966624  155967524  0.036250  chrX:155966624-155967524\n",
      "143822       chrX  155997155  155998067  0.177570  chrX:155997155-155998067\n",
      "143823       chrX  156024967  156025615  0.000000  chrX:156024967-156025615\n",
      "143824       chrX  156030098  156030882  0.127925  chrX:156030098-156030882\n",
      "\n",
      "[143825 rows x 5 columns]\n",
      "       Chromosome      Start        End      aTPM                      Name\n",
      "0            chr1       9790      10675  0.022438           chr1:9790-10675\n",
      "1            chr1     180599     181702  0.056692        chr1:180599-181702\n",
      "2            chr1     191168     192093  0.007653        chr1:191168-192093\n",
      "3            chr1     267565     268455  0.050125        chr1:267565-268455\n",
      "4            chr1     270876     271770  0.000000        chr1:270876-271770\n",
      "...           ...        ...        ...       ...                       ...\n",
      "143820       chrX  155896411  155896852  0.007653  chrX:155896411-155896852\n",
      "143821       chrX  155966624  155967524  0.029585  chrX:155966624-155967524\n",
      "143822       chrX  155997155  155998067  0.000000  chrX:155997155-155998067\n",
      "143823       chrX  156024967  156025615  0.022438  chrX:156024967-156025615\n",
      "143824       chrX  156030098  156030882  0.029585  chrX:156030098-156030882\n",
      "\n",
      "[143825 rows x 5 columns]\n",
      "       Chromosome      Start        End      aTPM                      Name\n",
      "0            chr1       9790      10675  0.111798           chr1:9790-10675\n",
      "1            chr1     180599     181702  0.083687        chr1:180599-181702\n",
      "2            chr1     191168     192093  0.036179        chr1:191168-192093\n",
      "3            chr1     267565     268455  0.018608        chr1:267565-268455\n",
      "4            chr1     270876     271770  0.000000        chr1:270876-271770\n",
      "...           ...        ...        ...       ...                       ...\n",
      "143820       chrX  155896411  155896852  0.000000  chrX:155896411-155896852\n",
      "143821       chrX  155966624  155967524  0.036179  chrX:155966624-155967524\n",
      "143822       chrX  155997155  155998067  0.137607  chrX:155997155-155998067\n",
      "143823       chrX  156024967  156025615  0.000000  chrX:156024967-156025615\n",
      "143824       chrX  156030098  156030882  0.018608  chrX:156030098-156030882\n",
      "\n",
      "[143825 rows x 5 columns]\n",
      "       Chromosome      Start        End      aTPM                      Name\n",
      "0            chr1       9790      10675  0.017348           chr1:9790-10675\n",
      "1            chr1     180599     181702  0.017348        chr1:180599-181702\n",
      "2            chr1     191168     192093  0.000000        chr1:191168-192093\n",
      "3            chr1     267565     268455  0.033814        chr1:267565-268455\n",
      "4            chr1     270876     271770  0.000000        chr1:270876-271770\n",
      "...           ...        ...        ...       ...                       ...\n",
      "143820       chrX  155896411  155896852  0.000000  chrX:155896411-155896852\n",
      "143821       chrX  155966624  155967524  0.025686  chrX:155966624-155967524\n",
      "143822       chrX  155997155  155998067  0.017348  chrX:155997155-155998067\n",
      "143823       chrX  156024967  156025615  0.004425  chrX:156024967-156025615\n",
      "143824       chrX  156030098  156030882  0.008790  chrX:156030098-156030882\n",
      "\n",
      "[143825 rows x 5 columns]\n",
      "       Chromosome      Start        End      aTPM                      Name\n",
      "0            chr1       9790      10675  0.034328           chr1:9790-10675\n",
      "1            chr1     180599     181702  0.017614        chr1:180599-181702\n",
      "2            chr1     191168     192093  0.000000        chr1:191168-192093\n",
      "3            chr1     267565     268455  0.050231        chr1:267565-268455\n",
      "4            chr1     270876     271770  0.000000        chr1:270876-271770\n",
      "...           ...        ...        ...       ...                       ...\n",
      "143820       chrX  155896411  155896852  0.000000  chrX:155896411-155896852\n",
      "143821       chrX  155966624  155967524  0.000000  chrX:155966624-155967524\n",
      "143822       chrX  155997155  155998067  0.017614  chrX:155997155-155998067\n",
      "143823       chrX  156024967  156025615  0.000000  chrX:156024967-156025615\n",
      "143824       chrX  156030098  156030882  0.050231  chrX:156030098-156030882\n",
      "\n",
      "[143825 rows x 5 columns]\n",
      "       Chromosome      Start        End      aTPM                      Name\n",
      "0            chr1       9790      10675  0.068928           chr1:9790-10675\n",
      "1            chr1     180599     181702  0.125057        chr1:180599-181702\n",
      "2            chr1     191168     192093  0.036418        chr1:191168-192093\n",
      "3            chr1     267565     268455  0.068928        chr1:267565-268455\n",
      "4            chr1     270876     271770  0.009522        chr1:270876-271770\n",
      "...           ...        ...        ...       ...                       ...\n",
      "143820       chrX  155896411  155896852  0.000000  chrX:155896411-155896852\n",
      "143821       chrX  155966624  155967524  0.053108  chrX:155966624-155967524\n",
      "143822       chrX  155997155  155998067  0.027715  chrX:155997155-155998067\n",
      "143823       chrX  156024967  156025615  0.000000  chrX:156024967-156025615\n",
      "143824       chrX  156030098  156030882  0.125057  chrX:156030098-156030882\n",
      "\n",
      "[143825 rows x 5 columns]\n",
      "       Chromosome      Start        End      aTPM                      Name\n",
      "0            chr1       9790      10675  0.031175           chr1:9790-10675\n",
      "1            chr1     180599     181702  0.055092        chr1:180599-181702\n",
      "2            chr1     191168     192093  0.010720        chr1:191168-192093\n",
      "3            chr1     267565     268455  0.021105        chr1:267565-268455\n",
      "4            chr1     270876     271770  0.010720        chr1:270876-271770\n",
      "...           ...        ...        ...       ...                       ...\n",
      "143820       chrX  155896411  155896852  0.005403  chrX:155896411-155896852\n",
      "143821       chrX  155966624  155967524  0.000000  chrX:155966624-155967524\n",
      "143822       chrX  155997155  155998067  0.000000  chrX:155997155-155998067\n",
      "143823       chrX  156024967  156025615  0.000000  chrX:156024967-156025615\n",
      "143824       chrX  156030098  156030882  0.055092  chrX:156030098-156030882\n",
      "\n",
      "[143825 rows x 5 columns]\n",
      "       Chromosome      Start        End      aTPM                      Name\n",
      "0            chr1       9790      10675  0.068361           chr1:9790-10675\n",
      "1            chr1     180599     181702  0.123942        chr1:180599-181702\n",
      "2            chr1     191168     192093  0.018614        chr1:191168-192093\n",
      "3            chr1     267565     268455  0.018614        chr1:267565-268455\n",
      "4            chr1     270876     271770  0.000000        chr1:270876-271770\n",
      "...           ...        ...        ...       ...                       ...\n",
      "143820       chrX  155896411  155896852  0.000000  chrX:155896411-155896852\n",
      "143821       chrX  155966624  155967524  0.000000  chrX:155966624-155967524\n",
      "143822       chrX  155997155  155998067  0.117535  chrX:155997155-155998067\n",
      "143823       chrX  156024967  156025615  0.018614  chrX:156024967-156025615\n",
      "143824       chrX  156030098  156030882  0.097444  chrX:156030098-156030882\n",
      "\n",
      "[143825 rows x 5 columns]\n",
      "       Chromosome      Start        End      aTPM                      Name\n",
      "0            chr1       9790      10675  0.052384           chr1:9790-10675\n",
      "1            chr1     180599     181702  0.086563        chr1:180599-181702\n",
      "2            chr1     191168     192093  0.027300        chr1:191168-192093\n",
      "3            chr1     267565     268455  0.007054        chr1:267565-268455\n",
      "4            chr1     270876     271770  0.000000        chr1:270876-271770\n",
      "...           ...        ...        ...       ...                       ...\n",
      "143820       chrX  155896411  155896852  0.000000  chrX:155896411-155896852\n",
      "143821       chrX  155966624  155967524  0.020698  chrX:155966624-155967524\n",
      "143822       chrX  155997155  155998067  0.147544  chrX:155997155-155998067\n",
      "143823       chrX  156024967  156025615  0.007054  chrX:156024967-156025615\n",
      "143824       chrX  156030098  156030882  0.143085  chrX:156030098-156030882\n",
      "\n",
      "[143825 rows x 5 columns]\n"
     ]
    }
   ],
   "source": [
    "for cell_type in celltype_for_modeling:\n",
    "    add_atpm(\n",
    "        \"pbmc10k_multiome.zarr\",\n",
    "        f\"{cell_type}.atac.bed\",\n",
    "        cell_type,\n",
    "    )"
   ]
  },
  {
   "cell_type": "markdown",
   "metadata": {},
   "source": [
    "### Add Expression and TSS Data to Region x Motif Matrix"
   ]
  },
  {
   "cell_type": "code",
   "execution_count": 58,
   "metadata": {},
   "outputs": [
    {
     "name": "stderr",
     "output_type": "stream",
     "text": [
      "join: Strand data from other will be added as strand data to self.\n",
      "If this is undesired use the flag apply_strand_suffix=False.\n",
      "To turn off the warning set apply_strand_suffix to True or False.\n",
      "/project/home/p200469/get_BIO1018/preprocess_utils/preprocess_utils.py:338: FutureWarning: The default of observed=False is deprecated and will be changed to True in a future version of pandas. Pass observed=False to retain current behavior or observed=True to adopt the future default and silence this warning.\n",
      "  .groupby([\"index\", \"Strand\"])\n",
      "join: Strand data from other will be added as strand data to self.\n",
      "If this is undesired use the flag apply_strand_suffix=False.\n",
      "To turn off the warning set apply_strand_suffix to True or False.\n",
      "/project/home/p200469/get_BIO1018/preprocess_utils/preprocess_utils.py:338: FutureWarning: The default of observed=False is deprecated and will be changed to True in a future version of pandas. Pass observed=False to retain current behavior or observed=True to adopt the future default and silence this warning.\n",
      "  .groupby([\"index\", \"Strand\"])\n"
     ]
    },
    {
     "ename": "OSError",
     "evalue": "[Errno 122] Disk quota exceeded: '/project/home/p200469/get_BIO1018/pbmc10k_multiome.zarr/expression_positive/cd16_mono/23.77ce7a97503e4ffe831b832ab4d2774f.partial'",
     "output_type": "error",
     "traceback": [
      "\u001b[0;31m---------------------------------------------------------------------------\u001b[0m",
      "\u001b[0;31mOSError\u001b[0m                                   Traceback (most recent call last)",
      "Cell \u001b[0;32mIn[58], line 3\u001b[0m\n\u001b[1;32m      1\u001b[0m \u001b[39m# Loop through each cell type in the list 'celltype_for_modeling'\u001b[39;00m\n\u001b[1;32m      2\u001b[0m \u001b[39mfor\u001b[39;00m cell_type \u001b[39min\u001b[39;00m celltype_for_modeling:\n\u001b[0;32m----> 3\u001b[0m     add_exp(\n\u001b[1;32m      4\u001b[0m         \u001b[39m\"\u001b[39;49m\u001b[39mpbmc10k_multiome.zarr\u001b[39;49m\u001b[39m\"\u001b[39;49m,\n\u001b[1;32m      5\u001b[0m         \u001b[39mf\u001b[39;49m\u001b[39m\"\u001b[39;49m\u001b[39m{\u001b[39;49;00mcell_type\u001b[39m}\u001b[39;49;00m\u001b[39m.rna.csv\u001b[39;49m\u001b[39m\"\u001b[39;49m,\n\u001b[1;32m      6\u001b[0m         \u001b[39mf\u001b[39;49m\u001b[39m\"\u001b[39;49m\u001b[39m{\u001b[39;49;00mcell_type\u001b[39m}\u001b[39;49;00m\u001b[39m.atac.bed\u001b[39;49m\u001b[39m\"\u001b[39;49m,\n\u001b[1;32m      7\u001b[0m         cell_type,\n\u001b[1;32m      8\u001b[0m         assembly\u001b[39m=\u001b[39;49m\u001b[39m\"\u001b[39;49m\u001b[39mhg38\u001b[39;49m\u001b[39m\"\u001b[39;49m,\n\u001b[1;32m      9\u001b[0m         version\u001b[39m=\u001b[39;49m\u001b[39m44\u001b[39;49m,\n\u001b[1;32m     10\u001b[0m         extend_bp\u001b[39m=\u001b[39;49m\u001b[39m300\u001b[39;49m, \u001b[39m# extend TSS region to 300bp upstream and downstream when overlapping with peaks\u001b[39;49;00m\n\u001b[1;32m     11\u001b[0m     id_or_name\u001b[39m=\u001b[39;49m\u001b[39m\"\u001b[39;49m\u001b[39mgene_name\u001b[39;49m\u001b[39m\"\u001b[39;49m, \u001b[39m# use gene_name or gene_id to match the gene expression data, checkout your rna.csv file column names, should be either [gene_name, TPM] or [gene_id, TPM]\u001b[39;49;00m\n\u001b[1;32m     12\u001b[0m )\n",
      "File \u001b[0;32m/project/home/p200469/get_BIO1018/preprocess_utils/preprocess_utils.py:365\u001b[0m, in \u001b[0;36madd_exp\u001b[0;34m(zarr_file, rna_file, atac_file, celltype, assembly, version, extend_bp, id_or_name)\u001b[0m\n\u001b[1;32m    363\u001b[0m \u001b[39m# Save data for the specific cell type\u001b[39;00m\n\u001b[1;32m    364\u001b[0m peak_names \u001b[39m=\u001b[39m z[\u001b[39m\"\u001b[39m\u001b[39mpeak_names\u001b[39m\u001b[39m\"\u001b[39m][:]\n\u001b[0;32m--> 365\u001b[0m z[\u001b[39m\"\u001b[39;49m\u001b[39mexpression_positive\u001b[39;49m\u001b[39m\"\u001b[39;49m]\u001b[39m.\u001b[39;49mcreate_dataset(\n\u001b[1;32m    366\u001b[0m     celltype,\n\u001b[1;32m    367\u001b[0m     data\u001b[39m=\u001b[39;49mexp_data[:, \u001b[39m0\u001b[39;49m]\u001b[39m.\u001b[39;49mastype(np\u001b[39m.\u001b[39;49mfloat32),\n\u001b[1;32m    368\u001b[0m     overwrite\u001b[39m=\u001b[39;49m\u001b[39mTrue\u001b[39;49;00m,\n\u001b[1;32m    369\u001b[0m     chunks\u001b[39m=\u001b[39;49m(\u001b[39m1000\u001b[39;49m,),\n\u001b[1;32m    370\u001b[0m     dtype\u001b[39m=\u001b[39;49mnp\u001b[39m.\u001b[39;49mfloat32,\n\u001b[1;32m    371\u001b[0m )\n\u001b[1;32m    372\u001b[0m z[\u001b[39m\"\u001b[39m\u001b[39mexpression_negative\u001b[39m\u001b[39m\"\u001b[39m]\u001b[39m.\u001b[39mcreate_dataset(\n\u001b[1;32m    373\u001b[0m     celltype,\n\u001b[1;32m    374\u001b[0m     data\u001b[39m=\u001b[39mexp_data[:, \u001b[39m1\u001b[39m]\u001b[39m.\u001b[39mastype(np\u001b[39m.\u001b[39mfloat32),\n\u001b[0;32m   (...)\u001b[0m\n\u001b[1;32m    377\u001b[0m     dtype\u001b[39m=\u001b[39mnp\u001b[39m.\u001b[39mfloat32,\n\u001b[1;32m    378\u001b[0m )\n\u001b[1;32m    379\u001b[0m z[\u001b[39m\"\u001b[39m\u001b[39mtss\u001b[39m\u001b[39m\"\u001b[39m]\u001b[39m.\u001b[39mcreate_dataset(\n\u001b[1;32m    380\u001b[0m     celltype,\n\u001b[1;32m    381\u001b[0m     data\u001b[39m=\u001b[39mtss\u001b[39m.\u001b[39mastype(np\u001b[39m.\u001b[39mint8),\n\u001b[0;32m   (...)\u001b[0m\n\u001b[1;32m    384\u001b[0m     dtype\u001b[39m=\u001b[39mnp\u001b[39m.\u001b[39mint8,\n\u001b[1;32m    385\u001b[0m )\n",
      "File \u001b[0;32m/opt/conda/lib/python3.12/site-packages/zarr/hierarchy.py:1111\u001b[0m, in \u001b[0;36mGroup.create_dataset\u001b[0;34m(self, name, **kwargs)\u001b[0m\n\u001b[1;32m   1052\u001b[0m \u001b[39m\u001b[39m\u001b[39m\"\"\"Create an array.\u001b[39;00m\n\u001b[1;32m   1053\u001b[0m \n\u001b[1;32m   1054\u001b[0m \u001b[39mArrays are known as \"datasets\" in HDF5 terminology. For compatibility\u001b[39;00m\n\u001b[0;32m   (...)\u001b[0m\n\u001b[1;32m   1107\u001b[0m \n\u001b[1;32m   1108\u001b[0m \u001b[39m\"\"\"\u001b[39;00m\n\u001b[1;32m   1109\u001b[0m \u001b[39massert\u001b[39;00m \u001b[39m\"\u001b[39m\u001b[39mmode\u001b[39m\u001b[39m\"\u001b[39m \u001b[39mnot\u001b[39;00m \u001b[39min\u001b[39;00m kwargs\n\u001b[0;32m-> 1111\u001b[0m \u001b[39mreturn\u001b[39;00m \u001b[39mself\u001b[39;49m\u001b[39m.\u001b[39;49m_write_op(\u001b[39mself\u001b[39;49m\u001b[39m.\u001b[39;49m_create_dataset_nosync, name, \u001b[39m*\u001b[39;49m\u001b[39m*\u001b[39;49mkwargs)\n",
      "File \u001b[0;32m/opt/conda/lib/python3.12/site-packages/zarr/hierarchy.py:952\u001b[0m, in \u001b[0;36mGroup._write_op\u001b[0;34m(self, f, *args, **kwargs)\u001b[0m\n\u001b[1;32m    949\u001b[0m     lock \u001b[39m=\u001b[39m \u001b[39mself\u001b[39m\u001b[39m.\u001b[39m_synchronizer[group_meta_key]\n\u001b[1;32m    951\u001b[0m \u001b[39mwith\u001b[39;00m lock:\n\u001b[0;32m--> 952\u001b[0m     \u001b[39mreturn\u001b[39;00m f(\u001b[39m*\u001b[39;49margs, \u001b[39m*\u001b[39;49m\u001b[39m*\u001b[39;49mkwargs)\n",
      "File \u001b[0;32m/opt/conda/lib/python3.12/site-packages/zarr/hierarchy.py:1126\u001b[0m, in \u001b[0;36mGroup._create_dataset_nosync\u001b[0;34m(self, name, data, **kwargs)\u001b[0m\n\u001b[1;32m   1123\u001b[0m     a \u001b[39m=\u001b[39m create(store\u001b[39m=\u001b[39m\u001b[39mself\u001b[39m\u001b[39m.\u001b[39m_store, path\u001b[39m=\u001b[39mpath, chunk_store\u001b[39m=\u001b[39m\u001b[39mself\u001b[39m\u001b[39m.\u001b[39m_chunk_store, \u001b[39m*\u001b[39m\u001b[39m*\u001b[39mkwargs)\n\u001b[1;32m   1125\u001b[0m \u001b[39melse\u001b[39;00m:\n\u001b[0;32m-> 1126\u001b[0m     a \u001b[39m=\u001b[39m array(data, store\u001b[39m=\u001b[39;49m\u001b[39mself\u001b[39;49m\u001b[39m.\u001b[39;49m_store, path\u001b[39m=\u001b[39;49mpath, chunk_store\u001b[39m=\u001b[39;49m\u001b[39mself\u001b[39;49m\u001b[39m.\u001b[39;49m_chunk_store, \u001b[39m*\u001b[39;49m\u001b[39m*\u001b[39;49mkwargs)\n\u001b[1;32m   1128\u001b[0m \u001b[39mreturn\u001b[39;00m a\n",
      "File \u001b[0;32m/opt/conda/lib/python3.12/site-packages/zarr/creation.py:444\u001b[0m, in \u001b[0;36marray\u001b[0;34m(data, **kwargs)\u001b[0m\n\u001b[1;32m    441\u001b[0m z \u001b[39m=\u001b[39m create(\u001b[39m*\u001b[39m\u001b[39m*\u001b[39mkwargs)\n\u001b[1;32m    443\u001b[0m \u001b[39m# fill with data\u001b[39;00m\n\u001b[0;32m--> 444\u001b[0m z[\u001b[39m.\u001b[39;49m\u001b[39m.\u001b[39;49m\u001b[39m.\u001b[39;49m] \u001b[39m=\u001b[39m data\n\u001b[1;32m    446\u001b[0m \u001b[39m# set read_only property afterwards\u001b[39;00m\n\u001b[1;32m    447\u001b[0m z\u001b[39m.\u001b[39mread_only \u001b[39m=\u001b[39m read_only\n",
      "File \u001b[0;32m/opt/conda/lib/python3.12/site-packages/zarr/core.py:1450\u001b[0m, in \u001b[0;36mArray.__setitem__\u001b[0;34m(self, selection, value)\u001b[0m\n\u001b[1;32m   1448\u001b[0m     \u001b[39mself\u001b[39m\u001b[39m.\u001b[39mset_orthogonal_selection(pure_selection, value, fields\u001b[39m=\u001b[39mfields)\n\u001b[1;32m   1449\u001b[0m \u001b[39melse\u001b[39;00m:\n\u001b[0;32m-> 1450\u001b[0m     \u001b[39mself\u001b[39;49m\u001b[39m.\u001b[39;49mset_basic_selection(pure_selection, value, fields\u001b[39m=\u001b[39;49mfields)\n",
      "File \u001b[0;32m/opt/conda/lib/python3.12/site-packages/zarr/core.py:1546\u001b[0m, in \u001b[0;36mArray.set_basic_selection\u001b[0;34m(self, selection, value, fields)\u001b[0m\n\u001b[1;32m   1544\u001b[0m     \u001b[39mreturn\u001b[39;00m \u001b[39mself\u001b[39m\u001b[39m.\u001b[39m_set_basic_selection_zd(selection, value, fields\u001b[39m=\u001b[39mfields)\n\u001b[1;32m   1545\u001b[0m \u001b[39melse\u001b[39;00m:\n\u001b[0;32m-> 1546\u001b[0m     \u001b[39mreturn\u001b[39;00m \u001b[39mself\u001b[39;49m\u001b[39m.\u001b[39;49m_set_basic_selection_nd(selection, value, fields\u001b[39m=\u001b[39;49mfields)\n",
      "File \u001b[0;32m/opt/conda/lib/python3.12/site-packages/zarr/core.py:1936\u001b[0m, in \u001b[0;36mArray._set_basic_selection_nd\u001b[0;34m(self, selection, value, fields)\u001b[0m\n\u001b[1;32m   1930\u001b[0m \u001b[39mdef\u001b[39;00m\u001b[39m \u001b[39m\u001b[39m_set_basic_selection_nd\u001b[39m(\u001b[39mself\u001b[39m, selection, value, fields\u001b[39m=\u001b[39m\u001b[39mNone\u001b[39;00m):\n\u001b[1;32m   1931\u001b[0m     \u001b[39m# implementation of __setitem__ for array with at least one dimension\u001b[39;00m\n\u001b[1;32m   1932\u001b[0m \n\u001b[1;32m   1933\u001b[0m     \u001b[39m# setup indexer\u001b[39;00m\n\u001b[1;32m   1934\u001b[0m     indexer \u001b[39m=\u001b[39m BasicIndexer(selection, \u001b[39mself\u001b[39m)\n\u001b[0;32m-> 1936\u001b[0m     \u001b[39mself\u001b[39;49m\u001b[39m.\u001b[39;49m_set_selection(indexer, value, fields\u001b[39m=\u001b[39;49mfields)\n",
      "File \u001b[0;32m/opt/conda/lib/python3.12/site-packages/zarr/core.py:1989\u001b[0m, in \u001b[0;36mArray._set_selection\u001b[0;34m(self, indexer, value, fields)\u001b[0m\n\u001b[1;32m   1986\u001b[0m                 chunk_value \u001b[39m=\u001b[39m chunk_value[item]\n\u001b[1;32m   1988\u001b[0m         \u001b[39m# put data\u001b[39;00m\n\u001b[0;32m-> 1989\u001b[0m         \u001b[39mself\u001b[39;49m\u001b[39m.\u001b[39;49m_chunk_setitem(chunk_coords, chunk_selection, chunk_value, fields\u001b[39m=\u001b[39;49mfields)\n\u001b[1;32m   1990\u001b[0m \u001b[39melse\u001b[39;00m:\n\u001b[1;32m   1991\u001b[0m     lchunk_coords, lchunk_selection, lout_selection \u001b[39m=\u001b[39m \u001b[39mzip\u001b[39m(\u001b[39m*\u001b[39mindexer)\n",
      "File \u001b[0;32m/opt/conda/lib/python3.12/site-packages/zarr/core.py:2262\u001b[0m, in \u001b[0;36mArray._chunk_setitem\u001b[0;34m(self, chunk_coords, chunk_selection, value, fields)\u001b[0m\n\u001b[1;32m   2259\u001b[0m     lock \u001b[39m=\u001b[39m \u001b[39mself\u001b[39m\u001b[39m.\u001b[39m_synchronizer[ckey]\n\u001b[1;32m   2261\u001b[0m \u001b[39mwith\u001b[39;00m lock:\n\u001b[0;32m-> 2262\u001b[0m     \u001b[39mself\u001b[39;49m\u001b[39m.\u001b[39;49m_chunk_setitem_nosync(chunk_coords, chunk_selection, value, fields\u001b[39m=\u001b[39;49mfields)\n",
      "File \u001b[0;32m/opt/conda/lib/python3.12/site-packages/zarr/core.py:2272\u001b[0m, in \u001b[0;36mArray._chunk_setitem_nosync\u001b[0;34m(self, chunk_coords, chunk_selection, value, fields)\u001b[0m\n\u001b[1;32m   2270\u001b[0m     \u001b[39mself\u001b[39m\u001b[39m.\u001b[39m_chunk_delitem(ckey)\n\u001b[1;32m   2271\u001b[0m \u001b[39melse\u001b[39;00m:\n\u001b[0;32m-> 2272\u001b[0m     \u001b[39mself\u001b[39;49m\u001b[39m.\u001b[39;49mchunk_store[ckey] \u001b[39m=\u001b[39m \u001b[39mself\u001b[39m\u001b[39m.\u001b[39m_encode_chunk(cdata)\n",
      "File \u001b[0;32m/opt/conda/lib/python3.12/site-packages/zarr/storage.py:1151\u001b[0m, in \u001b[0;36mDirectoryStore.__setitem__\u001b[0;34m(self, key, value)\u001b[0m\n\u001b[1;32m   1149\u001b[0m temp_path \u001b[39m=\u001b[39m os\u001b[39m.\u001b[39mpath\u001b[39m.\u001b[39mjoin(dir_path, temp_name)\n\u001b[1;32m   1150\u001b[0m \u001b[39mtry\u001b[39;00m:\n\u001b[0;32m-> 1151\u001b[0m     \u001b[39mself\u001b[39;49m\u001b[39m.\u001b[39;49m_tofile(value, temp_path)\n\u001b[1;32m   1153\u001b[0m     \u001b[39m# move temporary file into place;\u001b[39;00m\n\u001b[1;32m   1154\u001b[0m     \u001b[39m# make several attempts at writing the temporary file to get past\u001b[39;00m\n\u001b[1;32m   1155\u001b[0m     \u001b[39m# potential antivirus file locking issues\u001b[39;00m\n\u001b[1;32m   1156\u001b[0m     retry_call(os\u001b[39m.\u001b[39mreplace, (temp_path, file_path), exceptions\u001b[39m=\u001b[39m(\u001b[39mPermissionError\u001b[39;00m,))\n",
      "File \u001b[0;32m/opt/conda/lib/python3.12/site-packages/zarr/storage.py:1111\u001b[0m, in \u001b[0;36mDirectoryStore._tofile\u001b[0;34m(a, fn)\u001b[0m\n\u001b[1;32m   1095\u001b[0m \u001b[39m@staticmethod\u001b[39m\n\u001b[1;32m   1096\u001b[0m \u001b[39mdef\u001b[39;00m\u001b[39m \u001b[39m\u001b[39m_tofile\u001b[39m(a, fn):\n\u001b[1;32m   1097\u001b[0m \u001b[39m    \u001b[39m\u001b[39m\"\"\"Write data to a file\u001b[39;00m\n\u001b[1;32m   1098\u001b[0m \n\u001b[1;32m   1099\u001b[0m \u001b[39m    Parameters\u001b[39;00m\n\u001b[0;32m   (...)\u001b[0m\n\u001b[1;32m   1109\u001b[0m \u001b[39m    file writing logic.\u001b[39;00m\n\u001b[1;32m   1110\u001b[0m \u001b[39m    \"\"\"\u001b[39;00m\n\u001b[0;32m-> 1111\u001b[0m     \u001b[39mwith\u001b[39;00m \u001b[39mopen\u001b[39;49m(fn, mode\u001b[39m=\u001b[39;49m\u001b[39m\"\u001b[39;49m\u001b[39mwb\u001b[39;49m\u001b[39m\"\u001b[39;49m) \u001b[39mas\u001b[39;00m f:\n\u001b[1;32m   1112\u001b[0m         f\u001b[39m.\u001b[39mwrite(a)\n",
      "\u001b[0;31mOSError\u001b[0m: [Errno 122] Disk quota exceeded: '/project/home/p200469/get_BIO1018/pbmc10k_multiome.zarr/expression_positive/cd16_mono/23.77ce7a97503e4ffe831b832ab4d2774f.partial'"
     ]
    }
   ],
   "source": [
    "# Loop through each cell type in the list 'celltype_for_modeling'\n",
    "for cell_type in celltype_for_modeling:\n",
    "    add_exp(\n",
    "        \"pbmc10k_multiome.zarr\",\n",
    "        f\"{cell_type}.rna.csv\",\n",
    "        f\"{cell_type}.atac.bed\",\n",
    "        cell_type,\n",
    "        assembly=\"hg38\",\n",
    "        version=44,\n",
    "        extend_bp=300, # extend TSS region to 300bp upstream and downstream when overlapping with peaks\n",
    "    id_or_name=\"gene_name\", # use gene_name or gene_id to match the gene expression data, checkout your rna.csv file column names, should be either [gene_name, TPM] or [gene_id, TPM]\n",
    ")"
   ]
  },
  {
   "cell_type": "markdown",
   "metadata": {},
   "source": [
    "### Clean up Intermediate Files"
   ]
  },
  {
   "cell_type": "code",
   "execution_count": null,
   "metadata": {},
   "outputs": [],
   "source": [
    "for file in [peaks_motif, get_motif_output]:\n",
    "    os.remove(file)"
   ]
  },
  {
   "cell_type": "markdown",
   "metadata": {},
   "source": [
    "### FuXi Note:"
   ]
  },
  {
   "cell_type": "markdown",
   "metadata": {},
   "source": [
    "This has conclude the data processing steps."
   ]
  }
 ],
 "metadata": {
  "kernelspec": {
   "display_name": "Python 3 (ipykernel)",
   "language": "python",
   "name": "python3"
  },
  "orig_nbformat": 4
 },
 "nbformat": 4,
 "nbformat_minor": 2
}
