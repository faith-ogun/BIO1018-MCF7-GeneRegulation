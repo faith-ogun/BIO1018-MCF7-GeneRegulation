{
 "cells": [
  {
   "cell_type": "markdown",
   "metadata": {},
   "source": [
    "### Quick Docker Commands/Set-Up:\n",
    "\n",
    "docker build -t \"name\" -f \"Dockerfile.txt\" .\n",
    "\n",
    "docker build -t \"get_complete\" -f \"Dockerfile.txt\" .  \n",
    "\n",
    "On local machine:\n",
    "\n",
    "---\n",
    "```bash\n",
    "docker run --entrypoint /bin/bash -it -v /Users/faith/Desktop/Coding:/home/xf2217 get_complete``\n",
    "\n",
    "docker run -it -p 8888:8888 -v /Users/faith/Desktop/Coding:/home/xf2217  get_complete  jupyter notebook --allow-root --ip 0.0.0.0 --no-browser --NotebookApp.token='' --NotebookApp.password='' --notebook-dir=/home/xf2217\n",
    "```\n",
    "\n",
    "---\n",
    "  \n",
    "With Meluxina:\n",
    "### *Solution:*\n",
    "\n",
    "```bash\n",
    "module load Python/3.11.3-GCCcore-12.3.0 \n",
    "\n",
    "#If a package doesn't work.\n",
    "rm -rf /home/users/u102501/.local/lib/python3.12/site-packages/urllib3*\n",
    "python -m pip install --upgrade --force-reinstall urllib3\n",
    "python -c \"import urllib3; print(urllib3.__version__)\"\n",
    "```\n",
    "\n",
    "```bash\n",
    "module load Apptainer/1.3.1-GCCcore-12.3.0 \n",
    "\n",
    "apptainer exec --bind /project/home/p200469/get_BIO1018 get_complete_latest.sif python -m jupyter lab --no-browser --ip \"*\" --NotebookApp.token='' --NotebookApp.password='' --notebook-dir /project/home/p200469/get_BIO1018 --port 8888\n",
    "```\n",
    "\n",
    "Split terminal screen:\n",
    "\n",
    "In local machine:\n",
    "\n",
    "`ssh -L 8888:localhost:8888 u102501@login.lxp.lu -p 8822 -i ~/.ssh/id_ed25519_mlux`\n",
    "\n",
    "Enter passphrase,\n",
    "\n",
    "Then,\n",
    "\n",
    "`ssh -L 8888:localhost:8888 <mel0000>`  swap <> for your node."
   ]
  },
  {
   "cell_type": "markdown",
   "metadata": {},
   "source": [
    "---"
   ]
  },
  {
   "cell_type": "markdown",
   "metadata": {},
   "source": [
    "### Creating peak_counts.txt File\n",
    "\n",
    "Retrieve bam and bed files.\n",
    "\n",
    "\n",
    "```bash\n",
    "gunzip -c <bed_file> > <bed_file - gz>\n",
    "samtools index <bam file>\n",
    "bedtools multicov -bams <bam file> -bed <bed_file> > peak_counts.txt\n",
    "```\n",
    "\n",
    "> For RNA retrieve the gene_quantifications.tsv file and continue below."
   ]
  },
  {
   "cell_type": "markdown",
   "metadata": {},
   "source": [
    "### Download the necessary files\n",
    "\n",
    "__Adapting for MCF7__ \n",
    "\n",
    "Galaxy:\n",
    "https://usegalaxy.eu/datasets/4838ba20a6d86765d1685afe6504d674/preview\n",
    "#Use galaxy to visualize downloaded datasets in a UI friendly environment.\n",
    "\n",
    "<br>\n",
    "ENCODE View:\n",
    "\n",
    "https://www.encodeproject.org/search/?searchTerm=mcf7&type=Dataset  \n",
    "#Overall MCF7 sample datasets  \n",
    "\n",
    "https://www.encodeproject.org/reference-epigenomes/ENCSR247DVY/  \n",
    "#MCF7 Reference - containing multiple bioassays.  \n",
    "\n",
    "https://www.encodeproject.org/annotations/ENCSR074VNQ/  \n",
    "#MCF7 cCRE annotation file - checked on Galaxy and is same format to one used in  tutorial.\n",
    "\n",
    "<br>\n",
    "Use rsync to transport directory of files to remote server, \n",
    "<br>  \n",
    "<font color=\"purple\"> Example: </font>\n",
    "<br>\n",
    "rsync MCF7_IDR_thresholded_peaks.bed meluxina:/project/home/p200469/get_BIO1018/\n",
    "<br>\n",
    "rsync peak_counts.txt meluxina:/project/home/p200469/get_BIO1018/  \n",
    "\n",
    "<br>\n",
    "<br>  \n",
    "or,  \n",
    "\n",
    "<br>\n",
    "\n",
    "curl directly from the terminal:  \n",
    "curl -o MCF7_IDR_thresholded_peaks.bed.gz https://www.encodeproject.org/files/ENCFF882OVP/@@download/ENCFF882OVP.bed.gz  \n",
    "curl -o cCRE_hg38.bed.gz https://www.encodeproject.org/files/ENCFF377XIH/@@download/ENCFF377XIH.bed.gz  \n",
    "\n",
    "<br>\n",
    "-O: Saves the file with its original name.  \n",
    "<br>\n",
    "-o: Allows you to specify a custom name for the downloaded file.\n",
    "\n",
    "<br>\n",
    "<br>\n",
    "\n",
    "<font color=\"red\"> Error:</font>\n",
    "using curl causes the file to download as a HTML file rather than a real, valid gzip file.  \n",
    "\n",
    "<font color='green'> Solution:</font> \n",
    "<br>\n",
    "Use wget instead:  \n",
    "wget https://www.encodeproject.org/files/ENCFF377XIH/@@download/ENCFF377XIH.bed.gz  \n",
    "wget https://www.encodeproject.org/files/ENCFF882OVP/@@download/ENCFF882OVP.bed.gz - IDR Threshold Peaks  \n",
    "wget https://www.encodeproject.org/files/ENCFF607OSL/@@download/ENCFF607OSL.bam - ATAC-Seq BAM File  \n",
    "  \n",
    "\n",
    "> Just an example, explore other files to increase size and power of data."
   ]
  },
  {
   "cell_type": "markdown",
   "metadata": {},
   "source": [
    "## Start of Code:"
   ]
  },
  {
   "cell_type": "code",
   "execution_count": 1,
   "metadata": {},
   "outputs": [
    {
     "name": "stdout",
     "output_type": "stream",
     "text": [
      "gcell currently using annotation directory: /home/users/u102501/.gcell_data/annotations\n"
     ]
    }
   ],
   "source": [
    "#%%\n",
    "from pathlib import Path\n",
    "\n",
    "import numpy as np\n",
    "import snapatac2 as snap\n",
    "from gcell._settings import get_setting\n",
    "\n",
    "annotation_dir = get_setting('annotation_dir')\n",
    "print(\"gcell currently using annotation directory:\", annotation_dir)"
   ]
  },
  {
   "cell_type": "code",
   "execution_count": 2,
   "metadata": {},
   "outputs": [
    {
     "data": {
      "text/html": [
       "<div>\n",
       "<style scoped>\n",
       "    .dataframe tbody tr th:only-of-type {\n",
       "        vertical-align: middle;\n",
       "    }\n",
       "\n",
       "    .dataframe tbody tr th {\n",
       "        vertical-align: top;\n",
       "    }\n",
       "\n",
       "    .dataframe thead th {\n",
       "        text-align: right;\n",
       "    }\n",
       "</style>\n",
       "<table border=\"1\" class=\"dataframe\">\n",
       "  <thead>\n",
       "    <tr style=\"text-align: right;\">\n",
       "      <th></th>\n",
       "      <th>Chromosome</th>\n",
       "      <th>Start</th>\n",
       "      <th>End</th>\n",
       "    </tr>\n",
       "  </thead>\n",
       "  <tbody>\n",
       "    <tr>\n",
       "      <th>0</th>\n",
       "      <td>chr1</td>\n",
       "      <td>104896</td>\n",
       "      <td>105048</td>\n",
       "    </tr>\n",
       "    <tr>\n",
       "      <th>1</th>\n",
       "      <td>chr1</td>\n",
       "      <td>138866</td>\n",
       "      <td>139134</td>\n",
       "    </tr>\n",
       "    <tr>\n",
       "      <th>2</th>\n",
       "      <td>chr1</td>\n",
       "      <td>180743</td>\n",
       "      <td>180904</td>\n",
       "    </tr>\n",
       "    <tr>\n",
       "      <th>3</th>\n",
       "      <td>chr1</td>\n",
       "      <td>181014</td>\n",
       "      <td>181237</td>\n",
       "    </tr>\n",
       "    <tr>\n",
       "      <th>4</th>\n",
       "      <td>chr1</td>\n",
       "      <td>181289</td>\n",
       "      <td>181639</td>\n",
       "    </tr>\n",
       "    <tr>\n",
       "      <th>5</th>\n",
       "      <td>chr1</td>\n",
       "      <td>267925</td>\n",
       "      <td>268171</td>\n",
       "    </tr>\n",
       "    <tr>\n",
       "      <th>6</th>\n",
       "      <td>chr1</td>\n",
       "      <td>271226</td>\n",
       "      <td>271468</td>\n",
       "    </tr>\n",
       "    <tr>\n",
       "      <th>7</th>\n",
       "      <td>chr1</td>\n",
       "      <td>274329</td>\n",
       "      <td>274481</td>\n",
       "    </tr>\n",
       "  </tbody>\n",
       "</table>\n",
       "</div>"
      ],
      "text/plain": [
       "+--------------+-----------+-----------+\n",
       "| Chromosome   |     Start |       End |\n",
       "| (category)   |   (int64) |   (int64) |\n",
       "|--------------+-----------+-----------|\n",
       "| chr1         |    104896 |    105048 |\n",
       "| chr1         |    138866 |    139134 |\n",
       "| chr1         |    180743 |    180904 |\n",
       "| chr1         |    181014 |    181237 |\n",
       "| chr1         |    181289 |    181639 |\n",
       "| chr1         |    267925 |    268171 |\n",
       "| chr1         |    271226 |    271468 |\n",
       "| chr1         |    274329 |    274481 |\n",
       "+--------------+-----------+-----------+\n",
       "Unstranded PyRanges object has 8 rows and 3 columns from 1 chromosomes.\n",
       "For printing, the PyRanges was sorted on Chromosome."
      ]
     },
     "execution_count": 2,
     "metadata": {},
     "output_type": "execute_result"
    }
   ],
   "source": [
    "#cCRE\n",
    "\n",
    "import pandas as pd\n",
    "from pyranges import PyRanges as pr\n",
    "\n",
    "cols = [\"Chromosome\", \"Start\", \"End\", \"Name\", \"Score\", \"Strand\", \"SignalValue\", \"PValue\", \"QValue\", \"SummitOffset\", \"Color\", \"DNase\", \"Classification\"] \n",
    "#Columns variable to change name\n",
    "\n",
    "#Here I've created a variable called cre which is an object related to the \"cCRE_hg38.tsv.gz\" file and stands for candidate cis-regulatory elements.\n",
    "cre = pd.read_csv('cCRE_hg38.bed.gz', sep='\\t', header=None, names=cols)\n",
    "#Pandas which as an open-source Python library used for data manipulation and analysis. It's similar to dplyr on R. It can read and write Excel files\n",
    "# So cre is the csv file that was downloaded and is read by the \"pandas\" tool which we made an alias to refer to is as \"pd\". Similar to R, the separator is noted.\n",
    "\n",
    "cre = cre[[\"Chromosome\", \"Start\", \"End\"]]\n",
    "\n",
    "cre = pr(cre, int64=True).sort()\n",
    "#This line converts the cre DataFrame into a PyRanges object with 64-bit integer precision (int64=True).\n",
    "#Then sorts the genomic intervals in the object by their position (first by Chromosome and then by Start position).\n",
    "\n",
    "cre.head()\n",
    "#To view the first few lines of the file."
   ]
  },
  {
   "cell_type": "markdown",
   "metadata": {},
   "source": [
    "### Candidate Cis-Regulatory Elements\n",
    "Candidate cis-regulatory elements are genomic regions identified as having potential regulatory functions, such as enhancers or promoters, that control gene expression. The file being referenced (cCRE_hg38.tsv.gz) likely contains information about these elements for the human genome (hg38 build).\n",
    "\n",
    "__What Has Been Done so Far?__\n",
    "1. Read in a cCRE file. (It's in a compressed from and separated by tabs) \n",
    "2. Renamed the columns and selected only the first three.\n",
    "3. Converted the Pandas Dataframe to a Pranges object that is commonly used for genomic data and workflows (e.g., finding overlaps, merging regions). \n",
    "4. Then sorted the Pyranges object by Chromosome and then Start position.\n",
    "5. Viewed first few lines to ensure all looks good."
   ]
  },
  {
   "cell_type": "markdown",
   "metadata": {},
   "source": [
    "__Adapting for MCF7__\n",
    "The pbmc HDF5 dataset contains both gene expression and peak data in the one file.\n",
    "For the initial stage of my project I will only be incoporating ATAC-Seq data from ENCODE using IDR thresholded peaks (.bed). Thus, some adaptations need to be made to the code."
   ]
  },
  {
   "cell_type": "code",
   "execution_count": 3,
   "metadata": {},
   "outputs": [
    {
     "name": "stdout",
     "output_type": "stream",
     "text": [
      "(69066, 4)\n",
      "+--------------+-----------+-----------+-----------+\n",
      "| Chromosome   |     Start |       End |    Counts |\n",
      "| (category)   |   (int64) |   (int64) |   (int64) |\n",
      "|--------------+-----------+-----------+-----------|\n",
      "| chr1         |    196463 |    196690 |        33 |\n",
      "| chr1         |    778344 |    779188 |       799 |\n",
      "| chr1         |    804610 |    805040 |        50 |\n",
      "| chr1         |    826678 |    828112 |      1099 |\n",
      "| chr1         |    845315 |    846495 |       203 |\n",
      "| chr1         |    850421 |    850659 |        47 |\n",
      "| chr1         |    869598 |    870274 |       132 |\n",
      "| chr1         |    904039 |    904955 |       640 |\n",
      "+--------------+-----------+-----------+-----------+\n",
      "Unstranded PyRanges object has 8 rows and 4 columns from 1 chromosomes.\n",
      "For printing, the PyRanges was sorted on Chromosome.\n"
     ]
    }
   ],
   "source": [
    "cols2 = [\"Chromosome\", \"Start\", \"End\", \"Name\", \"Score\", \"Strand\", \"SignalValue\", \"PValue\", \"QValue\", \"SummitOffset\", \"Counts\"]\n",
    "#Columns variable to change name\n",
    "\n",
    "#peaks = pd.read_csv(\"MCF7_IDR_thresholded_peaks.bed\", sep=\"\\t\", header=None, names=cols2)\n",
    "peaks = pd.read_csv(\"peak_counts_2.txt\", sep=\"\\t\", header=None, names=cols2)\n",
    "#Reading in with Pandas and using cols vector to change column names.\n",
    "\n",
    "peaks = peaks[[\"Chromosome\", \"Start\", \"End\", \"Counts\"]]\n",
    "#Selecting only the first four columns\n",
    "\n",
    "# Convert Start and End to integers\n",
    "#peaks[\"Start\"] = peaks[\"Start\"].astype(int)\n",
    "#peaks[\"End\"] = peaks[\"End\"].astype(int)\n",
    "#I don't think these lines are necessary as it isn't an AnnData object like the tutorial data.\n",
    "\n",
    "peaks = peaks.drop_duplicates()\n",
    "\n",
    "peaks = pr(peaks, int64=True).sort()\n",
    "# Returns the shape (number of rows and columns) of the PyRanges DataFrame\n",
    "\n",
    "# Display the first few rows\n",
    "# peaks.head()\n",
    "\n",
    "print(peaks.df.shape)\n",
    "print(peaks.head())\n",
    "#Display number of rows and columns\n",
    "\n",
    "#This code processes genomic peak data, converting it into a more usable format for analysis.\n"
   ]
  },
  {
   "cell_type": "markdown",
   "metadata": {},
   "source": [
    "### FuXi Note:\n",
    "For optimal zero-shot analysis, it is recommended to use a union set of peaks from both the new dataset and the original training peak sets *(i.e. the cre peaks defined above)* to minimize domain shift. However, in this tutorial we will simply perform finetuning using the new peak set from the 10x PBMC multiome data. The union peak set can be constructed as below. \n",
    "\n",
    "After that you should re-count the peak count matrix using fragment file, and when write out cell-type specific peaks, ideally remove all non-accessible peaks in each cell types.\n",
    "\n",
    "---\n",
    "\n",
    "The BAM file for the MCF7_IDR_thresholded_peaks.bed file should be used to recount the peaks after unionization. For now I will also use the peaks variable alone and come back once all the code is written and passes through."
   ]
  },
  {
   "cell_type": "code",
   "execution_count": 4,
   "metadata": {},
   "outputs": [
    {
     "data": {
      "text/plain": [
       "(1067840, 4)"
      ]
     },
     "execution_count": 4,
     "metadata": {},
     "output_type": "execute_result"
    }
   ],
   "source": [
    "#peak / cre + cre \n",
    "#find all peaks that don't overlap with cre; -> non_overlap_peaks\n",
    "\n",
    "non_overlap_peaks = peaks.overlap(cre, invert=True)\n",
    "#invert=True: Ensures that only peaks (from MCF7 file) outside the cre regions are kept. i.e. keeping MCF7 peaks that don't overlap with cre.\n",
    "\n",
    "#concat with cre and sort\n",
    "total_peaks = pd.concat([non_overlap_peaks.df, cre.df], ignore_index=True)\n",
    "#The ignore_index=True parameter in the pd.concat() function tells pandas to re-index the resulting DataFrame after concatenation. \n",
    "#Without it, pandas would retain the original indices from the two DataFrames being concatenated, which could result in duplicated indices if the DataFrames have overlapping index values.\n",
    "#So now this total_peaks variable contains the peaks in MCF7 dataset that don't overlap with cre, and cre. So it is a unique dataset.\n",
    "\n",
    "total_peaks = pr(total_peaks, int64=True).sort()\n",
    "\n",
    "#remove chromosome M, Y and those not start with chr\n",
    "total_peaks = total_peaks.df.query('Chromosome.str.startswith(\"chr\") & ~Chromosome.str.endswith(\"M\") & ~Chromosome.str.endswith(\"Y\") & ~Chromosome.str.startswith(\"chrUn\")')\n",
    "total_peaks.shape"
   ]
  },
  {
   "cell_type": "markdown",
   "metadata": {},
   "source": [
    "### What is the Purpose of This?\n",
    "\n",
    "In this code, cre represents candidate cis-regulatory elements (genomic regions with potential regulatory roles), while peaks represents regions of open chromatin from the experimental data, inferred from ATAC-seq or other assays.\n",
    "\n",
    "The overlapping is done to identify non-overlapping peaks using:\n",
    "\n",
    "This step filters peaks that do not overlap with the cCRE regions. The purpose is to isolate peaks not previously annotated as regulatory elements, which may contain novel or unique regions worth further analysis.\n",
    "\n",
    "So now this total_peaks (or union set) variable contains the peaks in MCF7 dataset that don't overlap with cre, and cre. So it is a unique dataset."
   ]
  },
  {
   "cell_type": "markdown",
   "metadata": {},
   "source": [
    "### FuXi Note:\n",
    "For convenience, we will keep using the peak set called by cellranger here. Note that there is a difference in peak length distribution. However, in general there are no peaks > 1000 bp; and most peaks have a length in order of 10^3 so let's keep using this one. Note that the original training CRE peak set has a unified length of 400 bp.\n",
    "\n",
    "---\n",
    "\n",
    "__Adapting for MCF7__\n",
    "So to adapt this for eventual fine tuning with MCF7, I will use the union set (total_peaks)"
   ]
  },
  {
   "cell_type": "code",
   "execution_count": 5,
   "metadata": {},
   "outputs": [
    {
     "data": {
      "image/png": "[encoded data removed]",
      "text/plain": [
       "<Figure size 1200x400 with 2 Axes>"
      ]
     },
     "metadata": {},
     "output_type": "display_data"
    }
   ],
   "source": [
    "import matplotlib.pyplot as plt\n",
    "import seaborn as sns\n",
    "\n",
    "fig, (ax1, ax2) = plt.subplots(1, 2, figsize=(12, 4))\n",
    "#plt.subplots(1, 2, figsize=(12, 4)): This creates a figure with two subplots arranged horizontally (1 row, 2 columns).\n",
    "#The figsize=(12, 4) argument specifies the dimensions of the overall figure in inches (width = 12 inches, height = 4 inches).\n",
    "#ax1, ax2: These are the axes for the left and right subplots, respectively. \n",
    "\n",
    "#sns.histplot(total_peaks.End-total_peaks.Start, ax=ax1)\n",
    "#Zero-shot analysis, (after pass-through)\n",
    "\n",
    "sns.histplot(peaks.End-peaks.Start, ax=ax1)\n",
    "#sns.histplot(peaks.End-peaks.Start, ax=ax1): This plots a histogram of the length of each peak in the peaks DataFrame. \n",
    "#The length is calculated by subtracting the Start coordinate from the End coordinate (peaks.End - peaks.Start), which gives the length of each peak region.\n",
    "#The ax=ax1 argument tells Seaborn to plot this histogram on the left subplot (ax1).\n",
    "\n",
    "ax1.set_title('MCF7 Peaks Length Distribution')\n",
    "\n",
    "sns.histplot(cre.End-cre.Start, ax=ax2)  \n",
    "#sns.histplot(cre.End-cre.Start, ax=ax2): This plots a histogram of the length of each candidate cis-regulatory element (CRE) in the cre DataFrame.\n",
    "#Similarly, the length is calculated by subtracting the Start coordinate from the End coordinate (cre.End - cre.Start).\n",
    "#The ax=ax2 argument tells Seaborn to plot this histogram on the right subplot (ax2).\n",
    "\n",
    "ax2.set_title('Training CRE Length Distribution')\n",
    "\n",
    "plt.tight_layout()"
   ]
  },
  {
   "cell_type": "markdown",
   "metadata": {},
   "source": [
    "## Chromosome Assignment\n",
    "I won' be using RNA-Seq data, so the only thing I need to be focused on is getting the:\n",
    "Peak accessibility file (.atac.bed) containing:  \n",
    "Peak coordinates (chr, start, end)  \n",
    "Normalized accessibility scores (aCPM, 10^5 scale factor) \n",
    "\n",
    "Then exporting that into zarr for the next steps. A lot of alteration will be necessary."
   ]
  },
  {
   "cell_type": "markdown",
   "metadata": {},
   "source": [
    "### FuXi Note:\n",
    "We filter for cell types with >100 cells and at least 3M library size.\n",
    "The selected cell types will be used for training GET models.\n",
    "\n",
    "_Adapt for chromosomes_"
   ]
  },
  {
   "cell_type": "code",
   "execution_count": 6,
   "metadata": {},
   "outputs": [
    {
     "name": "stdout",
     "output_type": "stream",
     "text": [
      "The following chromosomes have more than 100 peaks and a total read count > 3M, adding them to chromosomes_for_modeling:\n",
      "chr1 number of peaks: 6408, library size: 2899256\n",
      "chr10 number of peaks: 3242, library size: 1243299\n",
      "chr11 number of peaks: 3169, library size: 1453403\n",
      "chr12 number of peaks: 3339, library size: 1487837\n",
      "chr14 number of peaks: 2655, library size: 1316420\n",
      "chr15 number of peaks: 2696, library size: 1267117\n",
      "chr16 number of peaks: 2771, library size: 1517980\n",
      "chr17 number of peaks: 3577, library size: 2497783\n",
      "chr19 number of peaks: 2665, library size: 1652126\n",
      "chr2 number of peaks: 5461, library size: 2100872\n",
      "chr20 number of peaks: 2702, library size: 1905479\n",
      "chr3 number of peaks: 4415, library size: 1759621\n",
      "chr5 number of peaks: 3711, library size: 1555159\n",
      "chr6 number of peaks: 3847, library size: 1473646\n",
      "chr7 number of peaks: 3666, library size: 1690212\n",
      "chr8 number of peaks: 3136, library size: 1516940\n",
      "chr9 number of peaks: 2913, library size: 1280299\n"
     ]
    }
   ],
   "source": [
    "#Adapted:\n",
    "# Convert PyRanges object to Pandas DataFrame\n",
    "peaks_df = peaks.df  # Extract the Pandas DataFrame\n",
    "\n",
    "# Count the number of peaks per chromosome\n",
    "chromosome_peak_counts = peaks_df.groupby('Chromosome', observed=False).size().to_dict()\n",
    "\n",
    "# Print message\n",
    "print(\"The following chromosomes have more than 100 peaks and a total read count > 3M, adding them to chromosomes_for_modeling:\")\n",
    "\n",
    "# Initialize list to store chromosomes meeting criteria\n",
    "chromosomes_for_modeling = []\n",
    "\n",
    "# Loop through each chromosome and its corresponding peak count\n",
    "for chrom in chromosome_peak_counts:\n",
    "    # If the chromosome has more than 100 peaks\n",
    "    if chromosome_peak_counts[chrom] > 100:\n",
    "        # Calculate \"library size\" (total Signal_Value for the chromosome)\n",
    "        libsize = int(peaks_df[peaks_df.Chromosome == chrom][\"Counts\"].sum())\n",
    "        \n",
    "        # If the library size is greater than 1M, add it to the list and print info\n",
    "        #Had to reduce to 1M for my dataset\n",
    "        if libsize > 1000000:\n",
    "            chromosomes_for_modeling.append(chrom)\n",
    "            print(f\"{chrom} number of peaks: {chromosome_peak_counts[chrom]}, library size: {libsize}\")\n"
   ]
  },
  {
   "cell_type": "markdown",
   "metadata": {},
   "source": [
    "## 2. Export Training Data\n",
    "\n",
    "### FuXi Note:\n",
    "For each abundant cell type, we'll generate:\n",
    "\n",
    "Peak accessibility file (.atac.bed) containing:  \n",
    "Peak coordinates (chr, start, end)  \n",
    "Normalized accessibility scores (aCPM, 10^5 scale factor)  \n",
    "\n",
    "_This will be done later_  \n",
    "Gene expression file (.rna.csv) containing:  \n",
    "Gene names  \n",
    "Normalized expression values (TPM, 10^6 scale factor)"
   ]
  },
  {
   "cell_type": "code",
   "execution_count": 7,
   "metadata": {},
   "outputs": [
    {
     "name": "stdout",
     "output_type": "stream",
     "text": [
      "(69066, 4)\n"
     ]
    }
   ],
   "source": [
    "# This should be the same as the peaks variable defined above.\n",
    "\n",
    "# Import pandas library for data manipulation and pyranges for genomic range operations\n",
    "import pandas as pd\n",
    "from pyranges import PyRanges as pr\n",
    "\n",
    "def get_peak_from_file(file_path: str):\n",
    "    \"\"\"\n",
    "    Reads a peak file and returns a PyRanges object with chromosome positions and read counts.\n",
    "\n",
    "    Args:\n",
    "        file_path (str): Path to the peak counts file.\n",
    "\n",
    "    Returns:\n",
    "        PyRanges: A PyRanges object with peak data including chromosome, start, end, and counts.\n",
    "    \"\"\"\n",
    "    # Define column names for the file\n",
    "    cols = [\"Chromosome\", \"Start\", \"End\", \"Name\", \"Score\", \"Strand\", \"SignalValue\", \"PValue\", \"QValue\", \"SummitOffset\", \"Counts\"]\n",
    "\n",
    "    # Read the file\n",
    "    peaks_df = pd.read_csv(file_path, sep=\"\\t\", header=None, names=cols)\n",
    "\n",
    "    # Ensure numeric columns are properly formatted\n",
    "    #peaks_df[\"Start\"] = peaks_df[\"Start\"].astype(int)\n",
    "    #peaks_df[\"End\"] = peaks_df[\"End\"].astype(int)\n",
    "    #Not necessary.\n",
    "\n",
    "    peaks_df = peaks_df[[\"Chromosome\", \"Start\", \"End\", \"Counts\"]]\n",
    "\n",
    "    peaks_df = peaks_df.drop_duplicates()\n",
    "\n",
    "    # Convert to PyRanges for efficient genomic operations\n",
    "    peaks = pr(peaks_df)\n",
    "\n",
    "    return peaks\n",
    "\n",
    "# Example usage\n",
    "peaks = get_peak_from_file(\"peak_counts_2.txt\")\n",
    "\n",
    "# Display the shape of the DataFrame\n",
    "print(peaks.df.shape)  # Output (rows, columns)"
   ]
  },
  {
   "cell_type": "code",
   "execution_count": 8,
   "metadata": {},
   "outputs": [
    {
     "name": "stdout",
     "output_type": "stream",
     "text": [
      "  Chromosome   Start     End  Counts      aCPM\n",
      "0       chr1  196463  196690      33  0.020576\n",
      "1       chr1  778344  779188     799  0.261196\n",
      "2       chr1  804610  805040      50  0.030428\n",
      "3       chr1  826678  828112    1099  0.310559\n",
      "4       chr1  845315  846495     203  0.102779\n"
     ]
    }
   ],
   "source": [
    "import numpy as np\n",
    "import pandas as pd\n",
    "from pyranges import PyRanges as pr\n",
    "\n",
    "def get_peak_acpm_for_chromosome(file_path: str):\n",
    "    \"\"\"\n",
    "    Calculate the aCPM (normalized counts) for each chromosome.\n",
    "\n",
    "    Args:\n",
    "        file_path (str): Path to the peak counts file.\n",
    "\n",
    "    Returns:\n",
    "        pd.DataFrame: DataFrame containing peaks with aCPM values.\n",
    "    \"\"\"\n",
    "    # Read the peak counts file\n",
    "    peaks = get_peak_from_file(file_path).df  # Using our previous function\n",
    "\n",
    "    # Get total counts per peak\n",
    "    counts = np.array(peaks[\"Counts\"]).flatten()\n",
    "\n",
    "    # Compute aCPM (adjusted counts per million) using log10 transformation\n",
    "    acpm = np.log10(counts / counts.sum() * 1e5 + 1)\n",
    "\n",
    "    # Normalize the aCPM values so that the maximum value is 1\n",
    "    peaks[\"aCPM\"] = acpm / acpm.max()\n",
    "\n",
    "    # Filter out unwanted chromosomes (e.g., Mitochondrial, Y, and 'chrUn' entries)\n",
    "    peaks = peaks.query('Chromosome.str.startswith(\"chr\") & ~Chromosome.str.endswith(\"M\") & ~Chromosome.str.endswith(\"Y\") & ~Chromosome.str.startswith(\"chrUn\")')\n",
    "\n",
    "    # Convert back to PyRanges for efficiency, then sort and return as a DataFrame\n",
    "    return pr(peaks, int64=True).sort().df\n",
    "\n",
    "# Example usage\n",
    "acpm_peaks = get_peak_acpm_for_chromosome(\"peak_counts_2.txt\")\n",
    "\n",
    "# Display first few rows\n",
    "print(acpm_peaks.head())"
   ]
  },
  {
   "cell_type": "markdown",
   "metadata": {},
   "source": [
    "### FuXi Note:\n",
    "Let's run the function above to save the peak with aCPM for all cell types (chromsomes for me). Note that here we use the common peak set for all cell types. Later in the dataset we will be able to filter out peaks with no accessibility for each cell type."
   ]
  },
  {
   "cell_type": "code",
   "execution_count": 9,
   "metadata": {},
   "outputs": [
    {
     "name": "stdout",
     "output_type": "stream",
     "text": [
      "✅ All chromosomes saved to all_chromosomes.atac.bed\n"
     ]
    },
    {
     "data": {
      "image/png": "[encoded data removed]",
      "text/plain": [
       "<Figure size 640x480 with 1 Axes>"
      ]
     },
     "metadata": {},
     "output_type": "display_data"
    }
   ],
   "source": [
    "import numpy as np\n",
    "import pandas as pd\n",
    "import matplotlib.pyplot as plt\n",
    "from pyranges import PyRanges as pr\n",
    "\n",
    "def save_acpm(file_path: str, output_file: str) -> pd.DataFrame:\n",
    "    \"\"\"\n",
    "    Computes and saves aCPM (adjusted counts per million) for all chromosomes into a single file.\n",
    "\n",
    "    Args:\n",
    "        file_path (str): Path to the peak counts file.\n",
    "        output_file (str): Path to save the final merged output.\n",
    "\n",
    "    Returns:\n",
    "        pd.DataFrame: Processed peaks DataFrame with 'Chromosome', 'Start', 'End', and 'aCPM'.\n",
    "    \"\"\"\n",
    "    # Compute aCPM for all peaks\n",
    "    peaks = get_peak_acpm_for_chromosome(file_path)\n",
    "\n",
    "    # Drop duplicate rows (if any)\n",
    "    peaks = peaks.drop_duplicates()\n",
    "\n",
    "    # Keep only relevant columns\n",
    "    peaks = peaks[[\"Chromosome\", \"Start\", \"End\", \"aCPM\"]]\n",
    "\n",
    "    # Ensure proper sorting\n",
    "    peaks = peaks.sort_values(by=[\"Chromosome\", \"Start\", \"End\"])\n",
    "\n",
    "    # ✅ Save everything to **one** merged file instead of per chromosome\n",
    "    peaks.to_csv(output_file, sep='\\t', index=False, header=False)\n",
    "\n",
    "    print(f\"✅ All chromosomes saved to {output_file}\")\n",
    "\n",
    "    return peaks  # Return the modified DataFrame\n",
    "\n",
    "# Run processing and save as a single file\n",
    "output_file = \"all_chromosomes.atac.bed\"\n",
    "processed_peaks = save_acpm(\"peak_counts_2.txt\", output_file)\n",
    "\n",
    "# ✅ Fix: Compute 'length' **BEFORE** plotting\n",
    "processed_peaks[\"length\"] = processed_peaks[\"End\"] - processed_peaks[\"Start\"]\n",
    "\n",
    "# ✅ Fix: Use `processed_peaks` for the plot\n",
    "processed_peaks.plot(y='length', x='aCPM', kind='scatter', s=1)\n",
    "\n",
    "# ✅ Ensure the plot actually displays\n",
    "plt.show()"
   ]
  },
  {
   "cell_type": "code",
   "execution_count": 11,
   "metadata": {},
   "outputs": [
    {
     "data": {
      "text/html": [
       "<div>\n",
       "<style scoped>\n",
       "    .dataframe tbody tr th:only-of-type {\n",
       "        vertical-align: middle;\n",
       "    }\n",
       "\n",
       "    .dataframe tbody tr th {\n",
       "        vertical-align: top;\n",
       "    }\n",
       "\n",
       "    .dataframe thead th {\n",
       "        text-align: right;\n",
       "    }\n",
       "</style>\n",
       "<table border=\"1\" class=\"dataframe\">\n",
       "  <thead>\n",
       "    <tr style=\"text-align: right;\">\n",
       "      <th></th>\n",
       "      <th>Chromosome</th>\n",
       "      <th>Start</th>\n",
       "      <th>End</th>\n",
       "      <th>aCPM</th>\n",
       "      <th>length</th>\n",
       "    </tr>\n",
       "  </thead>\n",
       "  <tbody>\n",
       "    <tr>\n",
       "      <th>0</th>\n",
       "      <td>chr1</td>\n",
       "      <td>196463</td>\n",
       "      <td>196690</td>\n",
       "      <td>0.020576</td>\n",
       "      <td>227</td>\n",
       "    </tr>\n",
       "    <tr>\n",
       "      <th>1</th>\n",
       "      <td>chr1</td>\n",
       "      <td>778344</td>\n",
       "      <td>779188</td>\n",
       "      <td>0.261196</td>\n",
       "      <td>844</td>\n",
       "    </tr>\n",
       "    <tr>\n",
       "      <th>2</th>\n",
       "      <td>chr1</td>\n",
       "      <td>804610</td>\n",
       "      <td>805040</td>\n",
       "      <td>0.030428</td>\n",
       "      <td>430</td>\n",
       "    </tr>\n",
       "    <tr>\n",
       "      <th>3</th>\n",
       "      <td>chr1</td>\n",
       "      <td>826678</td>\n",
       "      <td>828112</td>\n",
       "      <td>0.310559</td>\n",
       "      <td>1434</td>\n",
       "    </tr>\n",
       "    <tr>\n",
       "      <th>4</th>\n",
       "      <td>chr1</td>\n",
       "      <td>845315</td>\n",
       "      <td>846495</td>\n",
       "      <td>0.102779</td>\n",
       "      <td>1180</td>\n",
       "    </tr>\n",
       "    <tr>\n",
       "      <th>...</th>\n",
       "      <td>...</td>\n",
       "      <td>...</td>\n",
       "      <td>...</td>\n",
       "      <td>...</td>\n",
       "      <td>...</td>\n",
       "    </tr>\n",
       "    <tr>\n",
       "      <th>69058</th>\n",
       "      <td>chrX</td>\n",
       "      <td>155819808</td>\n",
       "      <td>155820788</td>\n",
       "      <td>0.077330</td>\n",
       "      <td>980</td>\n",
       "    </tr>\n",
       "    <tr>\n",
       "      <th>69059</th>\n",
       "      <td>chrX</td>\n",
       "      <td>155880949</td>\n",
       "      <td>155881955</td>\n",
       "      <td>0.301123</td>\n",
       "      <td>1006</td>\n",
       "    </tr>\n",
       "    <tr>\n",
       "      <th>69060</th>\n",
       "      <td>chrX</td>\n",
       "      <td>155966905</td>\n",
       "      <td>155967397</td>\n",
       "      <td>0.063328</td>\n",
       "      <td>492</td>\n",
       "    </tr>\n",
       "    <tr>\n",
       "      <th>69061</th>\n",
       "      <td>chrX</td>\n",
       "      <td>156013630</td>\n",
       "      <td>156013912</td>\n",
       "      <td>0.084428</td>\n",
       "      <td>282</td>\n",
       "    </tr>\n",
       "    <tr>\n",
       "      <th>69062</th>\n",
       "      <td>chrX</td>\n",
       "      <td>156016358</td>\n",
       "      <td>156017191</td>\n",
       "      <td>0.100371</td>\n",
       "      <td>833</td>\n",
       "    </tr>\n",
       "  </tbody>\n",
       "</table>\n",
       "<p>69063 rows × 5 columns</p>\n",
       "</div>"
      ],
      "text/plain": [
       "      Chromosome      Start        End      aCPM  length\n",
       "0           chr1     196463     196690  0.020576     227\n",
       "1           chr1     778344     779188  0.261196     844\n",
       "2           chr1     804610     805040  0.030428     430\n",
       "3           chr1     826678     828112  0.310559    1434\n",
       "4           chr1     845315     846495  0.102779    1180\n",
       "...          ...        ...        ...       ...     ...\n",
       "69058       chrX  155819808  155820788  0.077330     980\n",
       "69059       chrX  155880949  155881955  0.301123    1006\n",
       "69060       chrX  155966905  155967397  0.063328     492\n",
       "69061       chrX  156013630  156013912  0.084428     282\n",
       "69062       chrX  156016358  156017191  0.100371     833\n",
       "\n",
       "[69063 rows x 5 columns]"
      ]
     },
     "execution_count": 11,
     "metadata": {},
     "output_type": "execute_result"
    }
   ],
   "source": [
    "peaks = processed_peaks\n",
    "peaks"
   ]
  },
  {
   "cell_type": "markdown",
   "metadata": {},
   "source": [
    "> This is the second interation of this code, intended to expand previosuly created files. Thus, I will be concatenating this output with a previous output. Skip this step if it's your first time running the code."
   ]
  },
  {
   "cell_type": "code",
   "execution_count": 10,
   "metadata": {},
   "outputs": [
    {
     "name": "stdout",
     "output_type": "stream",
     "text": [
      "Merged file saved as all_chromosomes_merged.atac.bed\n"
     ]
    }
   ],
   "source": [
    "import pandas as pd\n",
    "\n",
    "# Load both files\n",
    "file1 = \"all_chromosomes.atac.bed\"\n",
    "file2 = \"all_chromosomes_1.atac.bed\"\n",
    "\n",
    "# Read the files into pandas DataFrames\n",
    "df1 = pd.read_csv(file1, sep='\\t', header=None, names=[\"Chromosome\", \"Start\", \"End\", \"aCPM\"])\n",
    "df2 = pd.read_csv(file2, sep='\\t', header=None, names=[\"Chromosome\", \"Start\", \"End\", \"aCPM\"])\n",
    "\n",
    "# Merge the two DataFrames\n",
    "merged_df = pd.concat([df1, df2])\n",
    "\n",
    "# Ensure proper sorting\n",
    "merged_df = merged_df.sort_values(by=[\"Chromosome\", \"Start\", \"End\"])\n",
    "\n",
    "merged_df = merged_df.drop_duplicates()\n",
    "\n",
    "# Save the merged file\n",
    "output_file = \"all_chromosomes_merged.atac.bed\"\n",
    "merged_df.to_csv(output_file, sep='\\t', index=False, header=False)\n",
    "\n",
    "print(f\"Merged file saved as {output_file}\")"
   ]
  },
  {
   "cell_type": "code",
   "execution_count": 12,
   "metadata": {},
   "outputs": [
    {
     "name": "stdout",
     "output_type": "stream",
     "text": [
      "(135914, 4)\n"
     ]
    }
   ],
   "source": [
    "print(merged_df.shape)"
   ]
  },
  {
   "cell_type": "markdown",
   "metadata": {},
   "source": [
    "### FuXi Note:\n",
    "Now let's save the RNA csv files."
   ]
  },
  {
   "cell_type": "markdown",
   "metadata": {},
   "source": [
    "_This will be done later_  \n",
    "Gene expression file (.rna.csv) containing:  \n",
    "Gene names  \n",
    "Normalized expression values (TPM, 10^6 scale factor)"
   ]
  },
  {
   "cell_type": "markdown",
   "metadata": {},
   "source": [
    "First need to map gene_quantifications.tsv file to chromsomes using Homo_sapiens.gene_info from: https://ftp.ncbi.nlm.nih.gov/gene/DATA/GENE_INFO/Mammalia/Homo_sapiens.gene_info.gz"
   ]
  },
  {
   "cell_type": "markdown",
   "metadata": {},
   "source": [
    "### 📝 Step 1: Extract Ensembl Gene IDs (Without Version Numbers)\n",
    "The gene_id column in your gene_quantifications.tsv contains Ensembl IDs with version numbers. We need to strip the version numbers to match the format in the GTF file."
   ]
  },
  {
   "cell_type": "code",
   "execution_count": 14,
   "metadata": {},
   "outputs": [
    {
     "name": "stdout",
     "output_type": "stream",
     "text": [
      "Gene quantifications file with recalculated and log-transformed TPM values saved.\n",
      "             gene_id                                   transcript_id(s)  \\\n",
      "649  ENSG00000000003  ENST00000373020.8,ENST00000494424.1,ENST000004...   \n",
      "650  ENSG00000000005                ENST00000373031.4,ENST00000485971.1   \n",
      "651  ENSG00000000419  ENST00000371582.8,ENST00000371584.8,ENST000003...   \n",
      "652  ENSG00000000457  ENST00000367770.5,ENST00000367771.10,ENST00000...   \n",
      "653  ENSG00000000460  ENST00000286031.10,ENST00000359326.8,ENST00000...   \n",
      "\n",
      "      length  effective_length  expected_count       TPM   FPKM  \\\n",
      "649  2145.21           1967.00           115.0  0.870713   3.21   \n",
      "650   940.50            762.35             0.0  0.000000   0.00   \n",
      "651  1082.55            904.34          1429.0  1.907632  86.63   \n",
      "652  5059.78           4881.56           403.0  1.371371   4.53   \n",
      "653  2692.04           2513.83           390.0  1.357746   8.51   \n",
      "\n",
      "     posterior_mean_count  posterior_standard_deviation_of_count  pme_TPM  \\\n",
      "649                 115.0                                    0.0     1.48   \n",
      "650                   0.0                                    0.0     0.08   \n",
      "651                1429.0                                    0.0    36.05   \n",
      "652                 403.0                                    0.0     1.96   \n",
      "653                 390.0                                    0.0     3.77   \n",
      "\n",
      "     pme_FPKM  TPM_ci_lower_bound  TPM_ci_upper_bound  FPKM_ci_lower_bound  \\\n",
      "649      3.54            1.177480            1.768110             2.823700   \n",
      "650      0.20            0.001388            0.208162             0.003405   \n",
      "651     86.39           34.174800           37.920100            81.855800   \n",
      "652      4.71            1.693670            2.238960             4.072680   \n",
      "653      9.03            3.180030            4.379920             7.635790   \n",
      "\n",
      "     FPKM_ci_upper_bound  \n",
      "649             4.239240  \n",
      "650             0.499048  \n",
      "651            90.828800  \n",
      "652             5.379640  \n",
      "653            10.510700  \n"
     ]
    }
   ],
   "source": [
    "import pandas as pd\n",
    "\n",
    "# Define column names for gene quantifications file\n",
    "quant_cols = [\n",
    "    \"gene_id\", \"transcript_id(s)\", \"length\", \"effective_length\", \"expected_count\", \"TPM\",\n",
    "    \"FPKM\", \"posterior_mean_count\", \"posterior_standard_deviation_of_count\",\n",
    "    \"pme_TPM\", \"pme_FPKM\", \"TPM_ci_lower_bound\", \"TPM_ci_upper_bound\",\n",
    "    \"TPM_coefficient_of_quartile_variation\", \"FPKM_ci_lower_bound\",\n",
    "    \"FPKM_ci_upper_bound\", \"FPKM_coefficient_of_quartile_variation\"\n",
    "]\n",
    "\n",
    "#Contains reduced columns which is the case for some tsv files.\n",
    "quant_cols_2 = [\n",
    "    \"gene_id\", \"transcript_id(s)\", \"length\", \"effective_length\", \"expected_count\", \"TPM\",\n",
    "    \"FPKM\", \"posterior_mean_count\", \"posterior_standard_deviation_of_count\",\n",
    "    \"pme_TPM\", \"pme_FPKM\", \"TPM_ci_lower_bound\", \"TPM_ci_upper_bound\",\n",
    "    \"FPKM_ci_lower_bound\", \"FPKM_ci_upper_bound\"\n",
    "]\n",
    "\n",
    "# Load gene quantifications file\n",
    "gene_quant = pd.read_csv(\"gene_quantifications_2.tsv\", sep=\"\\t\", header=0, names=quant_cols_2, dtype={\"gene_id\": str})\n",
    "\n",
    "# Keep only rows where gene_id starts with 'ENSG' (filter for Ensembl IDs)\n",
    "gene_quant_ensembl = gene_quant[gene_quant[\"gene_id\"].str.startswith(\"ENSG\", na=False)].copy()\n",
    "\n",
    "# Remove version numbers from Ensembl Gene IDs\n",
    "gene_quant_ensembl[\"gene_id\"] = gene_quant_ensembl[\"gene_id\"].str.split(\".\").str[0]\n",
    "\n",
    "# Calculate normalized counts (TPM-like)\n",
    "counts = gene_quant_ensembl[\"expected_count\"]\n",
    "normalized_counts = np.log10(counts / counts.sum() * 1e6 + 1)\n",
    "\n",
    "# Apply log10 transformation (similar to the tutorial)\n",
    "gene_quant_ensembl[\"TPM\"] = normalized_counts\n",
    "\n",
    "# Save the cleaned Ensembl-only file with recalculated TPM values\n",
    "gene_quant_ensembl.to_csv(\"gene_quantifications_ensembl_only.tsv\", sep=\"\\t\", index=False)\n",
    "\n",
    "print(f\"Gene quantifications file with recalculated and log-transformed TPM values saved.\")\n",
    "print(gene_quant_ensembl.head())"
   ]
  },
  {
   "cell_type": "markdown",
   "metadata": {},
   "source": [
    "### 📝 Step 2: Process GTF File to Extract Ensembl IDs\n",
    "The GTF file (Homo_sapiens.GRCh38.113.gtf) contains Ensembl Gene IDs without version numbers, so we need to extract:\n",
    "\n",
    "Chromosome  \n",
    "Gene ID (Ensembl)  \n",
    "Gene Name  "
   ]
  },
  {
   "cell_type": "code",
   "execution_count": 15,
   "metadata": {},
   "outputs": [
    {
     "name": "stdout",
     "output_type": "stream",
     "text": [
      "Processed GTF file saved to: processed_gene_annotations.tsv\n"
     ]
    }
   ],
   "source": [
    "def process_gtf(gtf_file: str, output_file: str):\n",
    "    \"\"\"\n",
    "    Extracts Ensembl gene_id, gene_name, and chromosome from a GTF file.\n",
    "    Removes version numbers from gene_id.\n",
    "\n",
    "    Args:\n",
    "        gtf_file (str): Path to the **uncompressed** GTF file.\n",
    "        output_file (str): Path to save the cleaned file.\n",
    "    \"\"\"\n",
    "    data = []\n",
    "\n",
    "    # Open uncompressed GTF\n",
    "    with open(gtf_file, 'r') as f:\n",
    "        for line in f:\n",
    "            if line.startswith(\"#\"):\n",
    "                continue  # Skip header lines\n",
    "            \n",
    "            fields = line.strip().split(\"\\t\")\n",
    "            \n",
    "            # Ensure it's a gene entry\n",
    "            if fields[2] == \"gene\":\n",
    "                chrom = fields[0]  # Chromosome\n",
    "                attributes = fields[8]  # Metadata\n",
    "\n",
    "                # Extract gene_id and gene_name\n",
    "                gene_id = None\n",
    "                gene_name = None\n",
    "                for attr in attributes.split(\";\"):\n",
    "                    attr = attr.strip()\n",
    "                    if attr.startswith(\"gene_id\"):\n",
    "                        gene_id = attr.split('\"')[1].split(\".\")[0]  # Strip version (e.g., ENSG00000187634.14 → ENSG00000187634)\n",
    "                    elif attr.startswith(\"gene_name\"):\n",
    "                        gene_name = attr.split('\"')[1]  # Extract name\n",
    "\n",
    "                if gene_id and gene_name:\n",
    "                    data.append([chrom, gene_id, gene_name])\n",
    "\n",
    "    # Convert to DataFrame\n",
    "    df = pd.DataFrame(data, columns=[\"Chromosome\", \"Gene_ID\", \"Gene_Name\"])\n",
    "\n",
    "    # Normalize chromosome names (e.g., '1' -> 'chr1')\n",
    "    df[\"Chromosome\"] = df[\"Chromosome\"].apply(lambda x: f\"chr{x}\" if not x.startswith(\"chr\") else x)\n",
    "\n",
    "    # Save as a clean TSV\n",
    "    df.to_csv(output_file, sep=\"\\t\", index=False)\n",
    "\n",
    "    print(f\"Processed GTF file saved to: {output_file}\")\n",
    "\n",
    "# Example Usage\n",
    "process_gtf(\"Homo_sapiens.GRCh38.113.gtf\", \"processed_gene_annotations.tsv\")"
   ]
  },
  {
   "cell_type": "markdown",
   "metadata": {},
   "source": [
    "### 📝 Step 3: Merge Gene Quantifications with GTF Metadata\n",
    "Now that we have:\n",
    "\n",
    "- gene_quantifications_ensembl_only.tsv (gene expression data with Ensembl IDs only)\n",
    "- processed_gene_annotations.tsv (GTF metadata with Chromosome and Gene Name)  \n",
    "We can merge them based on gene_id."
   ]
  },
  {
   "cell_type": "code",
   "execution_count": 16,
   "metadata": {},
   "outputs": [
    {
     "name": "stdout",
     "output_type": "stream",
     "text": [
      "Final gene quantifications file saved with Chromosome, Gene_Name, and TPM.\n"
     ]
    }
   ],
   "source": [
    "# Load cleaned GTF metadata\n",
    "gtf_metadata = pd.read_csv(\"processed_gene_annotations.tsv\", sep=\"\\t\")\n",
    "\n",
    "# Load cleaned Ensembl-only gene quantifications file\n",
    "gene_quant_ensembl = pd.read_csv(\"gene_quantifications_ensembl_only.tsv\", sep=\"\\t\")\n",
    "\n",
    "# Merge gene quantifications with chromosome and gene name information\n",
    "merged_df = gene_quant_ensembl.merge(gtf_metadata, left_on=\"gene_id\", right_on=\"Gene_ID\", how=\"left\")\n",
    "\n",
    "# Keep only relevant columns: Chromosome, Gene_Name, TPM\n",
    "merged_df = merged_df[[\"Chromosome\", \"Gene_Name\", \"TPM\"]]\n",
    "\n",
    "# Drop NaN values (i.e., genes that didn't have chromosome mapping)\n",
    "merged_df = merged_df.dropna()\n",
    "\n",
    "# Save merged file\n",
    "merged_df.to_csv(\"gene_quantifications_with_chromosomes.tsv\", sep=\"\\t\", index=False)\n",
    "\n",
    "print(f\"Final gene quantifications file saved with Chromosome, Gene_Name, and TPM.\")"
   ]
  },
  {
   "cell_type": "code",
   "execution_count": 17,
   "metadata": {},
   "outputs": [
    {
     "name": "stdout",
     "output_type": "stream",
     "text": [
      "All TPM values saved in 'all_chromosomes.rna.csv', excluding alternative contigs.\n"
     ]
    }
   ],
   "source": [
    "import re\n",
    "import pandas as pd\n",
    "\n",
    "# Define a list of standard chromosomes (chr1-22, chrX, chrY, chrM)\n",
    "standard_chromosomes = {f\"chr{i}\" for i in range(1, 23)}.union({\"chrX\", \"chrY\", \"chrM\"})\n",
    "\n",
    "# Filter out non-standard chromosomes\n",
    "merged_df = merged_df[merged_df[\"Chromosome\"].isin(standard_chromosomes)]\n",
    "\n",
    "# Save all TPM values for all valid chromosomes into one file\n",
    "merged_df.to_csv(\"all_chromosomes.rna.csv\", index=False)\n",
    "\n",
    "print(f\"All TPM values saved in 'all_chromosomes.rna.csv', excluding alternative contigs.\")"
   ]
  },
  {
   "cell_type": "code",
   "execution_count": 18,
   "metadata": {},
   "outputs": [
    {
     "name": "stdout",
     "output_type": "stream",
     "text": [
      "(41352, 3)\n",
      "  Chromosome Gene_Name       TPM\n",
      "0       chrX    TSPAN6  0.870713\n",
      "1       chrX      TNMD  0.000000\n",
      "2      chr20      DPM1  1.907632\n",
      "3       chr1     SCYL3  1.371371\n",
      "4       chr1     FIRRM  1.357746\n"
     ]
    }
   ],
   "source": [
    "print(merged_df.shape)\n",
    "print(merged_df.head())"
   ]
  },
  {
   "cell_type": "markdown",
   "metadata": {},
   "source": [
    "Now to load in Entrez Gene Info too\n",
    "\n",
    "### 🔹 Step 1: Load & Process Entrez Gene Info\n",
    "The Homo_sapiens.gene_info file contains GeneID (Entrez ID), Symbol, and Chromosome."
   ]
  },
  {
   "cell_type": "code",
   "execution_count": 19,
   "metadata": {},
   "outputs": [
    {
     "name": "stdout",
     "output_type": "stream",
     "text": [
      "Processed and log-transformed Entrez gene quantifications saved. Rows: 69\n"
     ]
    }
   ],
   "source": [
    "import pandas as pd\n",
    "import numpy as np\n",
    "\n",
    "# Load gene quantifications file again to extract Entrez IDs\n",
    "gene_quant = pd.read_csv(\"gene_quantifications_2.tsv\", sep=\"\\t\", dtype={\"gene_id\": str})\n",
    "\n",
    "# Keep only rows where gene_id does NOT start with 'ENSG' (these are Entrez IDs)\n",
    "gene_quant_entrez = gene_quant[~gene_quant[\"gene_id\"].str.startswith(\"ENSG\", na=False)].copy()\n",
    "\n",
    "# Load the Entrez metadata file\n",
    "entrez_metadata = pd.read_csv(\"Homo_sapiens.gene_info\", sep=\"\\t\", dtype=str)\n",
    "\n",
    "# Keep only relevant columns and rename them\n",
    "entrez_metadata = entrez_metadata[[\"GeneID\", \"Symbol\", \"chromosome\"]].rename(columns={\n",
    "    \"GeneID\": \"gene_id\",  # Match column names for merging\n",
    "    \"Symbol\": \"gene_name\",\n",
    "    \"chromosome\": \"Chromosome\"\n",
    "})\n",
    "\n",
    "# Convert gene_id to string for safe merging\n",
    "gene_quant_entrez[\"gene_id\"] = gene_quant_entrez[\"gene_id\"].astype(str)\n",
    "entrez_metadata[\"gene_id\"] = entrez_metadata[\"gene_id\"].astype(str)\n",
    "\n",
    "# Merge Entrez gene quantifications with gene names & chromosome info\n",
    "merged_entrez = gene_quant_entrez.merge(entrez_metadata, on=\"gene_id\", how=\"left\")\n",
    "\n",
    "# Keep only necessary columns\n",
    "merged_entrez = merged_entrez[[\"Chromosome\", \"gene_name\", \"expected_count\"]].dropna(subset=[\"Chromosome\"])\n",
    "\n",
    "# Normalize expected counts to TPM-like values and apply log10 transformation\n",
    "counts = merged_entrez[\"expected_count\"]\n",
    "merged_entrez[\"TPM\"] = np.log10(counts / counts.sum() * 1e6 + 1)\n",
    "\n",
    "# Save processed and normalized Entrez-mapped data\n",
    "merged_entrez = merged_entrez[[\"Chromosome\", \"gene_name\", \"TPM\"]]  # Keep only relevant columns\n",
    "merged_entrez.to_csv(\"gene_quantifications_entrez.tsv\", sep=\"\\t\", index=False)\n",
    "\n",
    "print(f\"Processed and log-transformed Entrez gene quantifications saved. Rows: {merged_entrez.shape[0]}\")"
   ]
  },
  {
   "cell_type": "markdown",
   "metadata": {},
   "source": [
    "### 🔹 Step 2: Merge Entrez IDs with Existing Data\n",
    "Now we will merge the Entrez IDs into the processed gene quantifications file.\n",
    "\n",
    "&\n",
    "\n",
    "### 🔹 Step 3: Save TPM Values per Chromosome (Including Entrez IDs)\n",
    "Now that we have both Ensembl & Entrez genes mapped, let's save the TPM values per chromosome."
   ]
  },
  {
   "cell_type": "code",
   "execution_count": 20,
   "metadata": {},
   "outputs": [
    {
     "name": "stdout",
     "output_type": "stream",
     "text": [
      "Final gene quantifications file saved. Total rows: 41476\n"
     ]
    }
   ],
   "source": [
    "# Load Ensembl-processed file\n",
    "merged_ensembl = pd.read_csv(\"gene_quantifications_with_chromosomes.tsv\", sep=\"\\t\")\n",
    "\n",
    "# Load Entrez-processed file\n",
    "merged_entrez = pd.read_csv(\"gene_quantifications_entrez.tsv\", sep=\"\\t\")\n",
    "\n",
    "# **Append Entrez rows to Ensembl dataset**\n",
    "final_merged = pd.concat([merged_ensembl, merged_entrez], ignore_index=True)\n",
    "\n",
    "# Save the final merged dataset\n",
    "final_merged.to_csv(\"final_gene_quantifications.tsv\", sep=\"\\t\", index=False)\n",
    "\n",
    "print(f\"Final gene quantifications file saved. Total rows: {final_merged.shape[0]}\")"
   ]
  },
  {
   "cell_type": "code",
   "execution_count": 21,
   "metadata": {},
   "outputs": [
    {
     "name": "stdout",
     "output_type": "stream",
     "text": [
      "Index(['Chromosome', 'gene_name', 'TPM'], dtype='object')\n",
      "Rows remaining after filtering: 41352\n",
      "  Chromosome gene_name       TPM\n",
      "0       chrX    TSPAN6  0.870713\n",
      "1       chrX      TNMD  0.000000\n",
      "2      chr20      DPM1  1.907632\n",
      "3       chr1     SCYL3  1.371371\n",
      "4       chr1     FIRRM  1.357746\n",
      "Total rows saved: 41352\n"
     ]
    }
   ],
   "source": [
    "import pandas as pd\n",
    "\n",
    "# Load final processed dataset\n",
    "final_df = pd.read_csv(\"final_gene_quantifications.tsv\", sep=\"\\t\")\n",
    "\n",
    "# Drop duplicate 'gene_name' column if it exists\n",
    "if \"gene_name\" in final_df.columns and \"Gene_Name\" in final_df.columns:\n",
    "    final_df = final_df.drop(columns=[\"gene_name\"])\n",
    "\n",
    "# Rename `Gene_Name` to `gene_name`\n",
    "final_df = final_df.rename(columns={\"Gene_Name\": \"gene_name\"})\n",
    "\n",
    "# Check if rename worked\n",
    "print(final_df.columns)  # Confirm only one 'gene_name' column exists\n",
    "\n",
    "# Standard chromosomes\n",
    "standard_chromosomes = {f\"chr{i}\" for i in range(1, 23)}.union({\"chrX\", \"chrY\", \"chrM\"})\n",
    "\n",
    "# Filter out non-standard chromosomes\n",
    "filtered_df = final_df[final_df[\"Chromosome\"].isin(standard_chromosomes)]\n",
    "print(f\"Rows remaining after filtering: {filtered_df.shape[0]}\")\n",
    "\n",
    "# Ensure `gene_name` exists before processing\n",
    "print(filtered_df.head())\n",
    "\n",
    "# Use lowercase 'gene_name' and select relevant columns\n",
    "final_output = filtered_df[[\"gene_name\", \"TPM\"]]\n",
    "\n",
    "# Save all chromosomes into one file\n",
    "final_output.to_csv(\"all_chromosomes.rna.csv\", index=False)\n",
    "\n",
    "print(f\"Total rows saved: {final_output.shape[0]}\")"
   ]
  },
  {
   "cell_type": "markdown",
   "metadata": {},
   "source": [
    "> Merging RNA CSV files but averaging TPM values as they contain the same genes and I don't want duplicates. Skip if this is your first time running this code."
   ]
  },
  {
   "cell_type": "code",
   "execution_count": 30,
   "metadata": {},
   "outputs": [
    {
     "name": "stdout",
     "output_type": "stream",
     "text": [
      "Merged file saved as all_chromosomes_merged.rna.csv\n",
      "   gene_name       TPM\n",
      "0    5S_rRNA  0.000000\n",
      "1  5_8S_rRNA  0.070325\n",
      "2        7SK  0.397729\n",
      "3       A1BG  0.327853\n",
      "4   A1BG-AS1  0.930319\n"
     ]
    }
   ],
   "source": [
    "import pandas as pd\n",
    "\n",
    "# Load both datasets\n",
    "file3 = \"all_chromosomes.rna.csv\"\n",
    "file4 = \"all_chromosomes_1.rna.csv\"\n",
    "\n",
    "# Read the files into pandas DataFrames\n",
    "df1 = pd.read_csv(file3)\n",
    "df2 = pd.read_csv(file4)\n",
    "\n",
    "# Merge and calculate the average TPM for common genes\n",
    "merged_df = pd.concat([df1, df2]).groupby(\"gene_name\", as_index=False).mean()\n",
    "\n",
    "# Save the merged DataFrame\n",
    "output_file = \"all_chromosomes_merged.rna.csv\"\n",
    "merged_df.to_csv(output_file, index=False)\n",
    "\n",
    "# Print confirmation\n",
    "print(f\"Merged file saved as {output_file}\")\n",
    "print(merged_df.head())"
   ]
  },
  {
   "cell_type": "code",
   "execution_count": 31,
   "metadata": {},
   "outputs": [
    {
     "name": "stdout",
     "output_type": "stream",
     "text": [
      "(40905, 2)\n"
     ]
    }
   ],
   "source": [
    "print(merged_df.shape)"
   ]
  },
  {
   "cell_type": "markdown",
   "metadata": {},
   "source": [
    "## 3. Query motifs and save data as zarr files."
   ]
  },
  {
   "cell_type": "code",
   "execution_count": 30,
   "metadata": {},
   "outputs": [
    {
     "name": "stdout",
     "output_type": "stream",
     "text": [
      "tabix (htslib) 1.21\n",
      "Copyright (C) 2024 Genome Research Ltd.\n"
     ]
    }
   ],
   "source": [
    "# NOTE: tabix has to be >= 1.17\n",
    "! tabix --version"
   ]
  },
  {
   "cell_type": "code",
   "execution_count": 32,
   "metadata": {},
   "outputs": [
    {
     "name": "stdout",
     "output_type": "stream",
     "text": [
      "gcell currently using annotation directory: /home/users/u102501/.gcell_data/annotations\n"
     ]
    }
   ],
   "source": [
    "# Import the necessary libraries and modules\n",
    "import os\n",
    "from pathlib import Path\n",
    "\n",
    "# Import specific functions from the 'gcell._settings' module and 'preprocess_utils' module\n",
    "from gcell._settings import get_setting\n",
    "from preprocess_utils import (\n",
    "    add_atpm,        # Function to add ATPM (likely a type of data or calculation)\n",
    "    add_exp,         # Function to add expression data\n",
    "    create_peak_motif,  # Function to create peak motif data\n",
    "    download_motif,     # Function to download motif data\n",
    "    get_motif,          # Function to retrieve motif data\n",
    "    query_motif,        # Function to query motif data\n",
    ")\n",
    "\n",
    "# Get the annotation directory setting using the 'get_setting' function and convert it to a Path object\n",
    "annotation_dir = Path(get_setting('annotation_dir'))\n",
    "\n",
    "# Print the directory being used for annotations (retrieved from the configuration)\n",
    "print(\"gcell currently using annotation directory:\", annotation_dir)"
   ]
  },
  {
   "cell_type": "markdown",
   "metadata": {},
   "source": [
    "### Download motif bed file"
   ]
  },
  {
   "cell_type": "code",
   "execution_count": 33,
   "metadata": {},
   "outputs": [],
   "source": [
    "motif_bed_url = \"https://resources.altius.org/~jvierstra/projects/motif-clustering/releases/v1.0/hg38.archetype_motifs.v1.0.bed.gz\"\n",
    "motif_bed_index_url = \"https://resources.altius.org/~jvierstra/projects/motif-clustering/releases/v1.0/hg38.archetype_motifs.v1.0.bed.gz.tbi\"\n",
    "\n",
    "\n",
    "if (\n",
    "    motif_bed_url\n",
    "    and motif_bed_index_url\n",
    "    and not (\n",
    "        (annotation_dir / \"hg38.archetype_motifs.v1.0.bed.gz\").exists()\n",
    "        or (annotation_dir / \"hg38.archetype_motifs.v1.0.bed.gz.tbi\").exists()\n",
    "    )\n",
    "):\n",
    "    download_motif(motif_bed_url, motif_bed_index_url, motif_dir=annotation_dir)\n",
    "    motif_bed = str(annotation_dir / \"hg38.archetype_motifs.v1.0.bed.gz\")\n",
    "else:\n",
    "    motif_bed = str(annotation_dir / \"hg38.archetype_motifs.v1.0.bed.gz\")"
   ]
  },
  {
   "cell_type": "markdown",
   "metadata": {},
   "source": [
    "### Query Motif"
   ]
  },
  {
   "cell_type": "code",
   "execution_count": 34,
   "metadata": {},
   "outputs": [
    {
     "name": "stdout",
     "output_type": "stream",
     "text": [
      "Peak motif extraction completed. Results saved in get_motif.bed\n"
     ]
    }
   ],
   "source": [
    "peak_bed = \"all_chromosomes_merged.atac.bed\"  # Assuming peak files are named per chromosome\n",
    "\n",
    "if os.path.exists(peak_bed):  # Ensure the peak file exists\n",
    "        # Query motif file for the current chromosome's peak file\n",
    "        peaks_motif = query_motif(peak_bed, motif_bed)\n",
    "\n",
    "        # Process the queried motif data\n",
    "        motif_output = get_motif(peak_bed, peaks_motif)"
   ]
  },
  {
   "cell_type": "markdown",
   "metadata": {},
   "source": [
    "## 4. Create Peak Motif .Zarr File\n",
    "\n",
    "Create a peak x motif matrix stored in a zarr file. If you are working on multiple cell types with the same peak set, you can use the same peak bed and zarr file for all cell types.\n"
   ]
  },
  {
   "cell_type": "code",
   "execution_count": 35,
   "metadata": {},
   "outputs": [
    {
     "name": "stdout",
     "output_type": "stream",
     "text": [
      "Peak motif data saved to get_preprocess_output_merged.zarr\n"
     ]
    }
   ],
   "source": [
    "create_peak_motif(\"get_motif.bed\", \"get_preprocess_output_merged.zarr\", peak_bed)"
   ]
  },
  {
   "cell_type": "markdown",
   "metadata": {},
   "source": [
    "### Add aCPM data to region x motif matrix\n",
    "\n",
    "For each cell type, we will save it's aCPM values to the pbmc10k_multiome.zarr/atpm/{celltype}/ folder"
   ]
  },
  {
   "cell_type": "code",
   "execution_count": null,
   "metadata": {},
   "outputs": [],
   "source": [
    "#The following chromosomes have more than 100 peaks and a total read count > 3M, adding them to chromosomes_for_modeling:\n",
    "#chr1 number of peaks: 6216, library size: 2882439\n",
    "#chr10 number of peaks: 3295, library size: 1256758\n",
    "#chr11 number of peaks: 3048, library size: 1440440\n",
    "#chr12 number of peaks: 3188, library size: 1476326\n",
    "#chr14 number of peaks: 2568, library size: 1311225\n",
    "#chr15 number of peaks: 2647, library size: 1269800\n",
    "#chr16 number of peaks: 2641, library size: 1505808\n",
    "#chr17 number of peaks: 3623, library size: 2496513\n",
    "#chr19 number of peaks: 2753, library size: 1657151\n",
    "#chr2 number of peaks: 5191, library size: 2083561\n",
    "#chr20 number of peaks: 2729, library size: 1899695\n",
    "#chr3 number of peaks: 4103, library size: 1732083\n",
    "#chr5 number of peaks: 3642, library size: 1556015\n",
    "#chr6 number of peaks: 3650, library size: 1456372\n",
    "#chr7 number of peaks: 3542, library size: 1683685\n",
    "#chr8 number of peaks: 3147, library size: 1518449\n",
    "#chr9 number of peaks: 2734, library size: 1265348"
   ]
  },
  {
   "cell_type": "code",
   "execution_count": 36,
   "metadata": {},
   "outputs": [
    {
     "name": "stdout",
     "output_type": "stream",
     "text": [
      "       Chromosome      Start        End      aTPM                      Name\n",
      "0            chr1     196463     196690  0.020576        chr1:196463-196690\n",
      "1            chr1     778344     779182  0.263836        chr1:778344-779182\n",
      "2            chr1     778344     779188  0.261196        chr1:778344-779188\n",
      "3            chr1     804610     805040  0.030428        chr1:804610-805040\n",
      "4            chr1     826678     828112  0.310559        chr1:826678-828112\n",
      "...           ...        ...        ...       ...                       ...\n",
      "135909       chrX  155966907  155967513  0.066002  chrX:155966907-155967513\n",
      "135910       chrX  156013435  156013968  0.094441  chrX:156013435-156013968\n",
      "135911       chrX  156013630  156013912  0.084428  chrX:156013630-156013912\n",
      "135912       chrX  156016358  156017191  0.100371  chrX:156016358-156017191\n",
      "135913       chrX  156016577  156017163  0.093171  chrX:156016577-156017163\n",
      "\n",
      "[135914 rows x 5 columns]\n"
     ]
    }
   ],
   "source": [
    "add_atpm(\n",
    "        \"get_preprocess_output_merged.zarr\",\n",
    "        \"all_chromosomes_merged.atac.bed\",\n",
    "        \"all_chrs\",\n",
    "    )"
   ]
  },
  {
   "cell_type": "markdown",
   "metadata": {},
   "source": [
    "### Add Expression and TSS Data to Region x Motif Matrix"
   ]
  },
  {
   "cell_type": "code",
   "execution_count": 37,
   "metadata": {},
   "outputs": [
    {
     "name": "stderr",
     "output_type": "stream",
     "text": [
      "join: Strand data from other will be added as strand data to self.\n",
      "If this is undesired use the flag apply_strand_suffix=False.\n",
      "To turn off the warning set apply_strand_suffix to True or False.\n",
      "/project/home/p200469/get_BIO1018/preprocess_utils/preprocess_utils.py:338: FutureWarning: The default of observed=False is deprecated and will be changed to True in a future version of pandas. Pass observed=False to retain current behavior or observed=True to adopt the future default and silence this warning.\n",
      "  .groupby([\"index\", \"Strand\"])\n"
     ]
    }
   ],
   "source": [
    "add_exp(\n",
    "        \"get_preprocess_output_merged.zarr\",  # Zarr file \n",
    "        \"all_chromosomes_merged.rna.csv\",  # RNA file\n",
    "        \"all_chromosomes_merged.atac.bed\",  # ATAC file\n",
    "        \"all_chrs\",  # Chromosome name\n",
    "        assembly=\"hg38\",\n",
    "        version=44,\n",
    "        extend_bp=300,  # Extend TSS region to 300bp upstream and downstream when overlapping with peaks\n",
    "        id_or_name=\"gene_name\",  # Use 'gene_name' from RNA data\n",
    "    )"
   ]
  },
  {
   "cell_type": "markdown",
   "metadata": {},
   "source": [
    "### FuXi Note:"
   ]
  },
  {
   "cell_type": "markdown",
   "metadata": {},
   "source": [
    "This has conclude the data processing steps."
   ]
  }
 ],
 "metadata": {
  "kernelspec": {
   "display_name": "Python 3 (ipykernel)",
   "language": "python",
   "name": "python3"
  },
  "language_info": {
   "codemirror_mode": {
    "name": "ipython",
    "version": 3
   },
   "file_extension": ".py",
   "mimetype": "text/x-python",
   "name": "python",
   "nbconvert_exporter": "python",
   "pygments_lexer": "ipython3",
   "version": "3.12.8"
  },
  "orig_nbformat": 4
 },
 "nbformat": 4,
 "nbformat_minor": 2
}
